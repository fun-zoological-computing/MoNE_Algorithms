{
 "cells": [
  {
   "cell_type": "markdown",
   "metadata": {},
   "source": [
    "# Why Brian2\n",
    "* Sparse\n",
    "* can be converted to fast cpp CUDA code and run on Nvidia Nano.\n",
    "\n",
    "\n",
    "## Time surfaces\n",
    "\n",
    "* give brian2 an Event based property\n",
    "* Applied Biological\n",
    "* Jobs differential equations\n",
    "\n",
    "\n",
    "I can recommend these materials:\n",
    " \n",
    "Book (free online version) Chapter 2 only:\n",
    "https://neuronaldynamics.epfl.ch/online/index.html\n",
    "\n",
    "Exercises based on the book:\n",
    "https://neuronaldynamics-exercises.readthedocs.io/en/latest/\n",
    "\n",
    "Tutorials:\n",
    "https://github.com/brian-team/brian2/tree/master/tutorials\n",
    " \n",
    "Slides only (not the code, or code exercises):\n",
    "https://compneuro.neuromatch.io/tutorials/W2D3_BiologicalNeuronModels/student/W2D3_Tutorial1.html\n",
    " \n",
    "The class tutorial I make will be based on all four sources I think."
   ]
  },
  {
   "cell_type": "markdown",
   "metadata": {},
   "source": [
    "![wsu_branding.jpg](wsu_branding.jpg)"
   ]
  },
  {
   "cell_type": "markdown",
   "metadata": {},
   "source": [
    "![](trees.png)"
   ]
  },
  {
   "cell_type": "markdown",
   "metadata": {},
   "source": []
  },
  {
   "cell_type": "code",
   "execution_count": 11,
   "metadata": {},
   "outputs": [],
   "source": [
    "from brian2 import *\n",
    "import plotly\n",
    "from brian2 import NeuronGroup, SpikeMonitor, StateMonitor, run\n",
    "from brian2.units import ms\n",
    "import plotly.express as px\n",
    "import pandas as pd\n",
    "from ipywidgets import Button, Layout\n",
    "import ipywidgets\n",
    "%matplotlib inline\n",
    "start_scope()\n",
    "\n",
    "\n",
    "\n"
   ]
  },
  {
   "cell_type": "markdown",
   "metadata": {},
   "source": [
    "![](water_analogy.png)"
   ]
  },
  {
   "cell_type": "markdown",
   "metadata": {},
   "source": [
    "# First we will simulate a LIF neuron \n",
    "the easy way using Brian2, so we know we have something to compare with\n"
   ]
  },
  {
   "cell_type": "markdown",
   "metadata": {},
   "source": [
    "In this tutorial we will.\n",
    "\n",
    "* solve the LIF neuron using scikit learn\n",
    "\n",
    "* show it with LIF widget, and LIF plotly. \n",
    "\n",
    "Fit LIF to music, with a FB never grad.\n",
    "\n",
    "* Conceptualize what is necessary to \n",
    "\n",
    "On the time-grid of of stepsize $\\Delta t$, the dynamics of Eqn. (1) is discretized to be \n",
    "\n",
    "\\begin{eqnarray}\n",
    "\\tau_m \\frac{\\Delta V_n}{\\Delta t} &=& -(V_n-V_L) +\\frac{I_n}{g_L},\n",
    "\\end{eqnarray}\n",
    "\n",
    "where $V_n = V(n\\Delta t)$, and $I_n=I(n\\Delta t)$. \n",
    "\n",
    "Then the updating process of $V_{n+1}$ at time $t_{n+1}=(n+1)\\Delta t$ based on $V_{n}$ can be formed as \n",
    "\n",
    "\\begin{eqnarray}\n",
    "V_{n+1} &=& V_n+ \\Delta V_n \\\\\n",
    "\\Delta V_n &=&  \\left(-(V_n-V_L) +\\frac{I}{g_L}\\right)\\frac{\\Delta t}{\\tau_m} \\qquad (2)\n",
    "\\end{eqnarray}\n"
   ]
  },
  {
   "cell_type": "code",
   "execution_count": 58,
   "metadata": {},
   "outputs": [
    {
     "name": "stderr",
     "output_type": "stream",
     "text": [
      "WARNING    <ipython-input-58-506dc592240e>:2: NumbaWarning:\n",
      "\n",
      "\u001b[1m\n",
      "Compilation is falling back to object mode WITH looplifting enabled because Function \"run_LIF\" failed type inference due to: \u001b[1m\u001b[1mnon-precise type pyobject\u001b[0m\n",
      "\u001b[0m\u001b[1m[1] During: typing of argument at <ipython-input-58-506dc592240e> (19)\u001b[0m\n",
      "\u001b[1m\n",
      "File \"<ipython-input-58-506dc592240e>\", line 19:\u001b[0m\n",
      "\u001b[1mdef run_LIF(pars, Iinj, stop=False):\n",
      "    <source elided>\n",
      "  # Set parameters\n",
      "\u001b[1m  V_th, V_reset = pars['V_th'], pars['V_reset']\n",
      "\u001b[0m  \u001b[1m^\u001b[0m\u001b[0m\n",
      "\u001b[0m\n",
      "\n",
      " [py.warnings]\n",
      "WARNING    <ipython-input-58-506dc592240e>:2: NumbaWarning:\n",
      "\n",
      "\u001b[1m\n",
      "Compilation is falling back to object mode WITHOUT looplifting enabled because Function \"run_LIF\" failed type inference due to: \u001b[1m\u001b[1mcannot determine Numba type of <class 'numba.dispatcher.LiftedLoop'>\u001b[0m\n",
      "\u001b[1m\n",
      "File \"<ipython-input-58-506dc592240e>\", line 42:\u001b[0m\n",
      "\u001b[1mdef run_LIF(pars, Iinj, stop=False):\n",
      "    <source elided>\n",
      "  #times = [it for it in range(Lt - 2)]\n",
      "\u001b[1m  for it in range(Lt - 2):\n",
      "\u001b[0m  \u001b[1m^\u001b[0m\u001b[0m\n",
      "\u001b[0m\u001b[0m\n",
      "\n",
      " [py.warnings]\n",
      "WARNING    /home/user/anaconda3/lib/python3.7/site-packages/numba/compiler.py:742: NumbaWarning:\n",
      "\n",
      "\u001b[1mFunction \"run_LIF\" was compiled in object mode without forceobj=True, but has lifted loops.\n",
      "\u001b[1m\n",
      "File \"<ipython-input-58-506dc592240e>\", line 3:\u001b[0m\n",
      "\u001b[1m@numba.jit\n",
      "\u001b[1mdef run_LIF(pars, Iinj, stop=False):\n",
      "\u001b[0m\u001b[1m^\u001b[0m\u001b[0m\n",
      "\u001b[0m\n",
      "\n",
      " [py.warnings]\n",
      "WARNING    /home/user/anaconda3/lib/python3.7/site-packages/numba/compiler.py:751: NumbaDeprecationWarning:\n",
      "\n",
      "\u001b[1m\n",
      "Fall-back from the nopython compilation path to the object mode compilation path has been detected, this is deprecated behaviour.\n",
      "\n",
      "For more information visit http://numba.pydata.org/numba-doc/latest/reference/deprecation.html#deprecation-of-object-mode-fall-back-behaviour-when-using-jit\n",
      "\u001b[1m\n",
      "File \"<ipython-input-58-506dc592240e>\", line 3:\u001b[0m\n",
      "\u001b[1m@numba.jit\n",
      "\u001b[1mdef run_LIF(pars, Iinj, stop=False):\n",
      "\u001b[0m\u001b[1m^\u001b[0m\u001b[0m\n",
      "\u001b[0m\n",
      "\n",
      " [py.warnings]\n",
      "WARNING    <ipython-input-58-506dc592240e>:2: NumbaWarning:\n",
      "\n",
      "\u001b[1m\n",
      "Compilation is falling back to object mode WITHOUT looplifting enabled because Function \"run_LIF\" failed type inference due to: \u001b[1m\u001b[1mnon-precise type pyobject\u001b[0m\n",
      "\u001b[0m\u001b[1m[1] During: typing of argument at <ipython-input-58-506dc592240e> (42)\u001b[0m\n",
      "\u001b[1m\n",
      "File \"<ipython-input-58-506dc592240e>\", line 42:\u001b[0m\n",
      "\u001b[1mdef run_LIF(pars, Iinj, stop=False):\n",
      "    <source elided>\n",
      "  #times = [it for it in range(Lt - 2)]\n",
      "\u001b[1m  for it in range(Lt - 2):\n",
      "\u001b[0m  \u001b[1m^\u001b[0m\u001b[0m\n",
      "\u001b[0m\n",
      "\n",
      " [py.warnings]\n",
      "WARNING    /home/user/anaconda3/lib/python3.7/site-packages/numba/compiler.py:742: NumbaWarning:\n",
      "\n",
      "\u001b[1mFunction \"run_LIF\" was compiled in object mode without forceobj=True.\n",
      "\u001b[1m\n",
      "File \"<ipython-input-58-506dc592240e>\", line 42:\u001b[0m\n",
      "\u001b[1mdef run_LIF(pars, Iinj, stop=False):\n",
      "    <source elided>\n",
      "  #times = [it for it in range(Lt - 2)]\n",
      "\u001b[1m  for it in range(Lt - 2):\n",
      "\u001b[0m  \u001b[1m^\u001b[0m\u001b[0m\n",
      "\u001b[0m\n",
      "\n",
      " [py.warnings]\n",
      "WARNING    /home/user/anaconda3/lib/python3.7/site-packages/numba/compiler.py:751: NumbaDeprecationWarning:\n",
      "\n",
      "\u001b[1m\n",
      "Fall-back from the nopython compilation path to the object mode compilation path has been detected, this is deprecated behaviour.\n",
      "\n",
      "For more information visit http://numba.pydata.org/numba-doc/latest/reference/deprecation.html#deprecation-of-object-mode-fall-back-behaviour-when-using-jit\n",
      "\u001b[1m\n",
      "File \"<ipython-input-58-506dc592240e>\", line 42:\u001b[0m\n",
      "\u001b[1mdef run_LIF(pars, Iinj, stop=False):\n",
      "    <source elided>\n",
      "  #times = [it for it in range(Lt - 2)]\n",
      "\u001b[1m  for it in range(Lt - 2):\n",
      "\u001b[0m  \u001b[1m^\u001b[0m\u001b[0m\n",
      "\u001b[0m\n",
      "\n",
      " [py.warnings]\n"
     ]
    },
    {
     "data": {
      "image/png": "[encoded data removed]",
      "text/plain": [
       "<Figure size 432x288 with 1 Axes>"
      ]
     },
     "metadata": {
      "needs_background": "light"
     },
     "output_type": "display_data"
    }
   ],
   "source": [
    "import numba\n",
    "@numba.jit\n",
    "def run_LIF(pars, Iinj, stop=False):\n",
    "  \"\"\"\n",
    "  Simulate the LIF dynamics with external input current\n",
    "\n",
    "  Args:\n",
    "    pars       : parameter dictionary\n",
    "    Iinj       : input current [pA]. The injected current here can be a value\n",
    "                 or an array\n",
    "    stop       : boolean. If True, use a current pulse\n",
    "\n",
    "  Returns:\n",
    "    rec_v      : membrane potential\n",
    "    rec_sp     : spike times\n",
    "  \"\"\"\n",
    "\n",
    "  # Set parameters\n",
    "  V_th, V_reset = pars['V_th'], pars['V_reset']\n",
    "  tau_m, g_L = pars['tau_m'], pars['g_L']\n",
    "  V_init, E_L = pars['V_init'], pars['E_L']\n",
    "  dt, range_t = pars['dt'], pars['range_t']\n",
    "  Lt = range_t.size\n",
    "  tref = pars['tref']\n",
    "\n",
    "  # Initialize voltage\n",
    "  v = np.zeros(Lt)\n",
    "  v[0] = V_init\n",
    "\n",
    "  # Set current time course\n",
    "  Iinj = Iinj * np.ones(Lt)\n",
    "\n",
    "  # If current pulse, set beginning and end to 0\n",
    "  if stop:\n",
    "    Iinj[:int(len(Iinj) / 2) - 1000] = 0\n",
    "    Iinj[int(len(Iinj) / 2) + 1000:] = 0\n",
    "  #print(Iinj)\n",
    "  # Loop over time\n",
    "  rec_spikes = []  # record spike times\n",
    "  tr = 0.  # the count for refractory duration\n",
    "  #times = [it for it in range(Lt - 2)]\n",
    "  for it in range(Lt - 2):\n",
    "\n",
    "\n",
    "    if tr > 0:  # check if in refractory period\n",
    "      v[it] = V_reset  # set voltage to reset\n",
    "      tr = tr - 1 # reduce running counter of refractory period\n",
    "    elif v[it] >= V_th:  # if voltage over threshold\n",
    "      rec_spikes.append(it)  # record spike event\n",
    "      v[it] = V_reset  # reset voltage\n",
    "\n",
    "      tr = tref / dt  # set refractory time\n",
    "    # Calculate the increment of the membrane potential\n",
    "    dv = (-(v[it]-E_L) + (Iinj[it]/g_L))*(dt/tau_m)\n",
    "    # Update the membrane potential\n",
    "    v[it + 1] = v[it] + dv\n",
    "\n",
    "    ########################################################################\n",
    "    ## TODO for students: compute the membrane potential v, spike train sp #\n",
    "    # Fill out function and remove\n",
    "    #raise NotImplementedError('Student Exercise: calculate the dv/dt and the update step!')\n",
    "    ########################################################################\n",
    "\n",
    "    \n",
    "\n",
    "  # Get spike times in ms\n",
    "  rec_spikes = np.array(rec_spikes) * dt\n",
    "    \n",
    "  return v, rec_spikes#, times\n",
    "\n",
    "def default_pars(**kwargs):\n",
    "  pars = {}\n",
    "\n",
    "  # typical neuron parameters#\n",
    "  pars['V_th'] = -55.     # spike threshold [mV]\n",
    "  pars['V_reset'] = -75.  # reset potential [mV]\n",
    "  pars['tau_m'] = 10.     # membrane time constant [ms]\n",
    "  pars['g_L'] = 10.       # leak conductance [nS]\n",
    "  pars['V_init'] = -75.   # initial potential [mV]\n",
    "  pars['E_L'] = -75.      # leak reversal potential [mV]\n",
    "  pars['tref'] = 2.       # refractory time (ms)\n",
    "\n",
    "  # simulation parameters #\n",
    "  pars['T'] = 440.  # Total duration of simulation [ms]\n",
    "  pars['dt'] = .1   # Simulation time step [ms]\n",
    "\n",
    "  # external parameters if any #\n",
    "  for k in kwargs:\n",
    "    pars[k] = kwargs[k]\n",
    "\n",
    "  pars['range_t'] = np.arange(0, pars['T'], pars['dt'])  # Vector of discretized time points [ms]\n",
    "\n",
    "  return pars\n",
    "\n",
    "\n",
    "pars = default_pars()\n",
    "\n",
    "# Get parameters\n",
    "#pars = default_pars(T=500)\n",
    "\n",
    "# Simulate LIF model\n",
    "v, sp = run_LIF(pars, Iinj=210, stop=True)\n",
    "\n",
    "# Visualize\n",
    "\n",
    "#def plot_volt_trace(v,times):\n",
    "#    print(len(v))\n",
    "#    print(len(times))\n",
    "\n",
    "#    plotly.express.line(x=times,y=v)\n",
    "\n",
    "def plot_volt_trace(pars, v, sp):\n",
    "  \"\"\"\n",
    "  Plot trajetory of membrane potential for a single neuron\n",
    "\n",
    "  Expects:\n",
    "  pars   : parameter dictionary\n",
    "  v      : volt trajetory\n",
    "  sp     : spike train\n",
    "\n",
    "  Returns:\n",
    "  figure of the membrane potential trajetory for a single neuron\n",
    "  \"\"\"\n",
    "\n",
    "  V_th = pars['V_th']\n",
    "  dt, range_t = pars['dt'], pars['range_t']\n",
    "  if sp.size:\n",
    "    sp_num = (sp / dt).astype(int) - 1\n",
    "    v[sp_num] += 20  # draw nicer spikes\n",
    "\n",
    "  plt.plot(pars['range_t'], v, 'b')\n",
    "  plt.axhline(V_th, 0, 1, color='k', ls='--')\n",
    "  plt.xlabel('Time (ms)')\n",
    "  plt.ylabel('V (mV)')\n",
    "  plt.legend(['Membrane\\npotential', r'Threshold V$_{\\mathrm{th}}$'],\n",
    "             loc=[1.05, 0.75])\n",
    "  plt.ylim([-80, -40])\n",
    "\n",
    "plot_volt_trace(pars, v, sp)\n",
    "\n"
   ]
  },
  {
   "cell_type": "code",
   "execution_count": 59,
   "metadata": {},
   "outputs": [
    {
     "data": {
      "application/vnd.jupyter.widget-view+json": {
       "model_id": "f45a399155cf4a03966045f2c04072f4",
       "version_major": 2,
       "version_minor": 0
      },
      "text/plain": [
       "interactive(children=(FloatSlider(value=50.0, description='I_dc', layout=Layout(height='80px', width='50%'), m…"
      ]
     },
     "metadata": {},
     "output_type": "display_data"
    }
   ],
   "source": [
    "\n",
    "my_layout=Layout(width='50%', height='80px')\n",
    "#my_layout.width = '450px'\n",
    "@ipywidgets.interact(\n",
    "    I_dc=ipywidgets.FloatSlider(50., min=0., max=300., step=1.,\n",
    "                               layout=my_layout),\n",
    "    tau_m=ipywidgets.FloatSlider(10., min=2., max=20., step=2.,\n",
    "                                layout=my_layout)\n",
    ")\n",
    "\n",
    "def diff_DC(I_dc=200., tau_m=10.):\n",
    "  pars = default_pars(T=1000.)\n",
    "  pars['tau_m'] = tau_m\n",
    "  v, sp = run_LIF(pars, Iinj=I_dc)\n",
    "  plot_volt_trace(pars, v, sp)\n",
    "  plt.show()"
   ]
  },
  {
   "cell_type": "code",
   "execution_count": 42,
   "metadata": {},
   "outputs": [
    {
     "name": "stderr",
     "output_type": "stream",
     "text": [
      "WARNING    \"v\" is an internal variable of group \"neurongroup_1\", but also exists in the run namespace with the value array([-75., -75., -75., ...,   0.,   0.,   0.]). The internal variable will be used. [brian2.groups.group.Group.resolve.resolution_conflict]\n"
     ]
    },
    {
     "data": {
      "application/vnd.plotly.v1+json": {
       "config": {
        "plotlyServerURL": "https://plot.ly"
       },
       "data": [
        {
         "hoverlabel": {
          "namelength": 0
         },
         "hovertemplate": "t=%{x}<br>v=%{y}",
         "legendgroup": "",
         "line": {
          "color": "#636efa",
          "dash": "solid"
         },
         "mode": "lines",
         "name": "",
         "showlegend": false,
         "type": "scatter",
         "x": [
          0,
          0.1,
          0.2,
          0.30000000000000004,
          0.4,
          0.5,
          0.6000000000000001,
          0.7,
          0.8,
          0.9,
          1,
          1.1,
          1.2000000000000002,
          1.3,
          1.4,
          1.5,
          1.6,
          1.7000000000000002,
          1.8,
          1.9,
          2,
          2.1,
          2.2,
          2.3,
          2.4000000000000004,
          2.5,
          2.6,
          2.7,
          2.8,
          2.9000000000000004,
          3,
          3.1,
          3.2,
          3.3,
          3.4000000000000004,
          3.5,
          3.6,
          3.7,
          3.8,
          3.9000000000000004,
          4,
          4.1000000000000005,
          4.2,
          4.3,
          4.4,
          4.5,
          4.6,
          4.7,
          4.800000000000001,
          4.8999999999999995,
          5,
          5.1000000000000005,
          5.2,
          5.3,
          5.4,
          5.5,
          5.6,
          5.7,
          5.800000000000001,
          5.8999999999999995,
          6,
          6.1000000000000005,
          6.2,
          6.3,
          6.4,
          6.5,
          6.6,
          6.7,
          6.800000000000001,
          6.9,
          7,
          7.1000000000000005,
          7.2,
          7.3,
          7.4,
          7.5,
          7.6,
          7.7,
          7.800000000000001,
          7.9,
          8,
          8.1,
          8.200000000000001,
          8.3,
          8.4,
          8.5,
          8.6,
          8.700000000000001,
          8.8,
          8.9,
          9,
          9.1,
          9.2,
          9.3,
          9.4,
          9.5,
          9.600000000000001,
          9.7,
          9.799999999999999,
          9.9,
          10,
          10.100000000000001,
          10.200000000000001,
          10.3,
          10.4,
          10.5,
          10.6,
          10.700000000000001,
          10.8,
          10.9,
          11,
          11.1,
          11.2,
          11.3,
          11.4,
          11.5,
          11.600000000000001,
          11.7,
          11.799999999999999,
          11.9,
          12,
          12.100000000000001,
          12.200000000000001,
          12.3,
          12.4,
          12.5,
          12.6,
          12.700000000000001,
          12.8,
          12.9,
          13,
          13.1,
          13.2,
          13.3,
          13.4,
          13.5,
          13.600000000000001,
          13.7,
          13.8,
          13.9,
          14,
          14.100000000000001,
          14.200000000000001,
          14.3,
          14.4,
          14.5,
          14.6,
          14.700000000000001,
          14.8,
          14.9,
          15,
          15.1,
          15.2,
          15.3,
          15.4,
          15.5,
          15.600000000000001,
          15.700000000000001,
          15.8,
          15.9,
          16,
          16.099999999999998,
          16.2,
          16.3,
          16.400000000000002,
          16.5,
          16.6,
          16.7,
          16.8,
          16.900000000000002,
          17,
          17.1,
          17.2,
          17.3,
          17.400000000000002,
          17.5,
          17.6,
          17.7,
          17.8,
          17.9,
          18,
          18.1,
          18.2,
          18.3,
          18.4,
          18.500000000000004,
          18.6,
          18.7,
          18.8,
          18.9,
          19,
          19.1,
          19.200000000000003,
          19.3,
          19.4,
          19.5,
          19.599999999999998,
          19.700000000000003,
          19.8,
          19.900000000000002,
          20,
          20.099999999999998,
          20.200000000000003,
          20.3,
          20.400000000000002,
          20.5,
          20.6,
          20.7,
          20.8,
          20.900000000000002,
          21,
          21.1,
          21.2,
          21.3,
          21.400000000000002,
          21.5,
          21.6,
          21.7,
          21.8,
          21.9,
          22,
          22.1,
          22.2,
          22.3,
          22.4,
          22.500000000000004,
          22.6,
          22.7,
          22.8,
          22.9,
          23,
          23.1,
          23.200000000000003,
          23.3,
          23.4,
          23.5,
          23.599999999999998,
          23.700000000000003,
          23.8,
          23.900000000000002,
          24,
          24.099999999999998,
          24.200000000000003,
          24.3,
          24.400000000000002,
          24.5,
          24.6,
          24.7,
          24.8,
          24.900000000000002,
          25,
          25.1,
          25.2,
          25.3,
          25.400000000000002,
          25.5,
          25.6,
          25.7,
          25.8,
          25.900000000000002,
          26,
          26.1,
          26.2,
          26.3,
          26.4,
          26.500000000000004,
          26.6,
          26.7,
          26.8,
          26.9,
          27,
          27.1,
          27.200000000000003,
          27.3,
          27.4,
          27.5,
          27.6,
          27.700000000000003,
          27.8,
          27.900000000000002,
          28,
          28.099999999999998,
          28.200000000000003,
          28.3,
          28.400000000000002,
          28.5,
          28.6,
          28.7,
          28.8,
          28.900000000000002,
          29,
          29.1,
          29.2,
          29.300000000000004,
          29.400000000000002,
          29.5,
          29.6,
          29.7,
          29.8,
          29.900000000000002,
          30,
          30.1,
          30.2,
          30.3,
          30.4,
          30.500000000000004,
          30.6,
          30.7,
          30.8,
          30.9,
          31,
          31.1,
          31.200000000000003,
          31.3,
          31.400000000000002,
          31.5,
          31.6,
          31.7,
          31.8,
          31.900000000000006,
          32,
          32.1,
          32.199999999999996,
          32.300000000000004,
          32.4,
          32.5,
          32.6,
          32.699999999999996,
          32.800000000000004,
          32.9,
          33,
          33.1,
          33.2,
          33.300000000000004,
          33.4,
          33.5,
          33.6,
          33.7,
          33.800000000000004,
          33.9,
          34,
          34.099999999999994,
          34.2,
          34.300000000000004,
          34.4,
          34.5,
          34.6,
          34.7,
          34.800000000000004,
          34.9,
          35,
          35.1,
          35.2,
          35.300000000000004,
          35.4,
          35.5,
          35.6,
          35.7,
          35.8,
          35.9,
          36,
          36.1,
          36.2,
          36.3,
          36.4,
          36.50000000000001,
          36.6,
          36.7,
          36.8,
          36.9,
          37.00000000000001,
          37.1,
          37.2,
          37.3,
          37.4,
          37.5,
          37.6,
          37.7,
          37.8,
          37.900000000000006,
          38,
          38.1,
          38.2,
          38.3,
          38.400000000000006,
          38.5,
          38.6,
          38.7,
          38.8,
          38.900000000000006,
          39,
          39.1,
          39.199999999999996,
          39.300000000000004,
          39.400000000000006,
          39.5,
          39.6,
          39.699999999999996,
          39.800000000000004,
          39.900000000000006,
          40,
          40.1,
          40.199999999999996,
          40.300000000000004,
          40.400000000000006,
          40.5,
          40.6,
          40.699999999999996,
          40.800000000000004,
          40.9,
          41,
          41.1,
          41.2,
          41.300000000000004,
          41.4,
          41.5,
          41.6,
          41.7,
          41.800000000000004,
          41.9,
          42,
          42.1,
          42.2,
          42.300000000000004,
          42.4,
          42.5,
          42.6,
          42.7,
          42.800000000000004,
          42.9,
          43,
          43.1,
          43.2,
          43.300000000000004,
          43.4,
          43.5,
          43.6,
          43.7,
          43.8,
          43.9,
          44,
          44.1,
          44.2,
          44.3,
          44.4,
          44.50000000000001,
          44.6,
          44.7,
          44.8,
          44.9,
          45.00000000000001,
          45.1,
          45.2,
          45.3,
          45.4,
          45.5,
          45.6,
          45.7,
          45.8,
          45.900000000000006,
          46,
          46.1,
          46.2,
          46.3,
          46.400000000000006,
          46.5,
          46.6,
          46.7,
          46.8,
          46.900000000000006,
          47,
          47.1,
          47.199999999999996,
          47.300000000000004,
          47.400000000000006,
          47.5,
          47.6,
          47.699999999999996,
          47.800000000000004,
          47.900000000000006,
          48,
          48.1,
          48.199999999999996,
          48.300000000000004,
          48.400000000000006,
          48.5,
          48.6,
          48.699999999999996,
          48.800000000000004,
          48.9,
          49,
          49.1,
          49.2,
          49.300000000000004,
          49.4,
          49.5,
          49.6,
          49.7,
          49.800000000000004,
          49.9
         ],
         "xaxis": "x",
         "y": [
          0,
          0.009950166250831893,
          0.01980132669324459,
          0.029554466451491665,
          0.03921056084767658,
          0.048770575499285734,
          0.05823546641575099,
          0.06760618009405142,
          0.07688365361336381,
          0.08606881472877137,
          0.09516258196403994,
          0.10416586470347122,
          0.11307956328284191,
          0.12190456907943806,
          0.13064176460119353,
          0.1392920235749415,
          0.14785621103378793,
          0.15633518340361555,
          0.16472978858872717,
          0.17304086605663682,
          0.18126924692201724,
          0.18941575402981195,
          0.19748120203752054,
          0.20546639749666498,
          0.21337213893344556,
          0.22119921692859407,
          0.2289484141964326,
          0.23662050566314569,
          0.24421625854427337,
          0.2517364324214336,
          0.25918177931828096,
          0.26655304377570954,
          0.27385096292630784,
          0.28107626656807255,
          0.28822967723738896,
          0.29531191028128523,
          0.3023236739289676,
          0.30926566936264394,
          0.3161385907876427,
          0.32294312550183385,
          0.32967995396435923,
          0.33634974986367916,
          0.3429531801849417,
          0.3494909052766819,
          0.3559635789168571,
          0.3623718483782251,
          0.36871635449307244,
          0.3749977317172976,
          0.38121660819385755,
          0.38737360581558233,
          0.39346934028736497,
          0.39950442118773244,
          0.405479452029804,
          0.41139503032164315,
          0.41725174762600864,
          0.4230501896195116,
          0.42879093615118336,
          0.43447456130046114,
          0.4401016334345962,
          0.4456727152654912,
          0.4511883639059718,
          0.4566491309254984,
          0.4620555624053237,
          0.467408198993101,
          0.4727075759569496,
          0.4779542232389821,
          0.48314866550829894,
          0.4882914222134557,
          0.4933830076344085,
          0.4984239309339426,
          0.5034146962085886,
          0.508355802539033,
          0.5132477440400265,
          0.5180910099097957,
          0.5228860844789638,
          0.5276334472589834,
          0.5323335729900889,
          0.53698693168877,
          0.5415939886947745,
          0.5461552047176422,
          0.5506710358827764,
          0.5551419337770569,
          0.5595683454939988,
          0.5639507136784625,
          0.5682894765709184,
          0.5725850680512714,
          0.5768379176822492,
          0.5810484507523591,
          0.5852170883184167,
          0.5893442472476526,
          0.5934303402593989,
          0.597475775966362,
          0.6014809589154838,
          0.6054462896283969,
          0.6093721646414769,
          0.6132589765454968,
          0.6171071140248859,
          0.6209169618965992,
          0.6246889011485984,
          0.6284233089779523,
          0.6321205588285557,
          0.6357810204284746,
          0.6394050598269196,
          0.6429930394308506,
          0.6465453180412178,
          0.6500622508888426,
          0.6535441896699405,
          0.6569914825812914,
          0.6604044743550589,
          0.6637835062932647,
          0.6671289163019184,
          0.6704410389248089,
          0.6737202053769584,
          0.676966743577745,
          0.680180978183694,
          0.6833632306209447,
          0.6865138191173926,
          0.689633058734513,
          0.6927212613988667,
          0.6957787359332939,
          0.6988057880877958,
          0.7018027205701105,
          0.7047698330759837,
          0.7077074223191385,
          0.7106157820609473,
          0.7134952031398079,
          0.7163459735002276,
          0.7191683782216182,
          0.7219626995468038,
          0.7247292169102456,
          0.7274682069659854,
          0.7301799436153111,
          0.7328646980341477,
          0.735522738700174,
          0.738154331419672,
          0.7407597393541066,
          0.7433392230464422,
          0.7458930404471977,
          0.7484214469402415,
          0.7509246953683298,
          0.7534030360583915,
          0.755856716846561,
          0.7582859831029616,
          0.7606910777562435,
          0.7630722413178762,
          0.7654297119062003,
          0.7677637252702392,
          0.7700745148132742,
          0.7723623116161853,
          0.7746273444605594,
          0.7768698398515683,
          0.77909002204062,
          0.7812881130477833,
          0.7834643326839911,
          0.7856188985730201,
          0.787752026173255,
          0.7898639287992334,
          0.7919548176429777,
          0.7940249017951148,
          0.7960743882657848,
          0.7981034820053429,
          0,
          0,
          0,
          0,
          0,
          0,
          0,
          0,
          0,
          0,
          0,
          0,
          0,
          0,
          0,
          0,
          0,
          0,
          0,
          0,
          0,
          0,
          0,
          0,
          0,
          0,
          0,
          0,
          0,
          0,
          0,
          0,
          0,
          0,
          0,
          0,
          0,
          0,
          0,
          0,
          0,
          0,
          0,
          0,
          0,
          0,
          0,
          0,
          0,
          0,
          0.009950166250831893,
          0.01980132669324459,
          0.029554466451491665,
          0.03921056084767658,
          0.048770575499285734,
          0.05823546641575099,
          0.06760618009405142,
          0.07688365361336381,
          0.08606881472877137,
          0.09516258196403994,
          0.10416586470347122,
          0.11307956328284191,
          0.12190456907943806,
          0.13064176460119353,
          0.1392920235749415,
          0.14785621103378793,
          0.15633518340361555,
          0.16472978858872717,
          0.17304086605663682,
          0.18126924692201724,
          0.18941575402981195,
          0.19748120203752054,
          0.20546639749666498,
          0.21337213893344556,
          0.22119921692859407,
          0.2289484141964326,
          0.23662050566314569,
          0.24421625854427337,
          0.2517364324214336,
          0.25918177931828096,
          0.26655304377570954,
          0.27385096292630784,
          0.28107626656807255,
          0.28822967723738896,
          0.29531191028128523,
          0.3023236739289676,
          0.30926566936264394,
          0.3161385907876427,
          0.32294312550183385,
          0.32967995396435923,
          0.33634974986367916,
          0.3429531801849417,
          0.3494909052766819,
          0.3559635789168571,
          0.3623718483782251,
          0.36871635449307244,
          0.3749977317172976,
          0.38121660819385755,
          0.38737360581558233,
          0.39346934028736497,
          0.39950442118773244,
          0.405479452029804,
          0.41139503032164315,
          0.41725174762600864,
          0.4230501896195116,
          0.42879093615118336,
          0.43447456130046114,
          0.4401016334345962,
          0.4456727152654912,
          0.4511883639059718,
          0.4566491309254984,
          0.4620555624053237,
          0.467408198993101,
          0.4727075759569496,
          0.4779542232389821,
          0.48314866550829894,
          0.4882914222134557,
          0.4933830076344085,
          0.4984239309339426,
          0.5034146962085886,
          0.508355802539033,
          0.5132477440400265,
          0.5180910099097957,
          0.5228860844789638,
          0.5276334472589834,
          0.5323335729900889,
          0.53698693168877,
          0.5415939886947745,
          0.5461552047176422,
          0.5506710358827764,
          0.5551419337770569,
          0.5595683454939988,
          0.5639507136784625,
          0.5682894765709184,
          0.5725850680512714,
          0.5768379176822492,
          0.5810484507523591,
          0.5852170883184167,
          0.5893442472476526,
          0.5934303402593989,
          0.597475775966362,
          0.6014809589154838,
          0.6054462896283969,
          0.6093721646414769,
          0.6132589765454968,
          0.6171071140248859,
          0.6209169618965992,
          0.6246889011485984,
          0.6284233089779523,
          0.6321205588285557,
          0.6357810204284746,
          0.6394050598269196,
          0.6429930394308506,
          0.6465453180412178,
          0.6500622508888426,
          0.6535441896699405,
          0.6569914825812914,
          0.6604044743550589,
          0.6637835062932647,
          0.6671289163019184,
          0.6704410389248089,
          0.6737202053769584,
          0.676966743577745,
          0.680180978183694,
          0.6833632306209447,
          0.6865138191173926,
          0.689633058734513,
          0.6927212613988667,
          0.6957787359332939,
          0.6988057880877958,
          0.7018027205701105,
          0.7047698330759837,
          0.7077074223191385,
          0.7106157820609473,
          0.7134952031398079,
          0.7163459735002276,
          0.7191683782216182,
          0.7219626995468038,
          0.7247292169102456,
          0.7274682069659854,
          0.7301799436153111,
          0.7328646980341477,
          0.735522738700174,
          0.738154331419672,
          0.7407597393541066,
          0.7433392230464422,
          0.7458930404471977,
          0.7484214469402415,
          0.7509246953683298,
          0.7534030360583915,
          0.755856716846561,
          0.7582859831029616,
          0.7606910777562435,
          0.7630722413178762,
          0.7654297119062003,
          0.7677637252702392,
          0.7700745148132742,
          0.7723623116161853,
          0.7746273444605594,
          0.7768698398515683,
          0.77909002204062,
          0.7812881130477833,
          0.7834643326839911,
          0.7856188985730201,
          0.787752026173255,
          0.7898639287992334,
          0.7919548176429777,
          0.7940249017951148,
          0.7960743882657848,
          0.7981034820053429,
          0,
          0,
          0,
          0,
          0,
          0,
          0,
          0,
          0,
          0,
          0,
          0,
          0,
          0,
          0,
          0,
          0,
          0,
          0,
          0,
          0,
          0,
          0,
          0,
          0,
          0,
          0,
          0,
          0,
          0,
          0,
          0,
          0,
          0,
          0,
          0,
          0,
          0,
          0,
          0,
          0,
          0,
          0,
          0,
          0,
          0,
          0,
          0,
          0,
          0,
          0.009950166250831893,
          0.01980132669324459,
          0.029554466451491665,
          0.03921056084767658,
          0.048770575499285734,
          0.05823546641575099,
          0.06760618009405142,
          0.07688365361336381,
          0.08606881472877137,
          0.09516258196403994,
          0.10416586470347122,
          0.11307956328284191,
          0.12190456907943806,
          0.13064176460119353,
          0.1392920235749415,
          0.14785621103378793,
          0.15633518340361555,
          0.16472978858872717,
          0.17304086605663682,
          0.18126924692201724,
          0.18941575402981195,
          0.19748120203752054,
          0.20546639749666498,
          0.21337213893344556,
          0.22119921692859407,
          0.2289484141964326,
          0.23662050566314569,
          0.24421625854427337,
          0.2517364324214336,
          0.25918177931828096,
          0.26655304377570954,
          0.27385096292630784,
          0.28107626656807255,
          0.28822967723738896,
          0.29531191028128523,
          0.3023236739289676,
          0.30926566936264394,
          0.3161385907876427,
          0.32294312550183385,
          0.32967995396435923,
          0.33634974986367916,
          0.3429531801849417,
          0.3494909052766819,
          0.3559635789168571,
          0.3623718483782251,
          0.36871635449307244,
          0.3749977317172976,
          0.38121660819385755,
          0.38737360581558233,
          0.39346934028736497,
          0.39950442118773244,
          0.405479452029804,
          0.41139503032164315,
          0.41725174762600864,
          0.4230501896195116,
          0.42879093615118336,
          0.43447456130046114,
          0.4401016334345962,
          0.4456727152654912,
          0.4511883639059718,
          0.4566491309254984,
          0.4620555624053237,
          0.467408198993101,
          0.4727075759569496,
          0.4779542232389821,
          0.48314866550829894,
          0.4882914222134557,
          0.4933830076344085,
          0.4984239309339426,
          0.5034146962085886,
          0.508355802539033,
          0.5132477440400265,
          0.5180910099097957,
          0.5228860844789638,
          0.5276334472589834,
          0.5323335729900889,
          0.53698693168877,
          0.5415939886947745,
          0.5461552047176422
         ],
         "yaxis": "y"
        }
       ],
       "layout": {
        "legend": {
         "tracegroupgap": 0
        },
        "margin": {
         "t": 60
        },
        "template": {
         "data": {
          "bar": [
           {
            "error_x": {
             "color": "#2a3f5f"
            },
            "error_y": {
             "color": "#2a3f5f"
            },
            "marker": {
             "line": {
              "color": "#E5ECF6",
              "width": 0.5
             }
            },
            "type": "bar"
           }
          ],
          "barpolar": [
           {
            "marker": {
             "line": {
              "color": "#E5ECF6",
              "width": 0.5
             }
            },
            "type": "barpolar"
           }
          ],
          "carpet": [
           {
            "aaxis": {
             "endlinecolor": "#2a3f5f",
             "gridcolor": "white",
             "linecolor": "white",
             "minorgridcolor": "white",
             "startlinecolor": "#2a3f5f"
            },
            "baxis": {
             "endlinecolor": "#2a3f5f",
             "gridcolor": "white",
             "linecolor": "white",
             "minorgridcolor": "white",
             "startlinecolor": "#2a3f5f"
            },
            "type": "carpet"
           }
          ],
          "choropleth": [
           {
            "colorbar": {
             "outlinewidth": 0,
             "ticks": ""
            },
            "type": "choropleth"
           }
          ],
          "contour": [
           {
            "colorbar": {
             "outlinewidth": 0,
             "ticks": ""
            },
            "colorscale": [
             [
              0,
              "#0d0887"
             ],
             [
              0.1111111111111111,
              "#46039f"
             ],
             [
              0.2222222222222222,
              "#7201a8"
             ],
             [
              0.3333333333333333,
              "#9c179e"
             ],
             [
              0.4444444444444444,
              "#bd3786"
             ],
             [
              0.5555555555555556,
              "#d8576b"
             ],
             [
              0.6666666666666666,
              "#ed7953"
             ],
             [
              0.7777777777777778,
              "#fb9f3a"
             ],
             [
              0.8888888888888888,
              "#fdca26"
             ],
             [
              1,
              "#f0f921"
             ]
            ],
            "type": "contour"
           }
          ],
          "contourcarpet": [
           {
            "colorbar": {
             "outlinewidth": 0,
             "ticks": ""
            },
            "type": "contourcarpet"
           }
          ],
          "heatmap": [
           {
            "colorbar": {
             "outlinewidth": 0,
             "ticks": ""
            },
            "colorscale": [
             [
              0,
              "#0d0887"
             ],
             [
              0.1111111111111111,
              "#46039f"
             ],
             [
              0.2222222222222222,
              "#7201a8"
             ],
             [
              0.3333333333333333,
              "#9c179e"
             ],
             [
              0.4444444444444444,
              "#bd3786"
             ],
             [
              0.5555555555555556,
              "#d8576b"
             ],
             [
              0.6666666666666666,
              "#ed7953"
             ],
             [
              0.7777777777777778,
              "#fb9f3a"
             ],
             [
              0.8888888888888888,
              "#fdca26"
             ],
             [
              1,
              "#f0f921"
             ]
            ],
            "type": "heatmap"
           }
          ],
          "heatmapgl": [
           {
            "colorbar": {
             "outlinewidth": 0,
             "ticks": ""
            },
            "colorscale": [
             [
              0,
              "#0d0887"
             ],
             [
              0.1111111111111111,
              "#46039f"
             ],
             [
              0.2222222222222222,
              "#7201a8"
             ],
             [
              0.3333333333333333,
              "#9c179e"
             ],
             [
              0.4444444444444444,
              "#bd3786"
             ],
             [
              0.5555555555555556,
              "#d8576b"
             ],
             [
              0.6666666666666666,
              "#ed7953"
             ],
             [
              0.7777777777777778,
              "#fb9f3a"
             ],
             [
              0.8888888888888888,
              "#fdca26"
             ],
             [
              1,
              "#f0f921"
             ]
            ],
            "type": "heatmapgl"
           }
          ],
          "histogram": [
           {
            "marker": {
             "colorbar": {
              "outlinewidth": 0,
              "ticks": ""
             }
            },
            "type": "histogram"
           }
          ],
          "histogram2d": [
           {
            "colorbar": {
             "outlinewidth": 0,
             "ticks": ""
            },
            "colorscale": [
             [
              0,
              "#0d0887"
             ],
             [
              0.1111111111111111,
              "#46039f"
             ],
             [
              0.2222222222222222,
              "#7201a8"
             ],
             [
              0.3333333333333333,
              "#9c179e"
             ],
             [
              0.4444444444444444,
              "#bd3786"
             ],
             [
              0.5555555555555556,
              "#d8576b"
             ],
             [
              0.6666666666666666,
              "#ed7953"
             ],
             [
              0.7777777777777778,
              "#fb9f3a"
             ],
             [
              0.8888888888888888,
              "#fdca26"
             ],
             [
              1,
              "#f0f921"
             ]
            ],
            "type": "histogram2d"
           }
          ],
          "histogram2dcontour": [
           {
            "colorbar": {
             "outlinewidth": 0,
             "ticks": ""
            },
            "colorscale": [
             [
              0,
              "#0d0887"
             ],
             [
              0.1111111111111111,
              "#46039f"
             ],
             [
              0.2222222222222222,
              "#7201a8"
             ],
             [
              0.3333333333333333,
              "#9c179e"
             ],
             [
              0.4444444444444444,
              "#bd3786"
             ],
             [
              0.5555555555555556,
              "#d8576b"
             ],
             [
              0.6666666666666666,
              "#ed7953"
             ],
             [
              0.7777777777777778,
              "#fb9f3a"
             ],
             [
              0.8888888888888888,
              "#fdca26"
             ],
             [
              1,
              "#f0f921"
             ]
            ],
            "type": "histogram2dcontour"
           }
          ],
          "mesh3d": [
           {
            "colorbar": {
             "outlinewidth": 0,
             "ticks": ""
            },
            "type": "mesh3d"
           }
          ],
          "parcoords": [
           {
            "line": {
             "colorbar": {
              "outlinewidth": 0,
              "ticks": ""
             }
            },
            "type": "parcoords"
           }
          ],
          "pie": [
           {
            "automargin": true,
            "type": "pie"
           }
          ],
          "scatter": [
           {
            "marker": {
             "colorbar": {
              "outlinewidth": 0,
              "ticks": ""
             }
            },
            "type": "scatter"
           }
          ],
          "scatter3d": [
           {
            "line": {
             "colorbar": {
              "outlinewidth": 0,
              "ticks": ""
             }
            },
            "marker": {
             "colorbar": {
              "outlinewidth": 0,
              "ticks": ""
             }
            },
            "type": "scatter3d"
           }
          ],
          "scattercarpet": [
           {
            "marker": {
             "colorbar": {
              "outlinewidth": 0,
              "ticks": ""
             }
            },
            "type": "scattercarpet"
           }
          ],
          "scattergeo": [
           {
            "marker": {
             "colorbar": {
              "outlinewidth": 0,
              "ticks": ""
             }
            },
            "type": "scattergeo"
           }
          ],
          "scattergl": [
           {
            "marker": {
             "colorbar": {
              "outlinewidth": 0,
              "ticks": ""
             }
            },
            "type": "scattergl"
           }
          ],
          "scattermapbox": [
           {
            "marker": {
             "colorbar": {
              "outlinewidth": 0,
              "ticks": ""
             }
            },
            "type": "scattermapbox"
           }
          ],
          "scatterpolar": [
           {
            "marker": {
             "colorbar": {
              "outlinewidth": 0,
              "ticks": ""
             }
            },
            "type": "scatterpolar"
           }
          ],
          "scatterpolargl": [
           {
            "marker": {
             "colorbar": {
              "outlinewidth": 0,
              "ticks": ""
             }
            },
            "type": "scatterpolargl"
           }
          ],
          "scatterternary": [
           {
            "marker": {
             "colorbar": {
              "outlinewidth": 0,
              "ticks": ""
             }
            },
            "type": "scatterternary"
           }
          ],
          "surface": [
           {
            "colorbar": {
             "outlinewidth": 0,
             "ticks": ""
            },
            "colorscale": [
             [
              0,
              "#0d0887"
             ],
             [
              0.1111111111111111,
              "#46039f"
             ],
             [
              0.2222222222222222,
              "#7201a8"
             ],
             [
              0.3333333333333333,
              "#9c179e"
             ],
             [
              0.4444444444444444,
              "#bd3786"
             ],
             [
              0.5555555555555556,
              "#d8576b"
             ],
             [
              0.6666666666666666,
              "#ed7953"
             ],
             [
              0.7777777777777778,
              "#fb9f3a"
             ],
             [
              0.8888888888888888,
              "#fdca26"
             ],
             [
              1,
              "#f0f921"
             ]
            ],
            "type": "surface"
           }
          ],
          "table": [
           {
            "cells": {
             "fill": {
              "color": "#EBF0F8"
             },
             "line": {
              "color": "white"
             }
            },
            "header": {
             "fill": {
              "color": "#C8D4E3"
             },
             "line": {
              "color": "white"
             }
            },
            "type": "table"
           }
          ]
         },
         "layout": {
          "annotationdefaults": {
           "arrowcolor": "#2a3f5f",
           "arrowhead": 0,
           "arrowwidth": 1
          },
          "coloraxis": {
           "colorbar": {
            "outlinewidth": 0,
            "ticks": ""
           }
          },
          "colorscale": {
           "diverging": [
            [
             0,
             "#8e0152"
            ],
            [
             0.1,
             "#c51b7d"
            ],
            [
             0.2,
             "#de77ae"
            ],
            [
             0.3,
             "#f1b6da"
            ],
            [
             0.4,
             "#fde0ef"
            ],
            [
             0.5,
             "#f7f7f7"
            ],
            [
             0.6,
             "#e6f5d0"
            ],
            [
             0.7,
             "#b8e186"
            ],
            [
             0.8,
             "#7fbc41"
            ],
            [
             0.9,
             "#4d9221"
            ],
            [
             1,
             "#276419"
            ]
           ],
           "sequential": [
            [
             0,
             "#0d0887"
            ],
            [
             0.1111111111111111,
             "#46039f"
            ],
            [
             0.2222222222222222,
             "#7201a8"
            ],
            [
             0.3333333333333333,
             "#9c179e"
            ],
            [
             0.4444444444444444,
             "#bd3786"
            ],
            [
             0.5555555555555556,
             "#d8576b"
            ],
            [
             0.6666666666666666,
             "#ed7953"
            ],
            [
             0.7777777777777778,
             "#fb9f3a"
            ],
            [
             0.8888888888888888,
             "#fdca26"
            ],
            [
             1,
             "#f0f921"
            ]
           ],
           "sequentialminus": [
            [
             0,
             "#0d0887"
            ],
            [
             0.1111111111111111,
             "#46039f"
            ],
            [
             0.2222222222222222,
             "#7201a8"
            ],
            [
             0.3333333333333333,
             "#9c179e"
            ],
            [
             0.4444444444444444,
             "#bd3786"
            ],
            [
             0.5555555555555556,
             "#d8576b"
            ],
            [
             0.6666666666666666,
             "#ed7953"
            ],
            [
             0.7777777777777778,
             "#fb9f3a"
            ],
            [
             0.8888888888888888,
             "#fdca26"
            ],
            [
             1,
             "#f0f921"
            ]
           ]
          },
          "colorway": [
           "#636efa",
           "#EF553B",
           "#00cc96",
           "#ab63fa",
           "#FFA15A",
           "#19d3f3",
           "#FF6692",
           "#B6E880",
           "#FF97FF",
           "#FECB52"
          ],
          "font": {
           "color": "#2a3f5f"
          },
          "geo": {
           "bgcolor": "white",
           "lakecolor": "white",
           "landcolor": "#E5ECF6",
           "showlakes": true,
           "showland": true,
           "subunitcolor": "white"
          },
          "hoverlabel": {
           "align": "left"
          },
          "hovermode": "closest",
          "mapbox": {
           "style": "light"
          },
          "paper_bgcolor": "white",
          "plot_bgcolor": "#E5ECF6",
          "polar": {
           "angularaxis": {
            "gridcolor": "white",
            "linecolor": "white",
            "ticks": ""
           },
           "bgcolor": "#E5ECF6",
           "radialaxis": {
            "gridcolor": "white",
            "linecolor": "white",
            "ticks": ""
           }
          },
          "scene": {
           "xaxis": {
            "backgroundcolor": "#E5ECF6",
            "gridcolor": "white",
            "gridwidth": 2,
            "linecolor": "white",
            "showbackground": true,
            "ticks": "",
            "zerolinecolor": "white"
           },
           "yaxis": {
            "backgroundcolor": "#E5ECF6",
            "gridcolor": "white",
            "gridwidth": 2,
            "linecolor": "white",
            "showbackground": true,
            "ticks": "",
            "zerolinecolor": "white"
           },
           "zaxis": {
            "backgroundcolor": "#E5ECF6",
            "gridcolor": "white",
            "gridwidth": 2,
            "linecolor": "white",
            "showbackground": true,
            "ticks": "",
            "zerolinecolor": "white"
           }
          },
          "shapedefaults": {
           "line": {
            "color": "#2a3f5f"
           }
          },
          "ternary": {
           "aaxis": {
            "gridcolor": "white",
            "linecolor": "white",
            "ticks": ""
           },
           "baxis": {
            "gridcolor": "white",
            "linecolor": "white",
            "ticks": ""
           },
           "bgcolor": "#E5ECF6",
           "caxis": {
            "gridcolor": "white",
            "linecolor": "white",
            "ticks": ""
           }
          },
          "title": {
           "x": 0.05
          },
          "xaxis": {
           "automargin": true,
           "gridcolor": "white",
           "linecolor": "white",
           "ticks": "",
           "title": {
            "standoff": 15
           },
           "zerolinecolor": "white",
           "zerolinewidth": 2
          },
          "yaxis": {
           "automargin": true,
           "gridcolor": "white",
           "linecolor": "white",
           "ticks": "",
           "title": {
            "standoff": 15
           },
           "zerolinecolor": "white",
           "zerolinewidth": 2
          }
         }
        },
        "xaxis": {
         "anchor": "y",
         "domain": [
          0,
          1
         ],
         "title": {
          "text": "t"
         }
        },
        "yaxis": {
         "anchor": "x",
         "domain": [
          0,
          1
         ],
         "title": {
          "text": "v"
         }
        }
       }
      },
      "text/html": [
       "<div>\n",
       "        \n",
       "        \n",
       "            <div id=\"796af61a-a464-42ac-adef-18adde49c5e8\" class=\"plotly-graph-div\" style=\"height:525px; width:100%;\"></div>\n",
       "            <script type=\"text/javascript\">\n",
       "                require([\"plotly\"], function(Plotly) {\n",
       "                    window.PLOTLYENV=window.PLOTLYENV || {};\n",
       "                    \n",
       "                if (document.getElementById(\"796af61a-a464-42ac-adef-18adde49c5e8\")) {\n",
       "                    Plotly.newPlot(\n",
       "                        '796af61a-a464-42ac-adef-18adde49c5e8',\n",
       "                        [{\"hoverlabel\": {\"namelength\": 0}, \"hovertemplate\": \"t=%{x}<br>v=%{y}\", \"legendgroup\": \"\", \"line\": {\"color\": \"#636efa\", \"dash\": \"solid\"}, \"mode\": \"lines\", \"name\": \"\", \"showlegend\": false, \"type\": \"scatter\", \"x\": [0.0, 0.1, 0.2, 0.30000000000000004, 0.4, 0.5, 0.6000000000000001, 0.7, 0.8, 0.9, 1.0, 1.1, 1.2000000000000002, 1.3, 1.4, 1.5, 1.6, 1.7000000000000002, 1.8, 1.9, 2.0, 2.1, 2.2, 2.3, 2.4000000000000004, 2.5, 2.6, 2.7, 2.8, 2.9000000000000004, 3.0, 3.1, 3.2, 3.3, 3.4000000000000004, 3.5, 3.6, 3.7, 3.8, 3.9000000000000004, 4.0, 4.1000000000000005, 4.2, 4.3, 4.4, 4.5, 4.6, 4.7, 4.800000000000001, 4.8999999999999995, 5.0, 5.1000000000000005, 5.2, 5.3, 5.4, 5.5, 5.6, 5.7, 5.800000000000001, 5.8999999999999995, 6.0, 6.1000000000000005, 6.2, 6.3, 6.4, 6.5, 6.6, 6.7, 6.800000000000001, 6.9, 7.0, 7.1000000000000005, 7.2, 7.3, 7.4, 7.5, 7.6, 7.7, 7.800000000000001, 7.9, 8.0, 8.1, 8.200000000000001, 8.3, 8.4, 8.5, 8.6, 8.700000000000001, 8.8, 8.9, 9.0, 9.1, 9.2, 9.3, 9.4, 9.5, 9.600000000000001, 9.7, 9.799999999999999, 9.9, 10.0, 10.100000000000001, 10.200000000000001, 10.3, 10.4, 10.5, 10.6, 10.700000000000001, 10.8, 10.9, 11.0, 11.1, 11.2, 11.3, 11.4, 11.5, 11.600000000000001, 11.7, 11.799999999999999, 11.9, 12.0, 12.100000000000001, 12.200000000000001, 12.3, 12.4, 12.5, 12.6, 12.700000000000001, 12.8, 12.9, 13.0, 13.1, 13.2, 13.3, 13.4, 13.5, 13.600000000000001, 13.7, 13.8, 13.9, 14.0, 14.100000000000001, 14.200000000000001, 14.3, 14.4, 14.5, 14.6, 14.700000000000001, 14.8, 14.9, 15.0, 15.1, 15.2, 15.3, 15.4, 15.5, 15.600000000000001, 15.700000000000001, 15.8, 15.9, 16.0, 16.099999999999998, 16.2, 16.3, 16.400000000000002, 16.5, 16.6, 16.7, 16.8, 16.900000000000002, 17.0, 17.1, 17.2, 17.3, 17.400000000000002, 17.5, 17.6, 17.7, 17.8, 17.9, 18.0, 18.1, 18.2, 18.3, 18.4, 18.500000000000004, 18.6, 18.7, 18.8, 18.9, 19.0, 19.1, 19.200000000000003, 19.3, 19.4, 19.5, 19.599999999999998, 19.700000000000003, 19.8, 19.900000000000002, 20.0, 20.099999999999998, 20.200000000000003, 20.3, 20.400000000000002, 20.5, 20.6, 20.7, 20.8, 20.900000000000002, 21.0, 21.1, 21.2, 21.3, 21.400000000000002, 21.5, 21.6, 21.7, 21.8, 21.9, 22.0, 22.1, 22.2, 22.3, 22.4, 22.500000000000004, 22.6, 22.7, 22.8, 22.9, 23.0, 23.1, 23.200000000000003, 23.3, 23.4, 23.5, 23.599999999999998, 23.700000000000003, 23.8, 23.900000000000002, 24.0, 24.099999999999998, 24.200000000000003, 24.3, 24.400000000000002, 24.5, 24.6, 24.7, 24.8, 24.900000000000002, 25.0, 25.1, 25.2, 25.3, 25.400000000000002, 25.5, 25.6, 25.7, 25.8, 25.900000000000002, 26.0, 26.1, 26.2, 26.3, 26.4, 26.500000000000004, 26.6, 26.7, 26.8, 26.9, 27.0, 27.1, 27.200000000000003, 27.3, 27.4, 27.5, 27.6, 27.700000000000003, 27.8, 27.900000000000002, 28.0, 28.099999999999998, 28.200000000000003, 28.3, 28.400000000000002, 28.5, 28.6, 28.7, 28.8, 28.900000000000002, 29.0, 29.1, 29.2, 29.300000000000004, 29.400000000000002, 29.5, 29.6, 29.7, 29.8, 29.900000000000002, 30.0, 30.1, 30.2, 30.3, 30.4, 30.500000000000004, 30.6, 30.7, 30.8, 30.9, 31.0, 31.1, 31.200000000000003, 31.3, 31.400000000000002, 31.5, 31.6, 31.7, 31.8, 31.900000000000006, 32.0, 32.1, 32.199999999999996, 32.300000000000004, 32.4, 32.5, 32.6, 32.699999999999996, 32.800000000000004, 32.9, 33.0, 33.1, 33.2, 33.300000000000004, 33.4, 33.5, 33.6, 33.7, 33.800000000000004, 33.9, 34.0, 34.099999999999994, 34.2, 34.300000000000004, 34.4, 34.5, 34.6, 34.7, 34.800000000000004, 34.9, 35.0, 35.1, 35.2, 35.300000000000004, 35.4, 35.5, 35.6, 35.7, 35.8, 35.9, 36.0, 36.1, 36.2, 36.3, 36.4, 36.50000000000001, 36.6, 36.7, 36.8, 36.9, 37.00000000000001, 37.1, 37.2, 37.3, 37.4, 37.5, 37.6, 37.7, 37.8, 37.900000000000006, 38.0, 38.1, 38.2, 38.3, 38.400000000000006, 38.5, 38.6, 38.7, 38.8, 38.900000000000006, 39.0, 39.1, 39.199999999999996, 39.300000000000004, 39.400000000000006, 39.5, 39.6, 39.699999999999996, 39.800000000000004, 39.900000000000006, 40.0, 40.1, 40.199999999999996, 40.300000000000004, 40.400000000000006, 40.5, 40.6, 40.699999999999996, 40.800000000000004, 40.9, 41.0, 41.1, 41.2, 41.300000000000004, 41.4, 41.5, 41.6, 41.7, 41.800000000000004, 41.9, 42.0, 42.1, 42.2, 42.300000000000004, 42.4, 42.5, 42.6, 42.7, 42.800000000000004, 42.9, 43.0, 43.1, 43.2, 43.300000000000004, 43.4, 43.5, 43.6, 43.7, 43.8, 43.9, 44.0, 44.1, 44.2, 44.3, 44.4, 44.50000000000001, 44.6, 44.7, 44.8, 44.9, 45.00000000000001, 45.1, 45.2, 45.3, 45.4, 45.5, 45.6, 45.7, 45.8, 45.900000000000006, 46.0, 46.1, 46.2, 46.3, 46.400000000000006, 46.5, 46.6, 46.7, 46.8, 46.900000000000006, 47.0, 47.1, 47.199999999999996, 47.300000000000004, 47.400000000000006, 47.5, 47.6, 47.699999999999996, 47.800000000000004, 47.900000000000006, 48.0, 48.1, 48.199999999999996, 48.300000000000004, 48.400000000000006, 48.5, 48.6, 48.699999999999996, 48.800000000000004, 48.9, 49.0, 49.1, 49.2, 49.300000000000004, 49.4, 49.5, 49.6, 49.7, 49.800000000000004, 49.9], \"xaxis\": \"x\", \"y\": [0.0, 0.009950166250831893, 0.01980132669324459, 0.029554466451491665, 0.03921056084767658, 0.048770575499285734, 0.05823546641575099, 0.06760618009405142, 0.07688365361336381, 0.08606881472877137, 0.09516258196403994, 0.10416586470347122, 0.11307956328284191, 0.12190456907943806, 0.13064176460119353, 0.1392920235749415, 0.14785621103378793, 0.15633518340361555, 0.16472978858872717, 0.17304086605663682, 0.18126924692201724, 0.18941575402981195, 0.19748120203752054, 0.20546639749666498, 0.21337213893344556, 0.22119921692859407, 0.2289484141964326, 0.23662050566314569, 0.24421625854427337, 0.2517364324214336, 0.25918177931828096, 0.26655304377570954, 0.27385096292630784, 0.28107626656807255, 0.28822967723738896, 0.29531191028128523, 0.3023236739289676, 0.30926566936264394, 0.3161385907876427, 0.32294312550183385, 0.32967995396435923, 0.33634974986367916, 0.3429531801849417, 0.3494909052766819, 0.3559635789168571, 0.3623718483782251, 0.36871635449307244, 0.3749977317172976, 0.38121660819385755, 0.38737360581558233, 0.39346934028736497, 0.39950442118773244, 0.405479452029804, 0.41139503032164315, 0.41725174762600864, 0.4230501896195116, 0.42879093615118336, 0.43447456130046114, 0.4401016334345962, 0.4456727152654912, 0.4511883639059718, 0.4566491309254984, 0.4620555624053237, 0.467408198993101, 0.4727075759569496, 0.4779542232389821, 0.48314866550829894, 0.4882914222134557, 0.4933830076344085, 0.4984239309339426, 0.5034146962085886, 0.508355802539033, 0.5132477440400265, 0.5180910099097957, 0.5228860844789638, 0.5276334472589834, 0.5323335729900889, 0.53698693168877, 0.5415939886947745, 0.5461552047176422, 0.5506710358827764, 0.5551419337770569, 0.5595683454939988, 0.5639507136784625, 0.5682894765709184, 0.5725850680512714, 0.5768379176822492, 0.5810484507523591, 0.5852170883184167, 0.5893442472476526, 0.5934303402593989, 0.597475775966362, 0.6014809589154838, 0.6054462896283969, 0.6093721646414769, 0.6132589765454968, 0.6171071140248859, 0.6209169618965992, 0.6246889011485984, 0.6284233089779523, 0.6321205588285557, 0.6357810204284746, 0.6394050598269196, 0.6429930394308506, 0.6465453180412178, 0.6500622508888426, 0.6535441896699405, 0.6569914825812914, 0.6604044743550589, 0.6637835062932647, 0.6671289163019184, 0.6704410389248089, 0.6737202053769584, 0.676966743577745, 0.680180978183694, 0.6833632306209447, 0.6865138191173926, 0.689633058734513, 0.6927212613988667, 0.6957787359332939, 0.6988057880877958, 0.7018027205701105, 0.7047698330759837, 0.7077074223191385, 0.7106157820609473, 0.7134952031398079, 0.7163459735002276, 0.7191683782216182, 0.7219626995468038, 0.7247292169102456, 0.7274682069659854, 0.7301799436153111, 0.7328646980341477, 0.735522738700174, 0.738154331419672, 0.7407597393541066, 0.7433392230464422, 0.7458930404471977, 0.7484214469402415, 0.7509246953683298, 0.7534030360583915, 0.755856716846561, 0.7582859831029616, 0.7606910777562435, 0.7630722413178762, 0.7654297119062003, 0.7677637252702392, 0.7700745148132742, 0.7723623116161853, 0.7746273444605594, 0.7768698398515683, 0.77909002204062, 0.7812881130477833, 0.7834643326839911, 0.7856188985730201, 0.787752026173255, 0.7898639287992334, 0.7919548176429777, 0.7940249017951148, 0.7960743882657848, 0.7981034820053429, 0.0, 0.0, 0.0, 0.0, 0.0, 0.0, 0.0, 0.0, 0.0, 0.0, 0.0, 0.0, 0.0, 0.0, 0.0, 0.0, 0.0, 0.0, 0.0, 0.0, 0.0, 0.0, 0.0, 0.0, 0.0, 0.0, 0.0, 0.0, 0.0, 0.0, 0.0, 0.0, 0.0, 0.0, 0.0, 0.0, 0.0, 0.0, 0.0, 0.0, 0.0, 0.0, 0.0, 0.0, 0.0, 0.0, 0.0, 0.0, 0.0, 0.0, 0.009950166250831893, 0.01980132669324459, 0.029554466451491665, 0.03921056084767658, 0.048770575499285734, 0.05823546641575099, 0.06760618009405142, 0.07688365361336381, 0.08606881472877137, 0.09516258196403994, 0.10416586470347122, 0.11307956328284191, 0.12190456907943806, 0.13064176460119353, 0.1392920235749415, 0.14785621103378793, 0.15633518340361555, 0.16472978858872717, 0.17304086605663682, 0.18126924692201724, 0.18941575402981195, 0.19748120203752054, 0.20546639749666498, 0.21337213893344556, 0.22119921692859407, 0.2289484141964326, 0.23662050566314569, 0.24421625854427337, 0.2517364324214336, 0.25918177931828096, 0.26655304377570954, 0.27385096292630784, 0.28107626656807255, 0.28822967723738896, 0.29531191028128523, 0.3023236739289676, 0.30926566936264394, 0.3161385907876427, 0.32294312550183385, 0.32967995396435923, 0.33634974986367916, 0.3429531801849417, 0.3494909052766819, 0.3559635789168571, 0.3623718483782251, 0.36871635449307244, 0.3749977317172976, 0.38121660819385755, 0.38737360581558233, 0.39346934028736497, 0.39950442118773244, 0.405479452029804, 0.41139503032164315, 0.41725174762600864, 0.4230501896195116, 0.42879093615118336, 0.43447456130046114, 0.4401016334345962, 0.4456727152654912, 0.4511883639059718, 0.4566491309254984, 0.4620555624053237, 0.467408198993101, 0.4727075759569496, 0.4779542232389821, 0.48314866550829894, 0.4882914222134557, 0.4933830076344085, 0.4984239309339426, 0.5034146962085886, 0.508355802539033, 0.5132477440400265, 0.5180910099097957, 0.5228860844789638, 0.5276334472589834, 0.5323335729900889, 0.53698693168877, 0.5415939886947745, 0.5461552047176422, 0.5506710358827764, 0.5551419337770569, 0.5595683454939988, 0.5639507136784625, 0.5682894765709184, 0.5725850680512714, 0.5768379176822492, 0.5810484507523591, 0.5852170883184167, 0.5893442472476526, 0.5934303402593989, 0.597475775966362, 0.6014809589154838, 0.6054462896283969, 0.6093721646414769, 0.6132589765454968, 0.6171071140248859, 0.6209169618965992, 0.6246889011485984, 0.6284233089779523, 0.6321205588285557, 0.6357810204284746, 0.6394050598269196, 0.6429930394308506, 0.6465453180412178, 0.6500622508888426, 0.6535441896699405, 0.6569914825812914, 0.6604044743550589, 0.6637835062932647, 0.6671289163019184, 0.6704410389248089, 0.6737202053769584, 0.676966743577745, 0.680180978183694, 0.6833632306209447, 0.6865138191173926, 0.689633058734513, 0.6927212613988667, 0.6957787359332939, 0.6988057880877958, 0.7018027205701105, 0.7047698330759837, 0.7077074223191385, 0.7106157820609473, 0.7134952031398079, 0.7163459735002276, 0.7191683782216182, 0.7219626995468038, 0.7247292169102456, 0.7274682069659854, 0.7301799436153111, 0.7328646980341477, 0.735522738700174, 0.738154331419672, 0.7407597393541066, 0.7433392230464422, 0.7458930404471977, 0.7484214469402415, 0.7509246953683298, 0.7534030360583915, 0.755856716846561, 0.7582859831029616, 0.7606910777562435, 0.7630722413178762, 0.7654297119062003, 0.7677637252702392, 0.7700745148132742, 0.7723623116161853, 0.7746273444605594, 0.7768698398515683, 0.77909002204062, 0.7812881130477833, 0.7834643326839911, 0.7856188985730201, 0.787752026173255, 0.7898639287992334, 0.7919548176429777, 0.7940249017951148, 0.7960743882657848, 0.7981034820053429, 0.0, 0.0, 0.0, 0.0, 0.0, 0.0, 0.0, 0.0, 0.0, 0.0, 0.0, 0.0, 0.0, 0.0, 0.0, 0.0, 0.0, 0.0, 0.0, 0.0, 0.0, 0.0, 0.0, 0.0, 0.0, 0.0, 0.0, 0.0, 0.0, 0.0, 0.0, 0.0, 0.0, 0.0, 0.0, 0.0, 0.0, 0.0, 0.0, 0.0, 0.0, 0.0, 0.0, 0.0, 0.0, 0.0, 0.0, 0.0, 0.0, 0.0, 0.009950166250831893, 0.01980132669324459, 0.029554466451491665, 0.03921056084767658, 0.048770575499285734, 0.05823546641575099, 0.06760618009405142, 0.07688365361336381, 0.08606881472877137, 0.09516258196403994, 0.10416586470347122, 0.11307956328284191, 0.12190456907943806, 0.13064176460119353, 0.1392920235749415, 0.14785621103378793, 0.15633518340361555, 0.16472978858872717, 0.17304086605663682, 0.18126924692201724, 0.18941575402981195, 0.19748120203752054, 0.20546639749666498, 0.21337213893344556, 0.22119921692859407, 0.2289484141964326, 0.23662050566314569, 0.24421625854427337, 0.2517364324214336, 0.25918177931828096, 0.26655304377570954, 0.27385096292630784, 0.28107626656807255, 0.28822967723738896, 0.29531191028128523, 0.3023236739289676, 0.30926566936264394, 0.3161385907876427, 0.32294312550183385, 0.32967995396435923, 0.33634974986367916, 0.3429531801849417, 0.3494909052766819, 0.3559635789168571, 0.3623718483782251, 0.36871635449307244, 0.3749977317172976, 0.38121660819385755, 0.38737360581558233, 0.39346934028736497, 0.39950442118773244, 0.405479452029804, 0.41139503032164315, 0.41725174762600864, 0.4230501896195116, 0.42879093615118336, 0.43447456130046114, 0.4401016334345962, 0.4456727152654912, 0.4511883639059718, 0.4566491309254984, 0.4620555624053237, 0.467408198993101, 0.4727075759569496, 0.4779542232389821, 0.48314866550829894, 0.4882914222134557, 0.4933830076344085, 0.4984239309339426, 0.5034146962085886, 0.508355802539033, 0.5132477440400265, 0.5180910099097957, 0.5228860844789638, 0.5276334472589834, 0.5323335729900889, 0.53698693168877, 0.5415939886947745, 0.5461552047176422], \"yaxis\": \"y\"}],\n",
       "                        {\"legend\": {\"tracegroupgap\": 0}, \"margin\": {\"t\": 60}, \"template\": {\"data\": {\"bar\": [{\"error_x\": {\"color\": \"#2a3f5f\"}, \"error_y\": {\"color\": \"#2a3f5f\"}, \"marker\": {\"line\": {\"color\": \"#E5ECF6\", \"width\": 0.5}}, \"type\": \"bar\"}], \"barpolar\": [{\"marker\": {\"line\": {\"color\": \"#E5ECF6\", \"width\": 0.5}}, \"type\": \"barpolar\"}], \"carpet\": [{\"aaxis\": {\"endlinecolor\": \"#2a3f5f\", \"gridcolor\": \"white\", \"linecolor\": \"white\", \"minorgridcolor\": \"white\", \"startlinecolor\": \"#2a3f5f\"}, \"baxis\": {\"endlinecolor\": \"#2a3f5f\", \"gridcolor\": \"white\", \"linecolor\": \"white\", \"minorgridcolor\": \"white\", \"startlinecolor\": \"#2a3f5f\"}, \"type\": \"carpet\"}], \"choropleth\": [{\"colorbar\": {\"outlinewidth\": 0, \"ticks\": \"\"}, \"type\": \"choropleth\"}], \"contour\": [{\"colorbar\": {\"outlinewidth\": 0, \"ticks\": \"\"}, \"colorscale\": [[0.0, \"#0d0887\"], [0.1111111111111111, \"#46039f\"], [0.2222222222222222, \"#7201a8\"], [0.3333333333333333, \"#9c179e\"], [0.4444444444444444, \"#bd3786\"], [0.5555555555555556, \"#d8576b\"], [0.6666666666666666, \"#ed7953\"], [0.7777777777777778, \"#fb9f3a\"], [0.8888888888888888, \"#fdca26\"], [1.0, \"#f0f921\"]], \"type\": \"contour\"}], \"contourcarpet\": [{\"colorbar\": {\"outlinewidth\": 0, \"ticks\": \"\"}, \"type\": \"contourcarpet\"}], \"heatmap\": [{\"colorbar\": {\"outlinewidth\": 0, \"ticks\": \"\"}, \"colorscale\": [[0.0, \"#0d0887\"], [0.1111111111111111, \"#46039f\"], [0.2222222222222222, \"#7201a8\"], [0.3333333333333333, \"#9c179e\"], [0.4444444444444444, \"#bd3786\"], [0.5555555555555556, \"#d8576b\"], [0.6666666666666666, \"#ed7953\"], [0.7777777777777778, \"#fb9f3a\"], [0.8888888888888888, \"#fdca26\"], [1.0, \"#f0f921\"]], \"type\": \"heatmap\"}], \"heatmapgl\": [{\"colorbar\": {\"outlinewidth\": 0, \"ticks\": \"\"}, \"colorscale\": [[0.0, \"#0d0887\"], [0.1111111111111111, \"#46039f\"], [0.2222222222222222, \"#7201a8\"], [0.3333333333333333, \"#9c179e\"], [0.4444444444444444, \"#bd3786\"], [0.5555555555555556, \"#d8576b\"], [0.6666666666666666, \"#ed7953\"], [0.7777777777777778, \"#fb9f3a\"], [0.8888888888888888, \"#fdca26\"], [1.0, \"#f0f921\"]], \"type\": \"heatmapgl\"}], \"histogram\": [{\"marker\": {\"colorbar\": {\"outlinewidth\": 0, \"ticks\": \"\"}}, \"type\": \"histogram\"}], \"histogram2d\": [{\"colorbar\": {\"outlinewidth\": 0, \"ticks\": \"\"}, \"colorscale\": [[0.0, \"#0d0887\"], [0.1111111111111111, \"#46039f\"], [0.2222222222222222, \"#7201a8\"], [0.3333333333333333, \"#9c179e\"], [0.4444444444444444, \"#bd3786\"], [0.5555555555555556, \"#d8576b\"], [0.6666666666666666, \"#ed7953\"], [0.7777777777777778, \"#fb9f3a\"], [0.8888888888888888, \"#fdca26\"], [1.0, \"#f0f921\"]], \"type\": \"histogram2d\"}], \"histogram2dcontour\": [{\"colorbar\": {\"outlinewidth\": 0, \"ticks\": \"\"}, \"colorscale\": [[0.0, \"#0d0887\"], [0.1111111111111111, \"#46039f\"], [0.2222222222222222, \"#7201a8\"], [0.3333333333333333, \"#9c179e\"], [0.4444444444444444, \"#bd3786\"], [0.5555555555555556, \"#d8576b\"], [0.6666666666666666, \"#ed7953\"], [0.7777777777777778, \"#fb9f3a\"], [0.8888888888888888, \"#fdca26\"], [1.0, \"#f0f921\"]], \"type\": \"histogram2dcontour\"}], \"mesh3d\": [{\"colorbar\": {\"outlinewidth\": 0, \"ticks\": \"\"}, \"type\": \"mesh3d\"}], \"parcoords\": [{\"line\": {\"colorbar\": {\"outlinewidth\": 0, \"ticks\": \"\"}}, \"type\": \"parcoords\"}], \"pie\": [{\"automargin\": true, \"type\": \"pie\"}], \"scatter\": [{\"marker\": {\"colorbar\": {\"outlinewidth\": 0, \"ticks\": \"\"}}, \"type\": \"scatter\"}], \"scatter3d\": [{\"line\": {\"colorbar\": {\"outlinewidth\": 0, \"ticks\": \"\"}}, \"marker\": {\"colorbar\": {\"outlinewidth\": 0, \"ticks\": \"\"}}, \"type\": \"scatter3d\"}], \"scattercarpet\": [{\"marker\": {\"colorbar\": {\"outlinewidth\": 0, \"ticks\": \"\"}}, \"type\": \"scattercarpet\"}], \"scattergeo\": [{\"marker\": {\"colorbar\": {\"outlinewidth\": 0, \"ticks\": \"\"}}, \"type\": \"scattergeo\"}], \"scattergl\": [{\"marker\": {\"colorbar\": {\"outlinewidth\": 0, \"ticks\": \"\"}}, \"type\": \"scattergl\"}], \"scattermapbox\": [{\"marker\": {\"colorbar\": {\"outlinewidth\": 0, \"ticks\": \"\"}}, \"type\": \"scattermapbox\"}], \"scatterpolar\": [{\"marker\": {\"colorbar\": {\"outlinewidth\": 0, \"ticks\": \"\"}}, \"type\": \"scatterpolar\"}], \"scatterpolargl\": [{\"marker\": {\"colorbar\": {\"outlinewidth\": 0, \"ticks\": \"\"}}, \"type\": \"scatterpolargl\"}], \"scatterternary\": [{\"marker\": {\"colorbar\": {\"outlinewidth\": 0, \"ticks\": \"\"}}, \"type\": \"scatterternary\"}], \"surface\": [{\"colorbar\": {\"outlinewidth\": 0, \"ticks\": \"\"}, \"colorscale\": [[0.0, \"#0d0887\"], [0.1111111111111111, \"#46039f\"], [0.2222222222222222, \"#7201a8\"], [0.3333333333333333, \"#9c179e\"], [0.4444444444444444, \"#bd3786\"], [0.5555555555555556, \"#d8576b\"], [0.6666666666666666, \"#ed7953\"], [0.7777777777777778, \"#fb9f3a\"], [0.8888888888888888, \"#fdca26\"], [1.0, \"#f0f921\"]], \"type\": \"surface\"}], \"table\": [{\"cells\": {\"fill\": {\"color\": \"#EBF0F8\"}, \"line\": {\"color\": \"white\"}}, \"header\": {\"fill\": {\"color\": \"#C8D4E3\"}, \"line\": {\"color\": \"white\"}}, \"type\": \"table\"}]}, \"layout\": {\"annotationdefaults\": {\"arrowcolor\": \"#2a3f5f\", \"arrowhead\": 0, \"arrowwidth\": 1}, \"coloraxis\": {\"colorbar\": {\"outlinewidth\": 0, \"ticks\": \"\"}}, \"colorscale\": {\"diverging\": [[0, \"#8e0152\"], [0.1, \"#c51b7d\"], [0.2, \"#de77ae\"], [0.3, \"#f1b6da\"], [0.4, \"#fde0ef\"], [0.5, \"#f7f7f7\"], [0.6, \"#e6f5d0\"], [0.7, \"#b8e186\"], [0.8, \"#7fbc41\"], [0.9, \"#4d9221\"], [1, \"#276419\"]], \"sequential\": [[0.0, \"#0d0887\"], [0.1111111111111111, \"#46039f\"], [0.2222222222222222, \"#7201a8\"], [0.3333333333333333, \"#9c179e\"], [0.4444444444444444, \"#bd3786\"], [0.5555555555555556, \"#d8576b\"], [0.6666666666666666, \"#ed7953\"], [0.7777777777777778, \"#fb9f3a\"], [0.8888888888888888, \"#fdca26\"], [1.0, \"#f0f921\"]], \"sequentialminus\": [[0.0, \"#0d0887\"], [0.1111111111111111, \"#46039f\"], [0.2222222222222222, \"#7201a8\"], [0.3333333333333333, \"#9c179e\"], [0.4444444444444444, \"#bd3786\"], [0.5555555555555556, \"#d8576b\"], [0.6666666666666666, \"#ed7953\"], [0.7777777777777778, \"#fb9f3a\"], [0.8888888888888888, \"#fdca26\"], [1.0, \"#f0f921\"]]}, \"colorway\": [\"#636efa\", \"#EF553B\", \"#00cc96\", \"#ab63fa\", \"#FFA15A\", \"#19d3f3\", \"#FF6692\", \"#B6E880\", \"#FF97FF\", \"#FECB52\"], \"font\": {\"color\": \"#2a3f5f\"}, \"geo\": {\"bgcolor\": \"white\", \"lakecolor\": \"white\", \"landcolor\": \"#E5ECF6\", \"showlakes\": true, \"showland\": true, \"subunitcolor\": \"white\"}, \"hoverlabel\": {\"align\": \"left\"}, \"hovermode\": \"closest\", \"mapbox\": {\"style\": \"light\"}, \"paper_bgcolor\": \"white\", \"plot_bgcolor\": \"#E5ECF6\", \"polar\": {\"angularaxis\": {\"gridcolor\": \"white\", \"linecolor\": \"white\", \"ticks\": \"\"}, \"bgcolor\": \"#E5ECF6\", \"radialaxis\": {\"gridcolor\": \"white\", \"linecolor\": \"white\", \"ticks\": \"\"}}, \"scene\": {\"xaxis\": {\"backgroundcolor\": \"#E5ECF6\", \"gridcolor\": \"white\", \"gridwidth\": 2, \"linecolor\": \"white\", \"showbackground\": true, \"ticks\": \"\", \"zerolinecolor\": \"white\"}, \"yaxis\": {\"backgroundcolor\": \"#E5ECF6\", \"gridcolor\": \"white\", \"gridwidth\": 2, \"linecolor\": \"white\", \"showbackground\": true, \"ticks\": \"\", \"zerolinecolor\": \"white\"}, \"zaxis\": {\"backgroundcolor\": \"#E5ECF6\", \"gridcolor\": \"white\", \"gridwidth\": 2, \"linecolor\": \"white\", \"showbackground\": true, \"ticks\": \"\", \"zerolinecolor\": \"white\"}}, \"shapedefaults\": {\"line\": {\"color\": \"#2a3f5f\"}}, \"ternary\": {\"aaxis\": {\"gridcolor\": \"white\", \"linecolor\": \"white\", \"ticks\": \"\"}, \"baxis\": {\"gridcolor\": \"white\", \"linecolor\": \"white\", \"ticks\": \"\"}, \"bgcolor\": \"#E5ECF6\", \"caxis\": {\"gridcolor\": \"white\", \"linecolor\": \"white\", \"ticks\": \"\"}}, \"title\": {\"x\": 0.05}, \"xaxis\": {\"automargin\": true, \"gridcolor\": \"white\", \"linecolor\": \"white\", \"ticks\": \"\", \"title\": {\"standoff\": 15}, \"zerolinecolor\": \"white\", \"zerolinewidth\": 2}, \"yaxis\": {\"automargin\": true, \"gridcolor\": \"white\", \"linecolor\": \"white\", \"ticks\": \"\", \"title\": {\"standoff\": 15}, \"zerolinecolor\": \"white\", \"zerolinewidth\": 2}}}, \"xaxis\": {\"anchor\": \"y\", \"domain\": [0.0, 1.0], \"title\": {\"text\": \"t\"}}, \"yaxis\": {\"anchor\": \"x\", \"domain\": [0.0, 1.0], \"title\": {\"text\": \"v\"}}},\n",
       "                        {\"responsive\": true}\n",
       "                    ).then(function(){\n",
       "                            \n",
       "var gd = document.getElementById('796af61a-a464-42ac-adef-18adde49c5e8');\n",
       "var x = new MutationObserver(function (mutations, observer) {{\n",
       "        var display = window.getComputedStyle(gd).display;\n",
       "        if (!display || display === 'none') {{\n",
       "            console.log([gd, 'removed!']);\n",
       "            Plotly.purge(gd);\n",
       "            observer.disconnect();\n",
       "        }}\n",
       "}});\n",
       "\n",
       "// Listen for the removal of the full notebook cells\n",
       "var notebookContainer = gd.closest('#notebook-container');\n",
       "if (notebookContainer) {{\n",
       "    x.observe(notebookContainer, {childList: true});\n",
       "}}\n",
       "\n",
       "// Listen for the clearing of the current output cell\n",
       "var outputEl = gd.closest('.output');\n",
       "if (outputEl) {{\n",
       "    x.observe(outputEl, {childList: true});\n",
       "}}\n",
       "\n",
       "                        })\n",
       "                };\n",
       "                });\n",
       "            </script>\n",
       "        </div>"
      ]
     },
     "metadata": {},
     "output_type": "display_data"
    },
    {
     "data": {
      "image/png": "[encoded data removed]",
      "text/plain": [
       "<Figure size 432x288 with 1 Axes>"
      ]
     },
     "metadata": {
      "needs_background": "light"
     },
     "output_type": "display_data"
    }
   ],
   "source": [
    "start_scope()\n",
    "\n",
    "tau = 10*ms\n",
    "#eqs0 = '''dv/dt = I_leak / Cm : volt\n",
    "#                       I_leak = g_L*(E_L - v) : amp'''\n",
    "\n",
    "#G0 = NeuronGroup(1, eqs0, threshold='v>0.8', reset='v = 0', refractory=5*ms, method='exact')\n",
    "\n",
    "\n",
    "eqs = '''\n",
    "dv/dt = (1-v)/tau : 1 (unless refractory)\n",
    "'''\n",
    "\n",
    "G = NeuronGroup(1, eqs, threshold='v>0.8', reset='v = 0', refractory=5*ms, method='exact')\n",
    "\n",
    "statemon = StateMonitor(G, 'v', record=0)\n",
    "spikemon = SpikeMonitor(G)\n",
    "\n",
    "run(50*ms)\n",
    "\n",
    "plot(statemon.t/ms, statemon.v[0])\n",
    "df = pd.DataFrame({'v':statemon.v[0],'t':statemon.t/ms})\n",
    "\n",
    "#df = px.data.gapminder().query(\"country=='Canada'\")\n",
    "fig = px.line(df, x=\"t\", y=\"v\")\n",
    "fig.show()\n",
    "\n",
    "for t in spikemon.t:\n",
    "    axvline(t/ms, ls='--', c='C1', lw=3)\n",
    "xlabel('Time (ms)')\n",
    "ylabel('v');"
   ]
  },
  {
   "cell_type": "code",
   "execution_count": 13,
   "metadata": {},
   "outputs": [
    {
     "data": {
      "image/png": "[encoded data removed]",
      "text/plain": [
       "<Figure size 864x288 with 2 Axes>"
      ]
     },
     "metadata": {
      "needs_background": "light"
     },
     "output_type": "display_data"
    }
   ],
   "source": [
    "start_scope()\n",
    "\n",
    "\n",
    "##\n",
    "# A network of 100 neurons\n",
    "##\n",
    "N = 100\n",
    "tau = 10*ms\n",
    "v0_max = 3.\n",
    "duration = 1000*ms\n",
    "\n",
    "eqs = '''\n",
    "dv/dt = (v0-v)/tau : 1 (unless refractory)\n",
    "v0 : 1\n",
    "'''\n",
    "\n",
    "G = NeuronGroup(N, eqs, threshold='v>1', reset='v=0', refractory=5*ms, method='exact')\n",
    "M = SpikeMonitor(G)\n",
    "\n",
    "G.v0 = 'i*v0_max/(N-1)'\n",
    "\n",
    "run(duration)\n",
    "\n",
    "figure(figsize=(12,4))\n",
    "subplot(121)\n",
    "plot(M.t/ms, M.i, '.k')\n",
    "xlabel('Time (ms)')\n",
    "ylabel('Neuron index')\n",
    "subplot(122)\n",
    "plot(G.v0, M.count/duration)\n",
    "xlabel('v0')\n",
    "ylabel('Firing rate (sp/s)');"
   ]
  },
  {
   "cell_type": "markdown",
   "metadata": {},
   "source": [
    "I can recommend these materials:\n",
    " \n",
    "Book (free online version) Chapter 2 only:\n",
    "https://neuronaldynamics.epfl.ch/online/index.html\n",
    "\n",
    "Exercises based on the book:\n",
    "https://neuronaldynamics-exercises.readthedocs.io/en/latest/\n",
    "\n",
    "Tutorials:\n",
    "https://github.com/brian-team/brian2/tree/master/tutorials\n",
    " \n",
    "Slides only (not the code, or code exercises):\n",
    "https://compneuro.neuromatch.io/tutorials/W2D3_BiologicalNeuronModels/student/W2D3_Tutorial1.html\n",
    " \n",
    "The class tutorial I make will be based on all four sources I think."
   ]
  },
  {
   "cell_type": "code",
   "execution_count": 5,
   "metadata": {},
   "outputs": [
    {
     "name": "stdout",
     "output_type": "stream",
     "text": [
      "Introspection\n"
     ]
    },
    {
     "ename": "NameError",
     "evalue": "name 'brian2' is not defined",
     "output_type": "error",
     "traceback": [
      "\u001b[0;31m---------------------------------------------------------------------------\u001b[0m",
      "\u001b[0;31mNameError\u001b[0m                                 Traceback (most recent call last)",
      "\u001b[0;32m<ipython-input-5-a48731d5afe4>\u001b[0m in \u001b[0;36m<module>\u001b[0;34m\u001b[0m\n\u001b[1;32m      1\u001b[0m \u001b[0mprint\u001b[0m\u001b[0;34m(\u001b[0m\u001b[0;34m\"Introspection\"\u001b[0m\u001b[0;34m)\u001b[0m\u001b[0;34m\u001b[0m\u001b[0;34m\u001b[0m\u001b[0m\n\u001b[0;32m----> 2\u001b[0;31m \u001b[0mprint\u001b[0m\u001b[0;34m(\u001b[0m\u001b[0mdir\u001b[0m\u001b[0;34m(\u001b[0m\u001b[0mbrian2\u001b[0m\u001b[0;34m)\u001b[0m\u001b[0;34m)\u001b[0m\u001b[0;34m\u001b[0m\u001b[0;34m\u001b[0m\u001b[0m\n\u001b[0m",
      "\u001b[0;31mNameError\u001b[0m: name 'brian2' is not defined"
     ]
    }
   ],
   "source": [
    "print(\"Introspection\")\n",
    "print(dir(brian2))"
   ]
  }
 ],
 "metadata": {
  "kernelspec": {
   "display_name": "Python 3",
   "language": "python",
   "name": "python3"
  },
  "language_info": {
   "codemirror_mode": {
    "name": "ipython",
    "version": 3
   },
   "file_extension": ".py",
   "mimetype": "text/x-python",
   "name": "python",
   "nbconvert_exporter": "python",
   "pygments_lexer": "ipython3",
   "version": "3.7.4"
  }
 },
 "nbformat": 4,
 "nbformat_minor": 2
}
