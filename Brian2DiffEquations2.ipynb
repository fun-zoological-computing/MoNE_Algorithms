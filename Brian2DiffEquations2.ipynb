{
 "cells": [
  {
   "cell_type": "markdown",
   "metadata": {},
   "source": [
    "<!--![wsu_branding.jpg](wsu_branding.jpg)-->\n",
    "\n",
    "<img src=\"other_lecture/wsu_branding.jpg\" width=\"650\" height=\"650\" />\n"
   ]
  },
  {
   "cell_type": "markdown",
   "metadata": {},
   "source": [
    "<!--\n",
    "# Why Brian2\n",
    "* Sparse\n",
    "* can be converted to fast cpp CUDA code and run on Nvidia Nano.\n",
    "-->\n",
    "\n",
    "[![Open In Colab](https://colab.research.google.com/assets/colab-badge.svg)](https://colab.research.google.com/github/russelljjarvis/LIF_DE_Brian2/blob/main/Brian2DiffEquations.ipynb)\n"
   ]
  },
  {
   "cell_type": "markdown",
   "metadata": {},
   "source": [
    "# Assumed Knowledge (Pre-requisites)\n",
    "\n",
    "* Phospholipid membrane bilayer\n",
    "* Ionic basis of the membrane potential\n",
    "* Programming with Python MATLAB or any procedural language."
   ]
  },
  {
   "cell_type": "markdown",
   "metadata": {},
   "source": [
    "# Contents \n",
    "\n",
    "### In this tutorial we will.\n",
    "\n",
    "- Big picture Biology Overview of electrical excitability and trees.\n",
    "    -  Electrical Signalling in Biology (trees, sea sponges, venus fly trap).\n",
    "    -  Modelling issues: Reduction versus mimicry\n",
    "    -  Motivation for reduced neuron models the LIF neuron.\n",
    "- Solve the LIF neuron with Brian2\n",
    "- Solve the LIF neuron with forward Euler and numba\n",
    "- Compare models with experimental data.\n",
    "- Show how the LIF model is a bad fit for biological data.\n",
    "    - Better fits: Izhikevich and Adaptive Exponential Integrate and fire model.\n",
    "\n"
   ]
  },
  {
   "cell_type": "markdown",
   "metadata": {},
   "source": [
    "# Other Materials:\n",
    " \n",
    "* [Book (free online version) Chapter 2 only](https://neuronaldynamics.epfl.ch/online/index.html)\n",
    "\n",
    "* [Exercises based on the book](https://neuronaldynamics-exercises.readthedocs.io/en/latest/)\n",
    "\n",
    "* [Tutorials](https://github.com/brian-team/brian2/tree/master/tutorials)\n",
    " \n",
    "* [Slides only (not the code, or code exercises](https://compneuro.neuromatch.io/tutorials/W2D3_BiologicalNeuronModels/student/W2D3_Tutorial1.html)\n",
    " \n",
    "\n",
    "\n"
   ]
  },
  {
   "cell_type": "markdown",
   "metadata": {
    "slideshow": {
     "slide_type": "slide"
    }
   },
   "source": [
    "\n",
    "\n"
   ]
  },
  {
   "cell_type": "markdown",
   "metadata": {},
   "source": [
    "\n",
    "## Electrically Excitable cell membranes are common in Natural world \n",
    "\n",
    "* Plant cells can be electrically excitable too (for example the venus fly trap).\n",
    "* Spermatoza.\n",
    "* Pumpkin seeds\n",
    "\n",
    "Reasons include fast behavior, and rapid signalling to other cells.\n",
    "\n",
    "# Venus Fly Trap\n",
    "\n",
    "* A plant that can trap flies by moving surprisingly fast (no skeletal muscles or motor neurons).\n",
    "\n",
    "\n",
    "<img src=\"other_lecture/venus_flytrap_aps.jpg\"  width=\"350\" height=\"350\" />\n"
   ]
  },
  {
   "cell_type": "markdown",
   "metadata": {},
   "source": [
    "\n",
    "[Source](https://www.linkedin.com/in/ACoAAALn2tsB8Yx7K21oU-RUKtRWSjXLrXLeaDA/)\n",
    "\n",
    "# Brain Evolution\n",
    "\n",
    "## Synapses (chemical connnections between cells) may have evolved from very basic organisms\n",
    "\n",
    "\n",
    "<img src=\"other_lecture/recropped_b_evo.png\"  width=\"350\" height=\"350\" />\n",
    "\n",
    "* Such as sea sponges\n",
    "\n",
    "<img src=\"other_lecture/seasponge2.png\"  width=\"350\" height=\"350\" />\n"
   ]
  },
  {
   "cell_type": "markdown",
   "metadata": {},
   "source": [
    "# Trees Shapes are common in Biology.\n",
    "* Nature uses trees to solve the problem of transporting information and nutrients in a volume at low metabolic cost.\n",
    "\n",
    "* A large surface to volume ratio facilitates low cost transport.\n",
    "\n",
    "* We don't have to model the neuronal shape (a tree) to make realistic neuronal simulations\n",
    "\n",
    "\n",
    "\n",
    "\n",
    "<img src=\"other_lecture/trees5.png\" width=\"650\" height=\"650\"/>\n",
    "\n"
   ]
  },
  {
   "cell_type": "markdown",
   "metadata": {},
   "source": [
    "\n",
    "Tree roots may share nutrients and exchange information via fungal mycelium.\n",
    "\n",
    "<img src=\"other_lecture/rhizozome2.png\"  width=\"450\" height=\"450\" />\n",
    "\n",
    "In the brain cell proteins are \"walked\" from rhibosomes (protein factories) along axons to their target destination at axon boutans using \"axonal-transport\".\n",
    "\n",
    "Trees sample many points in a large volume, while occupying little volume themselves."
   ]
  },
  {
   "cell_type": "markdown",
   "metadata": {
    "slideshow": {
     "slide_type": "slide"
    }
   },
   "source": [
    "<!--![](tree3.png)\n",
    "width=\"150\" height=\"150\" />\n",
    "\n",
    "-->\n",
    "\n",
    "\n",
    "\n",
    "\n",
    "\n",
    "# But we don't need the tree to do acceptably realistic simulations of neurons.\n",
    "\n",
    "* Electrically simulating the whole tree might be bio-mimicry.\n",
    "\n",
    "* GLIF neurons can be more accurate than Multicompartment neurons\n",
    "\n",
    "# Biological cells Have Spatially Extended 3D form\n",
    "\n",
    "<img src=\"other_lecture/reduction_to_lif2.png\" width=\"450\" height=\"450\" />\n",
    "\n",
    "# Many reduced neuronal models have no spatial dimensions.\n",
    "\n",
    "* Depicted as a point, conceptually a point.\n",
    "\n",
    "<img src=\"other_lecture/comparison_tree_LIF2.png\" width=\"450\" height=\"450\" />\n",
    "\n"
   ]
  },
  {
   "cell_type": "markdown",
   "metadata": {},
   "source": [
    "# Revision\n",
    "## Recall ...\n",
    "\n",
    "\n",
    "<img src=\"other_lecture/Slide10.jpg\" width=\"450\" height=\"450\" />\n",
    "\n"
   ]
  },
  {
   "cell_type": "markdown",
   "metadata": {},
   "source": [
    "# Revision\n",
    "## Recall ...\n",
    "\n",
    "\n",
    "<img src=\"other_lecture/Slide14.jpg\" width=\"450\" height=\"450\" />\n",
    "\n"
   ]
  },
  {
   "cell_type": "markdown",
   "metadata": {},
   "source": [
    "# Digital Simulation as an biological lab test bench"
   ]
  },
  {
   "cell_type": "markdown",
   "metadata": {},
   "source": [
    "<p>\n",
    "    <img src=\"other_lecture/virtual_experiment.png\" width=\"450\" height=\"450\" />\n",
    "</p>\n"
   ]
  },
  {
   "cell_type": "markdown",
   "metadata": {},
   "source": [
    "On the time-grid of of stepsize $\\Delta t$, the dynamics of Eqn. (1) is discretized to be \n",
    "\n",
    "\\begin{eqnarray}\n",
    "\\tau_m \\frac{\\Delta V_n}{\\Delta t} &=& -(V_n-V_L) +\\frac{I_n}{g_L},\n",
    "\\end{eqnarray}\n",
    "\n",
    "where $V_n = V(n\\Delta t)$, and $I_n=I(n\\Delta t)$. \n",
    "\n",
    "Then the updating process of $V_{n+1}$ at time $t_{n+1}=(n+1)\\Delta t$ based on $V_{n}$ can be formed as \n",
    "\n",
    "\\begin{eqnarray}\n",
    "V_{n+1} &=& V_n+ \\Delta V_n \\\\\n",
    "\\Delta V_n &=&  \\left(-(V_n-V_L) +\\frac{I}{g_L}\\right)\\frac{\\Delta t}{\\tau_m} \\qquad (2)\n",
    "\\end{eqnarray}\n",
    "\n",
    "\n",
    "<div class=\"column\"></div>\n",
    "<img src=\"other_lecture/digital_implementation.png\" width=\"350\" height=\"350\" />\n",
    "\n"
   ]
  },
  {
   "cell_type": "markdown",
   "metadata": {},
   "source": [
    "# Installs for Collab"
   ]
  },
  {
   "cell_type": "code",
   "execution_count": 1,
   "metadata": {},
   "outputs": [],
   "source": [
    "!pip install pandas -q\n",
    "!pip install brian2 -q\n",
    "!pip install plotly -q\n",
    "!pip install ipywidgets -q\n"
   ]
  },
  {
   "cell_type": "code",
   "execution_count": 2,
   "metadata": {},
   "outputs": [
    {
     "name": "stdout",
     "output_type": "stream",
     "text": [
      "fatal: destination path 'neuropynamics' already exists and is not an empty directory.\n"
     ]
    }
   ],
   "source": [
    "!git clone https://github.com/DiGyt/neuropynamics/ -q\n"
   ]
  },
  {
   "cell_type": "markdown",
   "metadata": {},
   "source": [
    "# Interactive Code"
   ]
  },
  {
   "cell_type": "code",
   "execution_count": 3,
   "metadata": {},
   "outputs": [],
   "source": [
    "from brian2 import *\n",
    "import plotly\n",
    "from brian2 import NeuronGroup, SpikeMonitor, StateMonitor, run\n",
    "from brian2.units import ms\n",
    "import plotly.express as px\n",
    "import pandas as pd\n",
    "#from ipywidgets import Button, Layout\n",
    "#import ipywidgets as widgets\n",
    "#%matplotlib inline\n",
    "import matplotlib.pyplot as plt\n",
    "#import seaborn as sns\n",
    "\n",
    "# Main packages\n",
    "import numpy as np\n",
    "# Brian2 package\n",
    "# Unit definitions\n",
    "from brian2 import mV, ms, volt, second, umetre, ufarad, siemens, cm, msiemens, amp, uA, nA\n",
    "# Other stuff\n",
    "from brian2 import start_scope, NeuronGroup, StateMonitor, SpikeMonitor, run\n",
    "# Plotting stuff\n",
    "from neuropynamics.src.utils.plotting import plot_single_neuron\n",
    "# Interactive widgets\n",
    "\n",
    "\n",
    "import ipywidgets as widgets\n",
    "from ipywidgets import interact, interactive, fixed, HBox, VBox, Layout\n",
    "# Set button layout\n",
    "button_layout = Layout(width='180px', height='30px')\n",
    "\n",
    "# Set slider config\n",
    "slider_total_width = '800px'\n",
    "slider_desc_width = '200px'\n",
    "\n",
    "\n",
    "#from IPython.display import Javascript\n",
    "#try:\n",
    "#    display(Javascript('''google.colab.output.setIframeHeight(0, true, {maxHeight: 5000})'''))\n",
    "#except:\n",
    "#    pass\n",
    "\n",
    "\n"
   ]
  },
  {
   "cell_type": "markdown",
   "metadata": {},
   "source": [
    "# Perfect Integrator\n",
    "\n",
    "\n",
    "* The perfect Integrator is a stepping stone to understanding the **Leaky Integrate and Fire** model.\n",
    "\n",
    "\n",
    "\n",
    "## Insert Perfect Integrator Equations below.\n",
    "\n",
    "# Leaky Integrate and Fire model"
   ]
  },
  {
   "cell_type": "markdown",
   "metadata": {},
   "source": [
    "<!---\n",
    "![](water_analogy.png)\n",
    "-->"
   ]
  },
  {
   "cell_type": "markdown",
   "metadata": {},
   "source": [
    "# First we will simulate a LIF neuron \n",
    "the easy way using Brian2, so we know we have something to compare with\n"
   ]
  },
  {
   "cell_type": "markdown",
   "metadata": {},
   "source": [
    "https://brian2.readthedocs.io/en/stable/introduction/brian1_to_2/library.html\n",
    "\n",
    "\n",
    "# Code approach borrowed from here:\n",
    "\n",
    "https://colab.research.google.com/github/DiGyt/neuropynamics/blob/master/notebooks/Single_neurons.ipynb#scrollTo=-BMn7Gi5EWGn"
   ]
  },
  {
   "cell_type": "code",
   "execution_count": 4,
   "metadata": {},
   "outputs": [],
   "source": [
    "N = 1"
   ]
  },
  {
   "cell_type": "code",
   "execution_count": 5,
   "metadata": {},
   "outputs": [],
   "source": [
    "\n",
    "def create_lif_neuron(v_max):\n",
    "    \"\"\"Creates a brian2 NeuronGroup that contains a single leaky integrate-and-fire neuron\"\"\"\n",
    "    # Define differential equation for leaky integrate-and-fire neuron\n",
    "    eqs = '''   \n",
    "        dv/dt = ((El - v) + I)/tau : volt\n",
    "        \n",
    "        I : volt\n",
    "        '''\n",
    "    # Define reset function\n",
    "    reset = 'v = {}*mV'.format(v_max-20)\n",
    "    # Define threshold\n",
    "    threshold = 'v > {}*mV'.format(v_max)\n",
    "    # Return NeuronGroup object\n",
    "    return NeuronGroup(1, eqs, threshold = threshold, reset = reset, method = 'euler')\n",
    "\n",
    "def reset_lif(name):\n",
    "    I_ext_slider.value = I_ext_def\n",
    "    tau_slider.value = tau_def\n",
    "    e_leak_slider.value = e_leak_def\n",
    "\n",
    "# Create function that creates a neuron and plots its behavior based on the given parameters\n",
    "def create_and_plot_lif_neuron(I_ext, tau, e_leak, v_max):\n",
    "    # Start the scope for the brian2 toolbox to register all neurons that are created\n",
    "    start_scope()\n",
    "    # Define the neuron\n",
    "    neuron = create_lif_neuron(v_max)      \n",
    "    # Set neuron parameters\n",
    "    tau = tau*ms;\n",
    "    El = -e_leak*mV\n",
    "    # Start monitoring the neurons state\n",
    "    statemon = StateMonitor(source = neuron, variables = ['v', 'I'], record = 0)\n",
    "    # Start monitoring spiking behavior\n",
    "    spikemon = SpikeMonitor(source = neuron, variables= 'v')\n",
    "    # Run neuron simulation for 100ms without input\n",
    "    run(100*ms)\n",
    "    # Set input current to neuron\n",
    "    neuron.I = I_ext * mV\n",
    "    # Run 500ms with input\n",
    "    run(500*ms)\n",
    "    # Remove input current to neuron\n",
    "    neuron.I = 0 * mV\n",
    "    # Run neuron simulation for 100ms without input\n",
    "    run(100*ms)\n",
    "    # Plot results\n",
    "    plot_single_neuron(x = statemon.t/ms, neuron_data = [statemon.v[0]/mV], neuron_labels = ['Membrane Potential'], neuron_colors = ['steelblue'], \\\n",
    "                     spikes = spikemon.t/ms, spike_color = 'red', \\\n",
    "                     input_current = statemon.I[0]/mV, input_label = 'Input Current', input_color = 'gold', \\\n",
    "                     y_range = [-90,0], title = 'Leaky Integrate-and-Fire Neuron', x_axis_label = 'Time (ms)', y_axis_label = 'Membrane Potential', input_axis_label = 'Input Current', hline = v_max)\n",
    "  \n"
   ]
  },
  {
   "cell_type": "code",
   "execution_count": 6,
   "metadata": {},
   "outputs": [
    {
     "data": {
      "image/png": "[encoded data removed]",
      "text/plain": [
       "<Figure size 1008x432 with 2 Axes>"
      ]
     },
     "metadata": {},
     "output_type": "display_data"
    }
   ],
   "source": [
    "# Set default parameters \n",
    "I_ext_def = 10.\n",
    "tau_def = 20.\n",
    "e_leak_def = 59.\n",
    "\n",
    "# Create sliders for neuron parameters\n",
    "tau_slider = widgets.FloatSlider(value = tau_def, min = 1., max = 30., step = 1, description = 'Charging modulation tau:', readout_format = '.1f', continuous_update = False, layout = {'width': slider_total_width}, style = {'description_width': slider_desc_width})\n",
    "e_leak_slider = widgets.FloatSlider(value = e_leak_def, min = 0., max = 85., step = 1, description = 'Leakage E_leak:', readout_format = '.1f', continuous_update = False, layout = {'width': slider_total_width}, style = {'description_width': slider_desc_width}) \n",
    "\n",
    "# Create slider for input current\n",
    "I_ext_slider = widgets.FloatSlider(value = I_ext_def, min = 0., max = 40., step = 1, description = 'Input current I:', readout_format = '.1f', continuous_update = False, layout = {'width': slider_total_width}, style = {'description_width': slider_desc_width})\n",
    "\n",
    "# Make interactive widget for function above with the given sliders\n",
    "main_widgets = interactive(create_and_plot_lif_neuron, I_ext = I_ext_slider, tau = tau_slider, e_leak = e_leak_slider, v_max = fixed(-50))\n",
    "\n",
    "\n",
    "# Reset button\n",
    "reset_button = widgets.Button(description='Reset', layout = button_layout)\n",
    "reset_button.on_click(reset_lif)\n",
    "\n",
    "# Display main widgets and reset button\n",
    "display(VBox(children=[reset_button, main_widgets]))"
   ]
  },
  {
   "cell_type": "code",
   "execution_count": 7,
   "metadata": {},
   "outputs": [],
   "source": [
    "\n",
    "def get_step_current(t_start, t_end, unit_time, amplitude, append_zero=True):\n",
    "\n",
    "    \"\"\"Creates a step current. If t_start == t_end, then a single\n",
    "    entry in the values array is set to amplitude.\n",
    "    Args:\n",
    "        t_start (int): start of the step\n",
    "        t_end (int): end of the step\n",
    "        unit_time (Brian2 unit): unit of t_start and t_end. e.g. 0.1*brian2.ms\n",
    "        amplitude (Quantity): amplitude of the step. e.g. 3.5*brian2.uamp\n",
    "    Returns: TimedArray: Brian2.TimedArray\n",
    "    \"\"\"\n",
    "\n",
    "    assert isinstance(t_start, int), \"t_start_ms must be of type int\"\n",
    "    assert isinstance(t_end, int), \"t_end must be of type int\"\n",
    "    assert b2.units.fundamentalunits.have_same_dimensions(amplitude, b2.amp), \\\n",
    "        \"amplitude must have the dimension of current e.g. brian2.uamp\"\n",
    "    tmp_size = 1 + t_end  # +1 for t=0\n",
    "    if append_zero:\n",
    "        tmp_size += 1\n",
    "    tmp = np.zeros((tmp_size, 1)) * b2.amp\n",
    "    tmp[t_start: t_end + 1, 0] = amplitude\n",
    "    curr = b2.TimedArray(tmp, dt=1. * unit_time)\n",
    "    return curr"
   ]
  },
  {
   "cell_type": "code",
   "execution_count": 8,
   "metadata": {},
   "outputs": [
    {
     "data": {
      "text/plain": [
       "'\\nneuron = NeuronGroup(1, model=eqs,\\n                    reset=\\'v = 0*mV\\',\\n                    threshold=\\'v > 15*mV\\')\\n\\n\\n# monitoring membrane potential of neuron and injecting current\\nstate_monitor = StateMonitor(neuron, [\"v\"], record=True)\\nspike_monitor = SpikeMonitor(neuron)\\n# run the simulation\\nrun(1000* ms)\\n\\ndf = pd.DataFrame({\\'v\\':statemon.v[0],\\'t\\':statemon.t/ms})\\n\\nfig = px.line(df, x=\"t\", y=\"v\")\\nfig.show()\\n\\n'"
      ]
     },
     "execution_count": 8,
     "metadata": {},
     "output_type": "execute_result"
    }
   ],
   "source": [
    "# same input for all neurons\n",
    "\"\"\"\n",
    "start_scope()\n",
    "#I = TimedArray(linspace(10*nS, 10*nS, 10),dt=1*ms)\n",
    "\n",
    "#I = TimedArray(np.hstack([[c, c, c, 0, 0]\n",
    "#                                 for c in np.random.rand(1000)]),\n",
    "#                                dt=10*ms)\n",
    "\n",
    "\n",
    "from brian2 import amp\n",
    "t_start = 100\n",
    "t_end = 1000\n",
    "tmp_size = 1 + t_end  # +1 for t=0\n",
    "#if append_zero:\n",
    "#    tmp_size += 1\n",
    "tmp = np.zeros((tmp_size, 1)) * amp\n",
    "tmp[t_start: t_end + 1, 0] = 20  * amp\n",
    "I = TimedArray(tmp, dt=1. * ms)\n",
    "#I = TimedArray(linspace(0*mV, 30*mV, 1000),\n",
    "#               dt=1*ms)\n",
    "\n",
    "\"\"\"\n",
    "#eqs = '''\n",
    "#      dv/dt = (I(t) - v)/tau : volt\n",
    "#      '''\n",
    "\n",
    "#eqs = \"\"\"\n",
    "#    dv/dt = ((El - v) + I(t))/tau : volt (unless refractory)\n",
    "#    I : amp\n",
    "#    \"\"\"\n",
    "\n",
    "\n",
    "#I = TimedArray(linspace(10*nS, 10*nS, 10),dt=1*ms)\n",
    "#eqs = '''dv/dt = ((El - v) + I(t)\n",
    "\n",
    "#eqs = '''dvm/dt = (gL*(EL-vm)+gL*DeltaT*exp((vm-VT)/DeltaT) -w + I)/C : volt\n",
    "#         dw/dt=(a*(vm-EL)-w)/tauw : amp\n",
    "#         I : amp'''\n",
    "\"\"\"\n",
    "neuron = NeuronGroup(1, model=eqs,\n",
    "                    reset='v = 0*mV',\n",
    "                    threshold='v > 15*mV')\n",
    "\n",
    "\n",
    "# monitoring membrane potential of neuron and injecting current\n",
    "state_monitor = StateMonitor(neuron, [\"v\"], record=True)\n",
    "spike_monitor = SpikeMonitor(neuron)\n",
    "# run the simulation\n",
    "run(1000* ms)\n",
    "\n",
    "df = pd.DataFrame({'v':statemon.v[0],'t':statemon.t/ms})\n",
    "\n",
    "fig = px.line(df, x=\"t\", y=\"v\")\n",
    "fig.show()\n",
    "\n",
    "\"\"\""
   ]
  },
  {
   "cell_type": "code",
   "execution_count": 9,
   "metadata": {},
   "outputs": [
    {
     "data": {
      "text/plain": [
       "'\\nv_rest=-65\\n\\n# LIF neuron using Brian2 library\\nneuron = b2.NeuronGroup(\\n    1, model=eqs, reset=\"v=v_reset\", threshold=\"v>firing_threshold\",refractory=10, method=\"linear\")\\n#neuron.v = v_rest  # set initial value\\n\\n# monitoring membrane potential of neuron and injecting current\\nstate_monitor = b2.StateMonitor(neuron, [\"v\"], record=True)\\nspike_monitor = b2.SpikeMonitor(neuron)\\n# run the simulation\\nrun(1000* ms)\\n'"
      ]
     },
     "execution_count": 9,
     "metadata": {},
     "output_type": "execute_result"
    }
   ],
   "source": [
    "\"\"\"\n",
    "start_scope()\n",
    "\n",
    "import brian2 as b2\n",
    "#t_start = 10#* b2.ms\n",
    "#t_end = 100#* b2.ms\n",
    "#amplitude=10\n",
    "#input_current = get_step_current(t_start, t_end, 1 * b2.ms, amplitude *b2.pA)\n",
    "\n",
    "#eqs = \"\"\"\n",
    "#    dv/dt =\n",
    "#    ( -(v-v_rest) + membrane_resistance * input_current(t) ) / membrane_time_scale : volt (unless refractory)\"\"\"#\n",
    "\n",
    "\n",
    "#I = TimedArray(linspace(10*nS, 10*nS, 10),dt=1*ms)\n",
    "#eqs = '''dv/dt = ((El - v) + I(t)\n",
    "#\n",
    "#eqs = '''dvm/dt = (gL*(EL-vm)+gL*DeltaT*exp((vm-VT)/DeltaT) -w + I)/C : volt\n",
    "#         dw/dt=(a*(vm-EL)-w)/tauw : amp\n",
    "#         I : amp'''\n",
    "\"\"\"\n",
    "v_rest=-65\n",
    "\n",
    "# LIF neuron using Brian2 library\n",
    "neuron = b2.NeuronGroup(\n",
    "    1, model=eqs, reset=\"v=v_reset\", threshold=\"v>firing_threshold\",refractory=10, method=\"linear\")\n",
    "#neuron.v = v_rest  # set initial value\n",
    "\n",
    "# monitoring membrane potential of neuron and injecting current\n",
    "state_monitor = b2.StateMonitor(neuron, [\"v\"], record=True)\n",
    "spike_monitor = b2.SpikeMonitor(neuron)\n",
    "# run the simulation\n",
    "run(1000* ms)\n",
    "\"\"\"\n"
   ]
  },
  {
   "cell_type": "code",
   "execution_count": 10,
   "metadata": {},
   "outputs": [
    {
     "data": {
      "text/plain": [
       "'\\nstart_scope()\\nimport brian2 as b2\\n\\ntau = 10*ms; El = -70*mV\\n\\nI = TimedArray(linspace(0*b2.mV, 20*b2.mV, 100),\\n               dt=10*b2.ms)\\n#eqs = \\'\\'\\'dv/dt = ((El - v) + I(t))/tau : volt\\n#         I : volt\\n#\\n#\\'\\'\\'\\n\\n\\ngroup = NeuronGroup(1, eqs,\\n                    threshold=\\'v > -50*mV\\',\\n                    reset=\\'v = -70*mV\\', refractory=5*ms, method=\\'exact\\')\\n\\nstatemon = StateMonitor(group,  \\'v\\', record=0)\\nspikemon = SpikeMonitor(group)\\n\\nrun(100*ms)\\n\\ndf = pd.DataFrame({\\'v\\':statemon.v[0],\\'t\\':statemon.t/ms})\\n\\nfig = px.line(df, x=\"t\", y=\"v\")\\nfig.show()\\n'"
      ]
     },
     "execution_count": 10,
     "metadata": {},
     "output_type": "execute_result"
    }
   ],
   "source": [
    "\"\"\"\n",
    "start_scope()\n",
    "import brian2 as b2\n",
    "\n",
    "tau = 10*ms; El = -70*mV\n",
    "\n",
    "I = TimedArray(linspace(0*b2.mV, 20*b2.mV, 100),\n",
    "               dt=10*b2.ms)\n",
    "#eqs = '''dv/dt = ((El - v) + I(t))/tau : volt\n",
    "#         I : volt\n",
    "#\n",
    "#'''\n",
    "\n",
    "\n",
    "group = NeuronGroup(1, eqs,\n",
    "                    threshold='v > -50*mV',\n",
    "                    reset='v = -70*mV', refractory=5*ms, method='exact')\n",
    "\n",
    "statemon = StateMonitor(group,  'v', record=0)\n",
    "spikemon = SpikeMonitor(group)\n",
    "\n",
    "run(100*ms)\n",
    "\n",
    "df = pd.DataFrame({'v':statemon.v[0],'t':statemon.t/ms})\n",
    "\n",
    "fig = px.line(df, x=\"t\", y=\"v\")\n",
    "fig.show()\n",
    "\"\"\""
   ]
  },
  {
   "cell_type": "code",
   "execution_count": 11,
   "metadata": {},
   "outputs": [
    {
     "data": {
      "text/plain": [
       "'\\nstart_scope()\\n\\nC = 1*nF; gL = 30*nS; EL = -70*mV; VT = -50*mV; DeltaT = 2*mV\\neqs = \\'\\'\\'dvm/dt = (gL*(EL-vm)+gL*DeltaT*exp((vm-VT)/DeltaT) + I)/C : volt\\n         I : amp\\'\\'\\'\\ngroup = NeuronGroup(N, eqs,\\n                    threshold=\\'v > -50*mV\\',\\n                    reset=\\'v = -70*mV\\')\\n\\nstatemon = StateMonitor(group, \\'v\\', record=0)\\nspikemon = SpikeMonitor(group)\\n\\nrun(150*ms)\\n\\ndf = pd.DataFrame({\\'v\\':statemon.v[0],\\'t\\':statemon.t/ms})\\n\\nfig = px.line(df, x=\"t\", y=\"v\")\\nfig.show()\\n'"
      ]
     },
     "execution_count": 11,
     "metadata": {},
     "output_type": "execute_result"
    }
   ],
   "source": [
    "\"\"\"\n",
    "start_scope()\n",
    "\n",
    "C = 1*nF; gL = 30*nS; EL = -70*mV; VT = -50*mV; DeltaT = 2*mV\n",
    "eqs = '''dvm/dt = (gL*(EL-vm)+gL*DeltaT*exp((vm-VT)/DeltaT) + I)/C : volt\n",
    "         I : amp'''\n",
    "group = NeuronGroup(N, eqs,\n",
    "                    threshold='v > -50*mV',\n",
    "                    reset='v = -70*mV')\n",
    "\n",
    "statemon = StateMonitor(group, 'v', record=0)\n",
    "spikemon = SpikeMonitor(group)\n",
    "\n",
    "run(150*ms)\n",
    "\n",
    "df = pd.DataFrame({'v':statemon.v[0],'t':statemon.t/ms})\n",
    "\n",
    "fig = px.line(df, x=\"t\", y=\"v\")\n",
    "fig.show()\n",
    "\"\"\""
   ]
  },
  {
   "cell_type": "code",
   "execution_count": null,
   "metadata": {},
   "outputs": [],
   "source": [
    "\n",
    "\n"
   ]
  },
  {
   "cell_type": "code",
   "execution_count": 12,
   "metadata": {},
   "outputs": [
    {
     "data": {
      "text/plain": [
       "'\\nstart_scope()\\n\\nC = 1*nF; gL = 30*nS; EL = -70*mV; VT = -50*mV; DeltaT = 2*mV; tauw = 150*ms; a = 4*nS\\nI = TimedArray(linspace(10*nS, 10*nS, 10),dt=1*ms)\\n#eqs = \\'\\'\\'dv/dt = ((El - v) + I(t)\\n\\neqs = \\'\\'\\'dvm/dt = (gL*(EL-vm)+gL*DeltaT*exp((vm-VT)/DeltaT) -w + I)/C : volt\\n         dw/dt=(a*(vm-EL)-w)/tauw : amp\\n         I : amp\\'\\'\\'\\ngroup = NeuronGroup(N, eqs,\\n                    threshold=\\'vm > -20*mV\\',\\n                    reset=\\'vm=-70*mV; w += 0.08*nA\\')\\n\\nstatemon = StateMonitor(group, \\'vm\\', record=0)\\nspikemon = SpikeMonitor(group)\\n\\nrun(150*ms)\\n\\ndf = pd.DataFrame({\\'v\\':statemon.vm[0],\\'t\\':statemon.t/ms})\\n\\nfig = px.line(df, x=\"t\", y=\"v\")\\nfig.show()\\n'"
      ]
     },
     "execution_count": 12,
     "metadata": {},
     "output_type": "execute_result"
    }
   ],
   "source": [
    "\"\"\"\n",
    "start_scope()\n",
    "\n",
    "C = 1*nF; gL = 30*nS; EL = -70*mV; VT = -50*mV; DeltaT = 2*mV; tauw = 150*ms; a = 4*nS\n",
    "I = TimedArray(linspace(10*nS, 10*nS, 10),dt=1*ms)\n",
    "#eqs = '''dv/dt = ((El - v) + I(t)\n",
    "\n",
    "eqs = '''dvm/dt = (gL*(EL-vm)+gL*DeltaT*exp((vm-VT)/DeltaT) -w + I)/C : volt\n",
    "         dw/dt=(a*(vm-EL)-w)/tauw : amp\n",
    "         I : amp'''\n",
    "group = NeuronGroup(N, eqs,\n",
    "                    threshold='vm > -20*mV',\n",
    "                    reset='vm=-70*mV; w += 0.08*nA')\n",
    "\n",
    "statemon = StateMonitor(group, 'vm', record=0)\n",
    "spikemon = SpikeMonitor(group)\n",
    "\n",
    "run(150*ms)\n",
    "\n",
    "df = pd.DataFrame({'v':statemon.vm[0],'t':statemon.t/ms})\n",
    "\n",
    "fig = px.line(df, x=\"t\", y=\"v\")\n",
    "fig.show()\n",
    "\"\"\""
   ]
  },
  {
   "cell_type": "code",
   "execution_count": 13,
   "metadata": {},
   "outputs": [
    {
     "ename": "IndentationError",
     "evalue": "expected an indented block (<ipython-input-13-28482b6d7f36>, line 120)",
     "output_type": "error",
     "traceback": [
      "\u001b[0;36m  File \u001b[0;32m\"<ipython-input-13-28482b6d7f36>\"\u001b[0;36m, line \u001b[0;32m120\u001b[0m\n\u001b[0;31m    sp_num = (sp / dt).astype(int) - 1\u001b[0m\n\u001b[0m         ^\u001b[0m\n\u001b[0;31mIndentationError\u001b[0m\u001b[0;31m:\u001b[0m expected an indented block\n"
     ]
    }
   ],
   "source": [
    "#import numba\n",
    "#@numba.jit\n",
    "def run_LIF(pars, Iinj, stop=False):\n",
    "  \"\"\"\n",
    "  Simulate the LIF dynamics with external input current\n",
    "\n",
    "  Args:\n",
    "    pars       : parameter dictionary\n",
    "    Iinj       : input current [pA]. The injected current here can be a value\n",
    "                 or an array\n",
    "    stop       : boolean. If True, use a current pulse\n",
    "\n",
    "  Returns:\n",
    "    rec_v      : membrane potential\n",
    "    rec_sp     : spike times\n",
    "  \"\"\"\n",
    "\n",
    "  # Set parameters\n",
    "  V_th, V_reset = pars['V_th'], pars['V_reset']\n",
    "  tau_m, g_L = pars['tau_m'], pars['g_L']\n",
    "  V_init, E_L = pars['V_init'], pars['E_L']\n",
    "  dt, range_t = pars['dt'], pars['range_t']\n",
    "  Lt = range_t.size\n",
    "  tref = pars['tref']\n",
    "\n",
    "  # Initialize voltage\n",
    "  v = np.zeros(Lt)\n",
    "  v[0] = V_init\n",
    "\n",
    "  # Set current time course\n",
    "  Iinj = Iinj * np.ones(Lt)\n",
    "\n",
    "  # If current pulse, set beginning and end to 0\n",
    "  if stop:\n",
    "    Iinj[:int(len(Iinj) / 2) - 1000] = 0\n",
    "    Iinj[int(len(Iinj) / 2) + 1000:] = 0\n",
    "  #print(Iinj)\n",
    "  # Loop over time\n",
    "  rec_spikes = []  # record spike times\n",
    "  tr = 0.  # the count for refractory duration\n",
    "  #times = [it for it in range(Lt - 2)]\n",
    "  for it in range(Lt - 2):\n",
    "\n",
    "\n",
    "    if tr > 0:  # check if in refractory period\n",
    "      v[it] = V_reset  # set voltage to reset\n",
    "      tr = tr - 1 # reduce running counter of refractory period\n",
    "    elif v[it] >= V_th:  # if voltage over threshold\n",
    "      rec_spikes.append(it)  # record spike event\n",
    "      v[it] = V_reset  # reset voltage\n",
    "\n",
    "      tr = tref / dt  # set refractory time\n",
    "    # Calculate the increment of the membrane potential\n",
    "    #dv = (-(v[it]-E_L) + (Iinj[it]/g_L))*(dt/tau_m)\n",
    "    # Update the membrane potential\n",
    "    #v[it + 1] = v[it] + dv\n",
    "\n",
    "  # Get spike times in ms\n",
    "  rec_spikes = np.array(rec_spikes) * dt\n",
    "    \n",
    "  return v, rec_spikes\n",
    "\n",
    "def default_pars(**kwargs):\n",
    "  pars = {}\n",
    "\n",
    "  # typical neuron parameters#\n",
    "  pars['V_th'] = -55.     # spike threshold [mV]\n",
    "  pars['V_reset'] = -75.  # reset potential [mV]\n",
    "  pars['tau_m'] = 10.     # membrane time constant [ms]\n",
    "  pars['g_L'] = 10.       # leak conductance [nS]\n",
    "  pars['V_init'] = -75.   # initial potential [mV]\n",
    "  pars['E_L'] = -75.      # leak reversal potential [mV]\n",
    "  pars['tref'] = 2.       # refractory time (ms)\n",
    "\n",
    "  # simulation parameters #\n",
    "  pars['T'] = 440.  # Total duration of simulation [ms]\n",
    "  pars['dt'] = .1   # Simulation time step [ms]\n",
    "\n",
    "  # external parameters if any #\n",
    "  for k in kwargs:\n",
    "    pars[k] = kwargs[k]\n",
    "\n",
    "  pars['range_t'] = np.arange(0, pars['T'], pars['dt'])  # Vector of discretized time points [ms]\n",
    "\n",
    "  return pars\n",
    "\n",
    "\n",
    "pars = default_pars()\n",
    "\n",
    "# Get parameters\n",
    "#pars = default_pars(T=500)\n",
    "\n",
    "# Simulate LIF model\n",
    "v, sp = run_LIF(pars, Iinj=210, stop=True)\n",
    "\n",
    "# Visualize\n",
    "\n",
    "#def plot_volt_trace(v,times):\n",
    "#    print(len(v))\n",
    "#    print(len(times))\n",
    "\n",
    "#    plotly.express.line(x=times,y=v)\n",
    "\n",
    "def plot_volt_trace(pars, v, sp):\n",
    "    \"\"\"\n",
    "    Plot trajetory of membrane potential for a single neuron\n",
    "\n",
    "    Expects:\n",
    "    pars   : parameter dictionary\n",
    "    v      : volt trajetory\n",
    "    sp     : spike train\n",
    "\n",
    "    Returns:\n",
    "    figure of the membrane potential trajetory for a single neuron\n",
    "    \"\"\"\n",
    "\n",
    "    V_th = pars['V_th']\n",
    "    dt, range_t = pars['dt'], pars['range_t']\n",
    "    if sp.size:\n",
    "    sp_num = (sp / dt).astype(int) - 1\n",
    "    v[sp_num] += 20  # draw nicer spikes\n",
    "\n",
    "    plt.plot(pars['range_t'], v, 'b')\n",
    "    plt.axhline(V_th, 0, 1, color='k', ls='--')\n",
    "    plt.xlabel('Time (ms)')\n",
    "    plt.ylabel('V (mV)')\n",
    "    plt.legend(['Membrane\\npotential', r'Threshold V$_{\\mathrm{th}}$'],\n",
    "             loc=[1.05, 0.75])\n",
    "    plt.ylim([-80, -40])\n",
    "\n",
    "plot_volt_trace(pars, v, sp)\n",
    "\n"
   ]
  },
  {
   "cell_type": "code",
   "execution_count": null,
   "metadata": {},
   "outputs": [],
   "source": [
    "\n",
    "my_layout=Layout(width='50%', height='80px')\n",
    "#my_layout.width = '450px'\n",
    "@widgets.interact(\n",
    "    I_dc=widgets.FloatSlider(50., min=0., max=300., step=1.,\n",
    "                               layout=my_layout),\n",
    "    tau_m=widgets.FloatSlider(10., min=2., max=20., step=2.,\n",
    "                                layout=my_layout)\n",
    ")\n",
    "\n",
    "def diff_DC(I_dc=200., tau_m=10.):\n",
    "    pars = default_pars(T=1000.)\n",
    "    pars['tau_m'] = tau_m\n",
    "    v, sp = run_LIF(pars, Iinj=I_dc)\n",
    "    plot_volt_trace(pars, v, sp)\n",
    "    plt.show()"
   ]
  },
  {
   "cell_type": "markdown",
   "metadata": {},
   "source": [
    "![](other_lecture/fitting_to_data.png)"
   ]
  },
  {
   "cell_type": "code",
   "execution_count": null,
   "metadata": {},
   "outputs": [],
   "source": [
    "\"\"\"\n",
    "start_scope()\n",
    "\n",
    "tau = 10*ms\n",
    "#eqs0 = '''dv/dt = I_leak / Cm : volt\n",
    "#                       I_leak = g_L*(E_L - v) : amp'''\n",
    "\n",
    "#G0 = NeuronGroup(1, eqs0, threshold='v>0.8', reset='v = 0', refractory=5*ms, method='exact')\n",
    "\n",
    "\n",
    "eqs = '''\n",
    "dv/dt = (1-v)/tau : 1 (unless refractory)\n",
    "'''\n",
    "\n",
    "G = NeuronGroup(1, eqs, threshold='v>0.8', reset='v = 0', refractory=5*ms, method='exact')\n",
    "\n",
    "statemon = StateMonitor(G, 'v', record=0)\n",
    "spikemon = SpikeMonitor(G)\n",
    "\n",
    "run(50*ms)\n",
    "\n",
    "plot(statemon.t/ms, statemon.v[0])\n",
    "df = pd.DataFrame({'v':statemon.v[0],'t':statemon.t/ms})\n",
    "\n",
    "#df = px.data.gapminder().query(\"country=='Canada'\")\n",
    "fig = px.line(df, x=\"t\", y=\"v\")\n",
    "fig.show()\n",
    "\n",
    "for t in spikemon.t:\n",
    "    axvline(t/ms, ls='--', c='C1', lw=3)\n",
    "xlabel('Time (ms)')\n",
    "ylabel('v');\n",
    "\"\"\""
   ]
  },
  {
   "cell_type": "code",
   "execution_count": null,
   "metadata": {},
   "outputs": [],
   "source": [
    "\"\"\"\n",
    "start_scope()\n",
    "\n",
    "\n",
    "##\n",
    "# A network of 100 neurons\n",
    "##\n",
    "N = 100\n",
    "tau = 10*ms\n",
    "v0_max = 3.\n",
    "duration = 1000*ms\n",
    "\n",
    "eqs = '''\n",
    "dv/dt = (v0-v)/tau : 1 (unless refractory)\n",
    "v0 : 1\n",
    "'''\n",
    "\n",
    "G = NeuronGroup(N, eqs, threshold='v>1', reset='v=0', refractory=5*ms, method='exact')\n",
    "M = SpikeMonitor(G)\n",
    "\n",
    "G.v0 = 'i*v0_max/(N-1)'\n",
    "\n",
    "run(duration)\n",
    "\n",
    "figure(figsize=(12,4))\n",
    "subplot(121)\n",
    "plot(M.t/ms, M.i, '.k')\n",
    "xlabel('Time (ms)')\n",
    "ylabel('Neuron index')\n",
    "subplot(122)\n",
    "plot(G.v0, M.count/duration)\n",
    "xlabel('v0')\n",
    "ylabel('Firing rate (sp/s)');\n",
    "\"\"\""
   ]
  },
  {
   "cell_type": "markdown",
   "metadata": {},
   "source": [
    "## What is wrong\n",
    "\n",
    "* The plot compares the trace of a Leaky Integrate and Fire Neuron against a more bio-realistic Hodgkin Huxley model. \n",
    "\n",
    "* What metrics could you use to quantify the agreement/dis-agreement between the two?\n",
    "\n",
    "* Do you think the agreement is acceptable?\n",
    "\n",
    "* What is the least realistic part of the LIF $V_{m}$ shape?\n",
    "\n",
    "* What should be the real units of $V_{m}$?\n",
    "\n",
    "* What should be the the real resting membrane potential $V_{R}$?\n",
    "\n",
    "\n",
    "![](other_lecture/LIF_vs_HH.png)\n",
    "\n",
    "### Fitting to data.\n",
    "\n",
    "* the Action Potential shape may still disagree with data in all of these ways:"
   ]
  },
  {
   "cell_type": "markdown",
   "metadata": {},
   "source": [
    "![](other_lecture/what_is_wrong.png)"
   ]
  }
 ],
 "metadata": {
  "celltoolbar": "Slideshow",
  "kernelspec": {
   "display_name": "Python 3",
   "language": "python",
   "name": "python3"
  },
  "language_info": {
   "codemirror_mode": {
    "name": "ipython",
    "version": 3
   },
   "file_extension": ".py",
   "mimetype": "text/x-python",
   "name": "python",
   "nbconvert_exporter": "python",
   "pygments_lexer": "ipython3",
   "version": "3.7.4"
  }
 },
 "nbformat": 4,
 "nbformat_minor": 4
}
