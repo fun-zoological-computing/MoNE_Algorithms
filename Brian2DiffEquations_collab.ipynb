{
  "cells": [
    {
      "cell_type": "markdown",
      "metadata": {
        "id": "view-in-github",
        "colab_type": "text"
      },
      "source": [
        "<a href=\"https://colab.research.google.com/github/russelljjarvis/LIF_DE_Brian2/blob/main/Brian2DiffEquations_collab.ipynb\" target=\"_parent\"><img src=\"https://colab.research.google.com/assets/colab-badge.svg\" alt=\"Open In Colab\"/></a>"
      ]
    },
    {
      "cell_type": "code",
      "source": [
        "\n",
        "from IPython.display import Javascript\n",
        "try:\n",
        "    display(Javascript('''google.colab.output.setIframeHeight(0, true, {maxHeight: 5000})'''))\n",
        "except:\n",
        "    pass\n",
        "\n",
        "\n",
        "from IPython.display import Javascript\n",
        "display(Javascript(\"google.colab.output.resizeIframeToContent()\"))"
      ],
      "metadata": {
        "colab": {
          "base_uri": "https://localhost:8080/",
          "height": 17
        },
        "id": "gQksZnlWB6f0",
        "outputId": "53574fde-ad86-4043-92c4-b6a3c1bcb80a"
      },
      "execution_count": null,
      "outputs": [
        {
          "output_type": "display_data",
          "data": {
            "application/javascript": [
              "google.colab.output.setIframeHeight(0, true, {maxHeight: 5000})"
            ],
            "text/plain": [
              "<IPython.core.display.Javascript object>"
            ]
          },
          "metadata": {}
        },
        {
          "output_type": "display_data",
          "data": {
            "application/javascript": [
              "google.colab.output.resizeIframeToContent()"
            ],
            "text/plain": [
              "<IPython.core.display.Javascript object>"
            ]
          },
          "metadata": {}
        }
      ]
    },
    {
      "cell_type": "markdown",
      "metadata": {
        "id": "jBtefTbUBwEO"
      },
      "source": [
        "<!--![wsu_branding.jpg](wsu_branding.jpg)-->\n",
        "\n",
        "<img src=\"https://github.com/russelljjarvis/LIF_DE_Brian2/blob/main/other_lecture/wsu_branding.jpg?raw=1\" width=\"650\" height=\"650\" />\n"
      ]
    },
    {
      "cell_type": "markdown",
      "metadata": {
        "id": "tYor5xdxBwET"
      },
      "source": [
        "<!--\n",
        "# Why Brian2\n",
        "* Sparse\n",
        "* can be converted to fast cpp CUDA code and run on Nvidia Nano.\n",
        "-->\n",
        "\n",
        "[![Open In Colab](https://colab.research.google.com/assets/colab-badge.svg)](https://colab.research.google.com/github/russelljjarvis/LIF_DE_Brian2/blob/main/Brian2DiffEquations.ipynb)\n"
      ]
    },
    {
      "cell_type": "markdown",
      "metadata": {
        "id": "nnxkgWzQBwEU"
      },
      "source": [
        "# Assumed Knowledge (Pre-requisites)\n",
        "\n",
        "* Phospholipid membrane bilayer\n",
        "* Ionic basis of the membrane potential\n",
        "* Programming with Python MATLAB or any procedural language."
      ]
    },
    {
      "cell_type": "markdown",
      "metadata": {
        "id": "yXekCzOFBwEV"
      },
      "source": [
        "# Contents \n",
        "\n",
        "### In this tutorial we will.\n",
        "\n",
        "- Big picture Biology Overview of electrical excitability and trees.\n",
        "    -  Electrical Signalling in Biology (trees, sea sponges, venus fly trap).\n",
        "    -  Modelling issues: Reduction versus mimicry\n",
        "    -  Motivation for reduced neuron models the LIF neuron.\n",
        "- Solve the LIF neuron with Brian2\n",
        "- Solve the LIF neuron with forward Euler and numba\n",
        "- Compare models with experimental data.\n",
        "- Show how the LIF model is a bad fit for biological data.\n",
        "    - Better fits: Izhikevich and Adaptive Exponential Integrate and fire model.\n",
        "\n"
      ]
    },
    {
      "cell_type": "markdown",
      "metadata": {
        "id": "gZBMrJWNBwEV"
      },
      "source": [
        "# Other Materials:\n",
        " \n",
        "* [Book (free online version) Chapter 2 only](https://neuronaldynamics.epfl.ch/online/index.html)\n",
        "\n",
        "* [Exercises based on the book](https://neuronaldynamics-exercises.readthedocs.io/en/latest/)\n",
        "\n",
        "* [Tutorials](https://github.com/brian-team/brian2/tree/master/tutorials)\n",
        " \n",
        "* [Slides only (not the code, or code exercises](https://compneuro.neuromatch.io/tutorials/W2D3_BiologicalNeuronModels/student/W2D3_Tutorial1.html)\n",
        " \n",
        "\n",
        "\n"
      ]
    },
    {
      "cell_type": "markdown",
      "metadata": {
        "id": "Q7RPrEuvBwEW"
      },
      "source": [
        "\n",
        "\n"
      ]
    },
    {
      "cell_type": "markdown",
      "metadata": {
        "id": "cCmhccecBwEX"
      },
      "source": [
        "\n",
        "## Electrically Excitable cell membranes are common in Natural world \n",
        "\n",
        "* Plant cells can be electrically excitable too (for example the venus fly trap).\n",
        "* Spermatoza.\n",
        "* Pumpkin seeds\n",
        "\n",
        "Reasons include fast behavior, and rapid signalling to other cells.\n",
        "\n",
        "# Venus Fly Trap\n",
        "\n",
        "* A plant that can trap flies by moving surprisingly fast (no skeletal muscles or motor neurons).\n",
        "\n",
        "\n",
        "<img src=\"https://github.com/russelljjarvis/LIF_DE_Brian2/blob/main/other_lecture/venus_flytrap_aps.jpg?raw=1\"  width=\"350\" height=\"350\" />\n"
      ]
    },
    {
      "cell_type": "markdown",
      "metadata": {
        "id": "33yKbX2SBwEX"
      },
      "source": [
        "\n",
        "[Source](https://www.linkedin.com/in/ACoAAALn2tsB8Yx7K21oU-RUKtRWSjXLrXLeaDA/)\n",
        "\n",
        "# Brain Evolution\n",
        "\n",
        "## Synapses (chemical connnections between cells) may have evolved from very basic organisms\n",
        "\n",
        "\n",
        "<img src=\"https://github.com/russelljjarvis/LIF_DE_Brian2/blob/main/other_lecture/recropped_b_evo.png?raw=1\"  width=\"350\" height=\"350\" />\n",
        "\n",
        "* Such as sea sponges\n",
        "\n",
        "<img src=\"https://github.com/russelljjarvis/LIF_DE_Brian2/blob/main/other_lecture/seasponge2.png?raw=1\"  width=\"350\" height=\"350\" />\n"
      ]
    },
    {
      "cell_type": "markdown",
      "metadata": {
        "id": "gRQSgONMBwEY"
      },
      "source": [
        "# Trees Shapes are common in Biology.\n",
        "* Nature uses trees to solve the problem of transporting information and nutrients in a volume at low metabolic cost.\n",
        "\n",
        "* A large surface to volume ratio facilitates low cost transport.\n",
        "\n",
        "* We don't have to model the neuronal shape (a tree) to make realistic neuronal simulations\n",
        "\n",
        "\n",
        "\n",
        "\n",
        "<img src=\"https://github.com/russelljjarvis/LIF_DE_Brian2/blob/main/other_lecture/trees5.png?raw=1\" width=\"650\" height=\"650\"/>\n",
        "\n"
      ]
    },
    {
      "cell_type": "markdown",
      "metadata": {
        "id": "h3Fl_g2pBwEZ"
      },
      "source": [
        "\n",
        "Tree roots may share nutrients and exchange information via fungal mycelium.\n",
        "\n",
        "<img src=\"https://github.com/russelljjarvis/LIF_DE_Brian2/blob/main/other_lecture/rhizozome2.png?raw=1\"  width=\"450\" height=\"450\" />\n",
        "\n",
        "In the brain cell proteins are \"walked\" from rhibosomes (protein factories) along axons to their target destination at axon boutans using \"axonal-transport\".\n",
        "\n",
        "Trees sample many points in a large volume, while occupying little volume themselves."
      ]
    },
    {
      "cell_type": "markdown",
      "metadata": {
        "id": "BFP93ncoBwEa"
      },
      "source": [
        "<!--![](tree3.png)\n",
        "width=\"150\" height=\"150\" />\n",
        "\n",
        "-->\n",
        "\n",
        "\n",
        "\n",
        "\n",
        "\n",
        "# But we don't need the tree to do acceptably realistic simulations of neurons.\n",
        "\n",
        "* Electrically simulating the whole tree might be bio-mimicry.\n",
        "\n",
        "* GLIF neurons can be more accurate than Multicompartment neurons\n",
        "\n",
        "# Biological cells Have Spatially Extended 3D form\n",
        "\n",
        "<img src=\"https://github.com/russelljjarvis/LIF_DE_Brian2/blob/main/other_lecture/reduction_to_lif2.png?raw=1\" width=\"450\" height=\"450\" />\n",
        "\n",
        "# Many reduced neuronal models have no spatial dimensions.\n",
        "\n",
        "* Depicted as a point, conceptually a point.\n",
        "\n",
        "<img src=\"https://github.com/russelljjarvis/LIF_DE_Brian2/blob/main/other_lecture/comparison_tree_LIF2.png?raw=1\" width=\"450\" height=\"450\" />\n",
        "\n"
      ]
    },
    {
      "cell_type": "markdown",
      "metadata": {
        "id": "-uIya_ceBwEa"
      },
      "source": [
        "# Revision\n",
        "## Recall ...\n",
        "\n",
        "\n",
        "<img src=\"https://github.com/russelljjarvis/LIF_DE_Brian2/blob/main/other_lecture/Slide10.jpg?raw=1\" width=\"450\" height=\"450\" />\n",
        "\n"
      ]
    },
    {
      "cell_type": "markdown",
      "metadata": {
        "id": "tTm0tyzOBwEb"
      },
      "source": [
        "# Revision\n",
        "## Recall ...\n",
        "\n",
        "\n",
        "<img src=\"https://github.com/russelljjarvis/LIF_DE_Brian2/blob/main/other_lecture/Slide14.jpg?raw=1\" width=\"450\" height=\"450\" />\n",
        "\n"
      ]
    },
    {
      "cell_type": "markdown",
      "metadata": {
        "id": "fs912XS9BwEb"
      },
      "source": [
        "# Digital Simulation as an biological lab test bench"
      ]
    },
    {
      "cell_type": "markdown",
      "metadata": {
        "id": "znasLIG8BwEb"
      },
      "source": [
        "<p>\n",
        "    <img src=\"https://github.com/russelljjarvis/LIF_DE_Brian2/blob/main/other_lecture/virtual_experiment.png?raw=1\" width=\"450\" height=\"450\" />\n",
        "</p>\n"
      ]
    },
    {
      "cell_type": "markdown",
      "metadata": {
        "id": "7YAbd1i3BwEc"
      },
      "source": [
        "On the time-grid of of stepsize $\\Delta t$, the dynamics of Eqn. (1) is discretized to be \n",
        "\n",
        "\\begin{eqnarray}\n",
        "\\tau_m \\frac{\\Delta V_n}{\\Delta t} &=& -(V_n-V_L) +\\frac{I_n}{g_L},\n",
        "\\end{eqnarray}\n",
        "\n",
        "where $V_n = V(n\\Delta t)$, and $I_n=I(n\\Delta t)$. \n",
        "\n",
        "Then the updating process of $V_{n+1}$ at time $t_{n+1}=(n+1)\\Delta t$ based on $V_{n}$ can be formed as \n",
        "\n",
        "\\begin{eqnarray}\n",
        "V_{n+1} &=& V_n+ \\Delta V_n \\\\\n",
        "\\Delta V_n &=&  \\left(-(V_n-V_L) +\\frac{I}{g_L}\\right)\\frac{\\Delta t}{\\tau_m} \\qquad (2)\n",
        "\\end{eqnarray}\n",
        "\n",
        "\n",
        "<div class=\"column\"></div>\n",
        "<img src=\"https://github.com/russelljjarvis/LIF_DE_Brian2/blob/main/other_lecture/digital_implementation.png?raw=1\" width=\"250\" height=\"350\" />\n",
        "\n"
      ]
    },
    {
      "cell_type": "markdown",
      "metadata": {
        "id": "pgJr2qIABwEc"
      },
      "source": [
        "# Installs for Collab"
      ]
    },
    {
      "cell_type": "code",
      "execution_count": 3,
      "metadata": {
        "colab": {
          "base_uri": "https://localhost:8080/"
        },
        "id": "oqJxDTrVBwEc",
        "outputId": "7311a201-0c8f-4f55-982c-8e91e9cc1579"
      },
      "outputs": [
        {
          "output_type": "stream",
          "name": "stdout",
          "text": [
            "Collecting brian2\n",
            "  Downloading Brian2-2.5.0.3-cp37-cp37m-manylinux_2_17_x86_64.manylinux2014_x86_64.whl (1.5 MB)\n",
            "\u001b[K     |████████████████████████████████| 1.5 MB 4.0 MB/s \n",
            "\u001b[?25hRequirement already satisfied: numpy>=1.17 in /usr/local/lib/python3.7/dist-packages (from brian2) (1.21.5)\n",
            "Requirement already satisfied: sympy>=1.2 in /usr/local/lib/python3.7/dist-packages (from brian2) (1.7.1)\n",
            "Requirement already satisfied: cython>=0.29 in /usr/local/lib/python3.7/dist-packages (from brian2) (0.29.28)\n",
            "Requirement already satisfied: jinja2>=2.7 in /usr/local/lib/python3.7/dist-packages (from brian2) (2.11.3)\n",
            "Requirement already satisfied: pyparsing in /usr/local/lib/python3.7/dist-packages (from brian2) (3.0.7)\n",
            "Requirement already satisfied: setuptools>=24.2 in /usr/local/lib/python3.7/dist-packages (from brian2) (57.4.0)\n",
            "Requirement already satisfied: MarkupSafe>=0.23 in /usr/local/lib/python3.7/dist-packages (from jinja2>=2.7->brian2) (2.0.1)\n",
            "Requirement already satisfied: mpmath>=0.19 in /usr/local/lib/python3.7/dist-packages (from sympy>=1.2->brian2) (1.2.1)\n",
            "Installing collected packages: brian2\n",
            "Successfully installed brian2-2.5.0.3\n"
          ]
        }
      ],
      "source": [
        "!pip install pandas -q\n",
        "!pip install brian2 \n",
        "!pip install plotly -q\n",
        "!pip install ipywidgets -q\n"
      ]
    },
    {
      "cell_type": "code",
      "execution_count": 4,
      "metadata": {
        "id": "FG5e8w1NBwEd"
      },
      "outputs": [],
      "source": [
        "!git clone https://github.com/DiGyt/neuropynamics/ -q\n"
      ]
    },
    {
      "cell_type": "markdown",
      "metadata": {
        "id": "dlR11q4qBwEe"
      },
      "source": [
        "# Interactive Code"
      ]
    },
    {
      "cell_type": "code",
      "execution_count": 5,
      "metadata": {
        "id": "xAPxUdZMBwEf"
      },
      "outputs": [],
      "source": [
        "from brian2 import *\n",
        "import plotly\n",
        "from brian2 import NeuronGroup, SpikeMonitor, StateMonitor, run\n",
        "from brian2.units import ms\n",
        "import plotly.express as px\n",
        "import pandas as pd\n",
        "#from ipywidgets import Button, Layout\n",
        "#import ipywidgets as widgets\n",
        "#%matplotlib inline\n",
        "import matplotlib.pyplot as plt\n",
        "#import seaborn as sns\n",
        "\n",
        "# Main packages\n",
        "import numpy as np\n",
        "# Brian2 package\n",
        "# Unit definitions\n",
        "from brian2 import mV, ms, volt, second, umetre, ufarad, siemens, cm, msiemens, amp, uA, nA\n",
        "# Other stuff\n",
        "from brian2 import start_scope, NeuronGroup, StateMonitor, SpikeMonitor, run\n",
        "# Plotting stuff\n",
        "from neuropynamics.src.utils.plotting import plot_single_neuron\n",
        "# Interactive widgets\n",
        "\n",
        "\n",
        "import ipywidgets as widgets\n",
        "from ipywidgets import interact, interactive, fixed, HBox, VBox, Layout\n",
        "# Set button layout\n",
        "button_layout = Layout(width='180px', height='30px')\n",
        "\n",
        "# Set slider config\n",
        "slider_total_width = '800px'\n",
        "slider_desc_width = '200px'\n",
        "\n",
        "\n",
        "\n",
        "\n"
      ]
    },
    {
      "cell_type": "code",
      "source": [
        ""
      ],
      "metadata": {
        "id": "-lW6hO7_B4O0"
      },
      "execution_count": null,
      "outputs": []
    },
    {
      "cell_type": "markdown",
      "metadata": {
        "id": "tqdjBr4eBwEf"
      },
      "source": [
        "# Perfect Integrator\n",
        "\n",
        "\n",
        "* The perfect Integrator is a stepping stone to understanding the **Leaky Integrate and Fire** model.\n",
        "\n",
        "\n",
        "\n",
        "## Insert Perfect Integrator Equations below.\n",
        "\n",
        "# Leaky Integrate and Fire model"
      ]
    },
    {
      "cell_type": "markdown",
      "metadata": {
        "id": "k-H0T0K1BwEf"
      },
      "source": [
        "<!---\n",
        "![](water_analogy.png)\n",
        "-->"
      ]
    },
    {
      "cell_type": "markdown",
      "metadata": {
        "id": "H1ZeWHp3BwEg"
      },
      "source": [
        "# First we will simulate a LIF neuron \n",
        "the easy way using Brian2, so we know we have something to compare with\n"
      ]
    },
    {
      "cell_type": "markdown",
      "metadata": {
        "id": "JwWSKZIjBwEg"
      },
      "source": [
        "https://brian2.readthedocs.io/en/stable/introduction/brian1_to_2/library.html\n",
        "\n",
        "\n",
        "# Code approach borrowed from here:\n",
        "\n",
        "https://colab.research.google.com/github/DiGyt/neuropynamics/blob/master/notebooks/Single_neurons.ipynb#scrollTo=-BMn7Gi5EWGn"
      ]
    },
    {
      "cell_type": "code",
      "execution_count": 6,
      "metadata": {
        "id": "48HnRlM1BwEg"
      },
      "outputs": [],
      "source": [
        "N = 1"
      ]
    },
    {
      "cell_type": "code",
      "execution_count": 7,
      "metadata": {
        "id": "Bp06vo8JBwEg"
      },
      "outputs": [],
      "source": [
        "\n",
        "def create_lif_neuron(v_max):\n",
        "    \"\"\"Creates a brian2 NeuronGroup that contains a single leaky integrate-and-fire neuron\"\"\"\n",
        "    # Define differential equation for leaky integrate-and-fire neuron\n",
        "    eqs = '''   \n",
        "        dv/dt = ((El - v) + I)/tau : volt\n",
        "        \n",
        "        I : volt\n",
        "        '''\n",
        "    # Define reset function\n",
        "    reset = 'v = {}*mV'.format(v_max-20)\n",
        "    # Define threshold\n",
        "    threshold = 'v > {}*mV'.format(v_max)\n",
        "    # Return NeuronGroup object\n",
        "    return NeuronGroup(1, eqs, threshold = threshold, reset = reset, method = 'euler')\n",
        "\n",
        "def reset_lif(name):\n",
        "    I_ext_slider.value = I_ext_def\n",
        "    tau_slider.value = tau_def\n",
        "    e_leak_slider.value = e_leak_def\n",
        "\n",
        "# Create function that creates a neuron and plots its behavior based on the given parameters\n",
        "def create_and_plot_lif_neuron(I_ext, tau, e_leak, v_max):\n",
        "    # Start the scope for the brian2 toolbox to register all neurons that are created\n",
        "    start_scope()\n",
        "    # Define the neuron\n",
        "    neuron = create_lif_neuron(v_max)      \n",
        "    # Set neuron parameters\n",
        "    tau = tau*ms;\n",
        "    El = -e_leak*mV\n",
        "    # Start monitoring the neurons state\n",
        "    statemon = StateMonitor(source = neuron, variables = ['v', 'I'], record = 0)\n",
        "    # Start monitoring spiking behavior\n",
        "    spikemon = SpikeMonitor(source = neuron, variables= 'v')\n",
        "    # Run neuron simulation for 100ms without input\n",
        "    run(100*ms)\n",
        "    # Set input current to neuron\n",
        "    neuron.I = I_ext * mV\n",
        "    # Run 500ms with input\n",
        "    run(500*ms)\n",
        "    # Remove input current to neuron\n",
        "    neuron.I = 0 * mV\n",
        "    # Run neuron simulation for 100ms without input\n",
        "    run(100*ms)\n",
        "    # Plot results\n",
        "    plot_single_neuron(x = statemon.t/ms, neuron_data = [statemon.v[0]/mV], neuron_labels = ['Membrane Potential'], neuron_colors = ['steelblue'], \\\n",
        "                     spikes = spikemon.t/ms, spike_color = 'red', \\\n",
        "                     input_current = statemon.I[0]/mV, input_label = 'Input Current', input_color = 'gold', \\\n",
        "                     y_range = [-90,0], title = 'Leaky Integrate-and-Fire Neuron', x_axis_label = 'Time (ms)', y_axis_label = 'Membrane Potential', input_axis_label = 'Input Current', hline = v_max)\n",
        "  \n"
      ]
    },
    {
      "cell_type": "code",
      "execution_count": 8,
      "metadata": {
        "colab": {
          "base_uri": "https://localhost:8080/",
          "height": 534,
          "referenced_widgets": [
            "e13a3d90e7f84bdaabb769b3343001cc",
            "9cae36160b8041b79608a6f7af185e65",
            "bd243d3c04124c23a9b5e79319615b9d",
            "960f6aeea4cf4550a65501cef8173c67",
            "ad29fb16d8af4177bed4c70d25705418",
            "159b05069e0e4287aece6c2cb3e7df4b",
            "433b0aac97dc4b65820c546e550d2d5f",
            "8dd776e0509d40f08184ac37b4558862",
            "96242df618a94671b9392f45e65dcf23",
            "58af893ef08443a8990a95c7fea59e30",
            "89620723e550402bbbcddbd9014c9b64",
            "f96c278c2722426388f809009615f5db",
            "1c627f233f0f47a7987083fd2c7656cd",
            "9a238f67f4214f6eba715b48d8c66dc3",
            "a24ec601fac840e4a2dbc4f1cd06c925",
            "28261aae3887426581e6fb8d5e330b5a",
            "60606ef650d9486e9bf97bb4ca36595f",
            "599036f9a48e4048aed657c3a08a528f"
          ]
        },
        "id": "FkUXDqrXBwEh",
        "outputId": "b2be33b4-8509-45a6-f898-1f2ca2596afa"
      },
      "outputs": [
        {
          "output_type": "display_data",
          "data": {
            "application/vnd.jupyter.widget-view+json": {
              "model_id": "e13a3d90e7f84bdaabb769b3343001cc",
              "version_minor": 0,
              "version_major": 2
            },
            "text/plain": [
              "VBox(children=(Button(description='Reset', layout=Layout(height='30px', width='180px'), style=ButtonStyle()), …"
            ]
          },
          "metadata": {}
        }
      ],
      "source": [
        "# Set default parameters \n",
        "I_ext_def = 10.\n",
        "tau_def = 20.\n",
        "e_leak_def = 59.\n",
        "\n",
        "# Create sliders for neuron parameters\n",
        "tau_slider = widgets.FloatSlider(value = tau_def, min = 1., max = 30., step = 1, description = 'Charging modulation tau:', readout_format = '.1f', continuous_update = False, layout = {'width': slider_total_width}, style = {'description_width': slider_desc_width})\n",
        "e_leak_slider = widgets.FloatSlider(value = e_leak_def, min = 0., max = 85., step = 1, description = 'Leakage E_leak:', readout_format = '.1f', continuous_update = False, layout = {'width': slider_total_width}, style = {'description_width': slider_desc_width}) \n",
        "\n",
        "# Create slider for input current\n",
        "I_ext_slider = widgets.FloatSlider(value = I_ext_def, min = 0., max = 40., step = 1, description = 'Input current I:', readout_format = '.1f', continuous_update = False, layout = {'width': slider_total_width}, style = {'description_width': slider_desc_width})\n",
        "\n",
        "# Make interactive widget for function above with the given sliders\n",
        "main_widgets = interactive(create_and_plot_lif_neuron, I_ext = I_ext_slider, tau = tau_slider, e_leak = e_leak_slider, v_max = fixed(-50))\n",
        "\n",
        "\n",
        "# Reset button\n",
        "reset_button = widgets.Button(description='Reset', layout = button_layout)\n",
        "reset_button.on_click(reset_lif)\n",
        "\n",
        "# Display main widgets and reset button\n",
        "display(VBox(children=[reset_button, main_widgets]))"
      ]
    },
    {
      "cell_type": "code",
      "execution_count": 9,
      "metadata": {
        "id": "cjp8rOVwBwEh"
      },
      "outputs": [],
      "source": [
        "\n",
        "def get_step_current(t_start, t_end, unit_time, amplitude, append_zero=True):\n",
        "\n",
        "    \"\"\"Creates a step current. If t_start == t_end, then a single\n",
        "    entry in the values array is set to amplitude.\n",
        "    Args:\n",
        "        t_start (int): start of the step\n",
        "        t_end (int): end of the step\n",
        "        unit_time (Brian2 unit): unit of t_start and t_end. e.g. 0.1*brian2.ms\n",
        "        amplitude (Quantity): amplitude of the step. e.g. 3.5*brian2.uamp\n",
        "    Returns: TimedArray: Brian2.TimedArray\n",
        "    \"\"\"\n",
        "\n",
        "    assert isinstance(t_start, int), \"t_start_ms must be of type int\"\n",
        "    assert isinstance(t_end, int), \"t_end must be of type int\"\n",
        "    assert b2.units.fundamentalunits.have_same_dimensions(amplitude, b2.amp), \\\n",
        "        \"amplitude must have the dimension of current e.g. brian2.uamp\"\n",
        "    tmp_size = 1 + t_end  # +1 for t=0\n",
        "    if append_zero:\n",
        "        tmp_size += 1\n",
        "    tmp = np.zeros((tmp_size, 1)) * b2.amp\n",
        "    tmp[t_start: t_end + 1, 0] = amplitude\n",
        "    curr = b2.TimedArray(tmp, dt=1. * unit_time)\n",
        "    return curr"
      ]
    },
    {
      "cell_type": "code",
      "execution_count": null,
      "metadata": {
        "id": "1wlWPxs_BwEi"
      },
      "outputs": [],
      "source": [
        "# same input for all neurons\n",
        "\"\"\"\n",
        "start_scope()\n",
        "#I = TimedArray(linspace(10*nS, 10*nS, 10),dt=1*ms)\n",
        "\n",
        "#I = TimedArray(np.hstack([[c, c, c, 0, 0]\n",
        "#                                 for c in np.random.rand(1000)]),\n",
        "#                                dt=10*ms)\n",
        "\n",
        "\n",
        "from brian2 import amp\n",
        "t_start = 100\n",
        "t_end = 1000\n",
        "tmp_size = 1 + t_end  # +1 for t=0\n",
        "#if append_zero:\n",
        "#    tmp_size += 1\n",
        "tmp = np.zeros((tmp_size, 1)) * amp\n",
        "tmp[t_start: t_end + 1, 0] = 20  * amp\n",
        "I = TimedArray(tmp, dt=1. * ms)\n",
        "#I = TimedArray(linspace(0*mV, 30*mV, 1000),\n",
        "#               dt=1*ms)\n",
        "\n",
        "\"\"\"\n",
        "#eqs = '''\n",
        "#      dv/dt = (I(t) - v)/tau : volt\n",
        "#      '''\n",
        "\n",
        "#eqs = \"\"\"\n",
        "#    dv/dt = ((El - v) + I(t))/tau : volt (unless refractory)\n",
        "#    I : amp\n",
        "#    \"\"\"\n",
        "\n",
        "\n",
        "#I = TimedArray(linspace(10*nS, 10*nS, 10),dt=1*ms)\n",
        "#eqs = '''dv/dt = ((El - v) + I(t)\n",
        "\n",
        "#eqs = '''dvm/dt = (gL*(EL-vm)+gL*DeltaT*exp((vm-VT)/DeltaT) -w + I)/C : volt\n",
        "#         dw/dt=(a*(vm-EL)-w)/tauw : amp\n",
        "#         I : amp'''\n",
        "\"\"\"\n",
        "neuron = NeuronGroup(1, model=eqs,\n",
        "                    reset='v = 0*mV',\n",
        "                    threshold='v > 15*mV')\n",
        "\n",
        "\n",
        "# monitoring membrane potential of neuron and injecting current\n",
        "state_monitor = StateMonitor(neuron, [\"v\"], record=True)\n",
        "spike_monitor = SpikeMonitor(neuron)\n",
        "# run the simulation\n",
        "run(1000* ms)\n",
        "\n",
        "df = pd.DataFrame({'v':statemon.v[0],'t':statemon.t/ms})\n",
        "\n",
        "fig = px.line(df, x=\"t\", y=\"v\")\n",
        "fig.show()\n",
        "\n",
        "\"\"\""
      ]
    },
    {
      "cell_type": "code",
      "execution_count": null,
      "metadata": {
        "id": "_DY4UludBwEi"
      },
      "outputs": [],
      "source": [
        "\"\"\"\n",
        "start_scope()\n",
        "\n",
        "import brian2 as b2\n",
        "#t_start = 10#* b2.ms\n",
        "#t_end = 100#* b2.ms\n",
        "#amplitude=10\n",
        "#input_current = get_step_current(t_start, t_end, 1 * b2.ms, amplitude *b2.pA)\n",
        "\n",
        "#eqs = \"\"\"\n",
        "#    dv/dt =\n",
        "#    ( -(v-v_rest) + membrane_resistance * input_current(t) ) / membrane_time_scale : volt (unless refractory)\"\"\"#\n",
        "\n",
        "\n",
        "#I = TimedArray(linspace(10*nS, 10*nS, 10),dt=1*ms)\n",
        "#eqs = '''dv/dt = ((El - v) + I(t)\n",
        "#\n",
        "#eqs = '''dvm/dt = (gL*(EL-vm)+gL*DeltaT*exp((vm-VT)/DeltaT) -w + I)/C : volt\n",
        "#         dw/dt=(a*(vm-EL)-w)/tauw : amp\n",
        "#         I : amp'''\n",
        "\"\"\"\n",
        "v_rest=-65\n",
        "\n",
        "# LIF neuron using Brian2 library\n",
        "neuron = b2.NeuronGroup(\n",
        "    1, model=eqs, reset=\"v=v_reset\", threshold=\"v>firing_threshold\",refractory=10, method=\"linear\")\n",
        "#neuron.v = v_rest  # set initial value\n",
        "\n",
        "# monitoring membrane potential of neuron and injecting current\n",
        "state_monitor = b2.StateMonitor(neuron, [\"v\"], record=True)\n",
        "spike_monitor = b2.SpikeMonitor(neuron)\n",
        "# run the simulation\n",
        "run(1000* ms)\n",
        "\"\"\"\n"
      ]
    },
    {
      "cell_type": "code",
      "execution_count": null,
      "metadata": {
        "id": "H_-V5m4xBwEi"
      },
      "outputs": [],
      "source": [
        "\"\"\"\n",
        "start_scope()\n",
        "import brian2 as b2\n",
        "\n",
        "tau = 10*ms; El = -70*mV\n",
        "\n",
        "I = TimedArray(linspace(0*b2.mV, 20*b2.mV, 100),\n",
        "               dt=10*b2.ms)\n",
        "#eqs = '''dv/dt = ((El - v) + I(t))/tau : volt\n",
        "#         I : volt\n",
        "#\n",
        "#'''\n",
        "\n",
        "\n",
        "group = NeuronGroup(1, eqs,\n",
        "                    threshold='v > -50*mV',\n",
        "                    reset='v = -70*mV', refractory=5*ms, method='exact')\n",
        "\n",
        "statemon = StateMonitor(group,  'v', record=0)\n",
        "spikemon = SpikeMonitor(group)\n",
        "\n",
        "run(100*ms)\n",
        "\n",
        "df = pd.DataFrame({'v':statemon.v[0],'t':statemon.t/ms})\n",
        "\n",
        "fig = px.line(df, x=\"t\", y=\"v\")\n",
        "fig.show()\n",
        "\"\"\""
      ]
    },
    {
      "cell_type": "code",
      "execution_count": null,
      "metadata": {
        "id": "AB9KYr_fBwEj"
      },
      "outputs": [],
      "source": [
        "\"\"\"\n",
        "start_scope()\n",
        "\n",
        "C = 1*nF; gL = 30*nS; EL = -70*mV; VT = -50*mV; DeltaT = 2*mV\n",
        "eqs = '''dvm/dt = (gL*(EL-vm)+gL*DeltaT*exp((vm-VT)/DeltaT) + I)/C : volt\n",
        "         I : amp'''\n",
        "group = NeuronGroup(N, eqs,\n",
        "                    threshold='v > -50*mV',\n",
        "                    reset='v = -70*mV')\n",
        "\n",
        "statemon = StateMonitor(group, 'v', record=0)\n",
        "spikemon = SpikeMonitor(group)\n",
        "\n",
        "run(150*ms)\n",
        "\n",
        "df = pd.DataFrame({'v':statemon.v[0],'t':statemon.t/ms})\n",
        "\n",
        "fig = px.line(df, x=\"t\", y=\"v\")\n",
        "fig.show()\n",
        "\"\"\""
      ]
    },
    {
      "cell_type": "code",
      "execution_count": null,
      "metadata": {
        "id": "KsKk_zjtBwEj"
      },
      "outputs": [],
      "source": [
        "\n",
        "\n"
      ]
    },
    {
      "cell_type": "code",
      "execution_count": null,
      "metadata": {
        "id": "urU1jp70BwEk"
      },
      "outputs": [],
      "source": [
        "\"\"\"\n",
        "start_scope()\n",
        "\n",
        "C = 1*nF; gL = 30*nS; EL = -70*mV; VT = -50*mV; DeltaT = 2*mV; tauw = 150*ms; a = 4*nS\n",
        "I = TimedArray(linspace(10*nS, 10*nS, 10),dt=1*ms)\n",
        "#eqs = '''dv/dt = ((El - v) + I(t)\n",
        "\n",
        "eqs = '''dvm/dt = (gL*(EL-vm)+gL*DeltaT*exp((vm-VT)/DeltaT) -w + I)/C : volt\n",
        "         dw/dt=(a*(vm-EL)-w)/tauw : amp\n",
        "         I : amp'''\n",
        "group = NeuronGroup(N, eqs,\n",
        "                    threshold='vm > -20*mV',\n",
        "                    reset='vm=-70*mV; w += 0.08*nA')\n",
        "\n",
        "statemon = StateMonitor(group, 'vm', record=0)\n",
        "spikemon = SpikeMonitor(group)\n",
        "\n",
        "run(150*ms)\n",
        "\n",
        "df = pd.DataFrame({'v':statemon.vm[0],'t':statemon.t/ms})\n",
        "\n",
        "fig = px.line(df, x=\"t\", y=\"v\")\n",
        "fig.show()\n",
        "\"\"\""
      ]
    },
    {
      "cell_type": "code",
      "execution_count": null,
      "metadata": {
        "id": "hUJLH0oqBwEk"
      },
      "outputs": [],
      "source": [
        "#import numba\n",
        "#@numba.jit\n",
        "def run_LIF(pars, Iinj, stop=False):\n",
        "  \"\"\"\n",
        "  Simulate the LIF dynamics with external input current\n",
        "\n",
        "  Args:\n",
        "    pars       : parameter dictionary\n",
        "    Iinj       : input current [pA]. The injected current here can be a value\n",
        "                 or an array\n",
        "    stop       : boolean. If True, use a current pulse\n",
        "\n",
        "  Returns:\n",
        "    rec_v      : membrane potential\n",
        "    rec_sp     : spike times\n",
        "  \"\"\"\n",
        "\n",
        "  # Set parameters\n",
        "  V_th, V_reset = pars['V_th'], pars['V_reset']\n",
        "  tau_m, g_L = pars['tau_m'], pars['g_L']\n",
        "  V_init, E_L = pars['V_init'], pars['E_L']\n",
        "  dt, range_t = pars['dt'], pars['range_t']\n",
        "  Lt = range_t.size\n",
        "  tref = pars['tref']\n",
        "\n",
        "  # Initialize voltage\n",
        "  v = np.zeros(Lt)\n",
        "  v[0] = V_init\n",
        "\n",
        "  # Set current time course\n",
        "  Iinj = Iinj * np.ones(Lt)\n",
        "\n",
        "  # If current pulse, set beginning and end to 0\n",
        "  if stop:\n",
        "    Iinj[:int(len(Iinj) / 2) - 1000] = 0\n",
        "    Iinj[int(len(Iinj) / 2) + 1000:] = 0\n",
        "  #print(Iinj)\n",
        "  # Loop over time\n",
        "  rec_spikes = []  # record spike times\n",
        "  tr = 0.  # the count for refractory duration\n",
        "  #times = [it for it in range(Lt - 2)]\n",
        "  for it in range(Lt - 2):\n",
        "\n",
        "\n",
        "    if tr > 0:  # check if in refractory period\n",
        "      v[it] = V_reset  # set voltage to reset\n",
        "      tr = tr - 1 # reduce running counter of refractory period\n",
        "    elif v[it] >= V_th:  # if voltage over threshold\n",
        "      rec_spikes.append(it)  # record spike event\n",
        "      v[it] = V_reset  # reset voltage\n",
        "\n",
        "      tr = tref / dt  # set refractory time\n",
        "    # Calculate the increment of the membrane potential\n",
        "    #dv = (-(v[it]-E_L) + (Iinj[it]/g_L))*(dt/tau_m)\n",
        "    # Update the membrane potential\n",
        "    #v[it + 1] = v[it] + dv\n",
        "\n",
        "  # Get spike times in ms\n",
        "  rec_spikes = np.array(rec_spikes) * dt\n",
        "    \n",
        "  return v, rec_spikes\n",
        "\n",
        "def default_pars(**kwargs):\n",
        "  pars = {}\n",
        "\n",
        "  # typical neuron parameters#\n",
        "  pars['V_th'] = -55.     # spike threshold [mV]\n",
        "  pars['V_reset'] = -75.  # reset potential [mV]\n",
        "  pars['tau_m'] = 10.     # membrane time constant [ms]\n",
        "  pars['g_L'] = 10.       # leak conductance [nS]\n",
        "  pars['V_init'] = -75.   # initial potential [mV]\n",
        "  pars['E_L'] = -75.      # leak reversal potential [mV]\n",
        "  pars['tref'] = 2.       # refractory time (ms)\n",
        "\n",
        "  # simulation parameters #\n",
        "  pars['T'] = 440.  # Total duration of simulation [ms]\n",
        "  pars['dt'] = .1   # Simulation time step [ms]\n",
        "\n",
        "  # external parameters if any #\n",
        "  for k in kwargs:\n",
        "    pars[k] = kwargs[k]\n",
        "\n",
        "  pars['range_t'] = np.arange(0, pars['T'], pars['dt'])  # Vector of discretized time points [ms]\n",
        "\n",
        "  return pars\n",
        "\n",
        "\n",
        "pars = default_pars()\n",
        "\n",
        "# Get parameters\n",
        "#pars = default_pars(T=500)\n",
        "\n",
        "# Simulate LIF model\n",
        "v, sp = run_LIF(pars, Iinj=210, stop=True)\n",
        "\n",
        "# Visualize\n",
        "\n",
        "#def plot_volt_trace(v,times):\n",
        "#    print(len(v))\n",
        "#    print(len(times))\n",
        "\n",
        "#    plotly.express.line(x=times,y=v)\n",
        "\n",
        "def plot_volt_trace(pars, v, sp):\n",
        "    \"\"\"\n",
        "    Plot trajetory of membrane potential for a single neuron\n",
        "\n",
        "    Expects:\n",
        "    pars   : parameter dictionary\n",
        "    v      : volt trajetory\n",
        "    sp     : spike train\n",
        "\n",
        "    Returns:\n",
        "    figure of the membrane potential trajetory for a single neuron\n",
        "    \"\"\"\n",
        "\n",
        "    V_th = pars['V_th']\n",
        "    dt, range_t = pars['dt'], pars['range_t']\n",
        "    if sp.size:\n",
        "    sp_num = (sp / dt).astype(int) - 1\n",
        "    v[sp_num] += 20  # draw nicer spikes\n",
        "\n",
        "    plt.plot(pars['range_t'], v, 'b')\n",
        "    plt.axhline(V_th, 0, 1, color='k', ls='--')\n",
        "    plt.xlabel('Time (ms)')\n",
        "    plt.ylabel('V (mV)')\n",
        "    plt.legend(['Membrane\\npotential', r'Threshold V$_{\\mathrm{th}}$'],\n",
        "             loc=[1.05, 0.75])\n",
        "    plt.ylim([-80, -40])\n",
        "\n",
        "plot_volt_trace(pars, v, sp)\n",
        "\n"
      ]
    },
    {
      "cell_type": "code",
      "execution_count": null,
      "metadata": {
        "id": "ihRVrnMuBwEl"
      },
      "outputs": [],
      "source": [
        "\n",
        "my_layout=Layout(width='50%', height='80px')\n",
        "#my_layout.width = '450px'\n",
        "@widgets.interact(\n",
        "    I_dc=widgets.FloatSlider(50., min=0., max=300., step=1.,\n",
        "                               layout=my_layout),\n",
        "    tau_m=widgets.FloatSlider(10., min=2., max=20., step=2.,\n",
        "                                layout=my_layout)\n",
        ")\n",
        "\n",
        "def diff_DC(I_dc=200., tau_m=10.):\n",
        "    pars = default_pars(T=1000.)\n",
        "    pars['tau_m'] = tau_m\n",
        "    v, sp = run_LIF(pars, Iinj=I_dc)\n",
        "    plot_volt_trace(pars, v, sp)\n",
        "    plt.show()"
      ]
    },
    {
      "cell_type": "markdown",
      "metadata": {
        "id": "IZJC6c-aBwEl"
      },
      "source": [
        "![](https://github.com/russelljjarvis/LIF_DE_Brian2/blob/main/other_lecture/fitting_to_data.png?raw=1)"
      ]
    },
    {
      "cell_type": "code",
      "execution_count": null,
      "metadata": {
        "id": "__od7NtOBwEl"
      },
      "outputs": [],
      "source": [
        "\"\"\"\n",
        "start_scope()\n",
        "\n",
        "tau = 10*ms\n",
        "#eqs0 = '''dv/dt = I_leak / Cm : volt\n",
        "#                       I_leak = g_L*(E_L - v) : amp'''\n",
        "\n",
        "#G0 = NeuronGroup(1, eqs0, threshold='v>0.8', reset='v = 0', refractory=5*ms, method='exact')\n",
        "\n",
        "\n",
        "eqs = '''\n",
        "dv/dt = (1-v)/tau : 1 (unless refractory)\n",
        "'''\n",
        "\n",
        "G = NeuronGroup(1, eqs, threshold='v>0.8', reset='v = 0', refractory=5*ms, method='exact')\n",
        "\n",
        "statemon = StateMonitor(G, 'v', record=0)\n",
        "spikemon = SpikeMonitor(G)\n",
        "\n",
        "run(50*ms)\n",
        "\n",
        "plot(statemon.t/ms, statemon.v[0])\n",
        "df = pd.DataFrame({'v':statemon.v[0],'t':statemon.t/ms})\n",
        "\n",
        "#df = px.data.gapminder().query(\"country=='Canada'\")\n",
        "fig = px.line(df, x=\"t\", y=\"v\")\n",
        "fig.show()\n",
        "\n",
        "for t in spikemon.t:\n",
        "    axvline(t/ms, ls='--', c='C1', lw=3)\n",
        "xlabel('Time (ms)')\n",
        "ylabel('v');\n",
        "\"\"\""
      ]
    },
    {
      "cell_type": "code",
      "execution_count": null,
      "metadata": {
        "id": "4EN5ZpAmBwEm"
      },
      "outputs": [],
      "source": [
        "\"\"\"\n",
        "start_scope()\n",
        "\n",
        "\n",
        "##\n",
        "# A network of 100 neurons\n",
        "##\n",
        "N = 100\n",
        "tau = 10*ms\n",
        "v0_max = 3.\n",
        "duration = 1000*ms\n",
        "\n",
        "eqs = '''\n",
        "dv/dt = (v0-v)/tau : 1 (unless refractory)\n",
        "v0 : 1\n",
        "'''\n",
        "\n",
        "G = NeuronGroup(N, eqs, threshold='v>1', reset='v=0', refractory=5*ms, method='exact')\n",
        "M = SpikeMonitor(G)\n",
        "\n",
        "G.v0 = 'i*v0_max/(N-1)'\n",
        "\n",
        "run(duration)\n",
        "\n",
        "figure(figsize=(12,4))\n",
        "subplot(121)\n",
        "plot(M.t/ms, M.i, '.k')\n",
        "xlabel('Time (ms)')\n",
        "ylabel('Neuron index')\n",
        "subplot(122)\n",
        "plot(G.v0, M.count/duration)\n",
        "xlabel('v0')\n",
        "ylabel('Firing rate (sp/s)');\n",
        "\"\"\""
      ]
    },
    {
      "cell_type": "markdown",
      "metadata": {
        "id": "RGIRnnguBwEm"
      },
      "source": [
        "## What is wrong\n",
        "\n",
        "* The plot compares the trace of a Leaky Integrate and Fire Neuron against a more bio-realistic Hodgkin Huxley model. \n",
        "\n",
        "* What metrics could you use to quantify the agreement/dis-agreement between the two?\n",
        "\n",
        "* Do you think the agreement is acceptable?\n",
        "\n",
        "* What is the least realistic part of the LIF $V_{m}$ shape?\n",
        "\n",
        "* What should be the real units of $V_{m}$?\n",
        "\n",
        "* What should be the the real resting membrane potential $V_{R}$?\n",
        "\n",
        "\n",
        "![](https://github.com/russelljjarvis/LIF_DE_Brian2/blob/main/other_lecture/LIF_vs_HH.png?raw=1)\n",
        "\n",
        "### Fitting to data.\n",
        "\n",
        "* the Action Potential shape may still disagree with data in all of these ways:"
      ]
    },
    {
      "cell_type": "markdown",
      "metadata": {
        "id": "l7yllQ_dBwEm"
      },
      "source": [
        "![](https://github.com/russelljjarvis/LIF_DE_Brian2/blob/main/other_lecture/what_is_wrong.png?raw=1)"
      ]
    }
  ],
  "metadata": {
    "celltoolbar": "Slideshow",
    "kernelspec": {
      "display_name": "Python 3",
      "language": "python",
      "name": "python3"
    },
    "language_info": {
      "codemirror_mode": {
        "name": "ipython",
        "version": 3
      },
      "file_extension": ".py",
      "mimetype": "text/x-python",
      "name": "python",
      "nbconvert_exporter": "python",
      "pygments_lexer": "ipython3",
      "version": "3.7.4"
    },
    "colab": {
      "name": "Copy of Brian2DiffEquations2.ipynb",
      "provenance": [],
      "collapsed_sections": [],
      "include_colab_link": true
    },
    "widgets": {
      "application/vnd.jupyter.widget-state+json": {
        "e13a3d90e7f84bdaabb769b3343001cc": {
          "model_module": "@jupyter-widgets/controls",
          "model_name": "VBoxModel",
          "model_module_version": "1.5.0",
          "state": {
            "_view_name": "VBoxView",
            "_dom_classes": [],
            "_model_name": "VBoxModel",
            "_view_module": "@jupyter-widgets/controls",
            "_model_module_version": "1.5.0",
            "_view_count": null,
            "_view_module_version": "1.5.0",
            "box_style": "",
            "layout": "IPY_MODEL_9cae36160b8041b79608a6f7af185e65",
            "_model_module": "@jupyter-widgets/controls",
            "children": [
              "IPY_MODEL_bd243d3c04124c23a9b5e79319615b9d",
              "IPY_MODEL_960f6aeea4cf4550a65501cef8173c67"
            ]
          }
        },
        "9cae36160b8041b79608a6f7af185e65": {
          "model_module": "@jupyter-widgets/base",
          "model_name": "LayoutModel",
          "model_module_version": "1.2.0",
          "state": {
            "_view_name": "LayoutView",
            "grid_template_rows": null,
            "right": null,
            "justify_content": null,
            "_view_module": "@jupyter-widgets/base",
            "overflow": null,
            "_model_module_version": "1.2.0",
            "_view_count": null,
            "flex_flow": null,
            "width": null,
            "min_width": null,
            "border": null,
            "align_items": null,
            "bottom": null,
            "_model_module": "@jupyter-widgets/base",
            "top": null,
            "grid_column": null,
            "overflow_y": null,
            "overflow_x": null,
            "grid_auto_flow": null,
            "grid_area": null,
            "grid_template_columns": null,
            "flex": null,
            "_model_name": "LayoutModel",
            "justify_items": null,
            "grid_row": null,
            "max_height": null,
            "align_content": null,
            "visibility": null,
            "align_self": null,
            "height": null,
            "min_height": null,
            "padding": null,
            "grid_auto_rows": null,
            "grid_gap": null,
            "max_width": null,
            "order": null,
            "_view_module_version": "1.2.0",
            "grid_template_areas": null,
            "object_position": null,
            "object_fit": null,
            "grid_auto_columns": null,
            "margin": null,
            "display": null,
            "left": null
          }
        },
        "bd243d3c04124c23a9b5e79319615b9d": {
          "model_module": "@jupyter-widgets/controls",
          "model_name": "ButtonModel",
          "model_module_version": "1.5.0",
          "state": {
            "_view_name": "ButtonView",
            "style": "IPY_MODEL_ad29fb16d8af4177bed4c70d25705418",
            "_dom_classes": [],
            "description": "Reset",
            "_model_name": "ButtonModel",
            "button_style": "",
            "_view_module": "@jupyter-widgets/controls",
            "_model_module_version": "1.5.0",
            "tooltip": "",
            "_view_count": null,
            "disabled": false,
            "_view_module_version": "1.5.0",
            "layout": "IPY_MODEL_159b05069e0e4287aece6c2cb3e7df4b",
            "_model_module": "@jupyter-widgets/controls",
            "icon": ""
          }
        },
        "960f6aeea4cf4550a65501cef8173c67": {
          "model_module": "@jupyter-widgets/controls",
          "model_name": "VBoxModel",
          "model_module_version": "1.5.0",
          "state": {
            "_view_name": "VBoxView",
            "_dom_classes": [
              "widget-interact"
            ],
            "_model_name": "VBoxModel",
            "_view_module": "@jupyter-widgets/controls",
            "_model_module_version": "1.5.0",
            "_view_count": null,
            "_view_module_version": "1.5.0",
            "box_style": "",
            "layout": "IPY_MODEL_433b0aac97dc4b65820c546e550d2d5f",
            "_model_module": "@jupyter-widgets/controls",
            "children": [
              "IPY_MODEL_8dd776e0509d40f08184ac37b4558862",
              "IPY_MODEL_96242df618a94671b9392f45e65dcf23",
              "IPY_MODEL_58af893ef08443a8990a95c7fea59e30",
              "IPY_MODEL_89620723e550402bbbcddbd9014c9b64"
            ]
          }
        },
        "ad29fb16d8af4177bed4c70d25705418": {
          "model_module": "@jupyter-widgets/controls",
          "model_name": "ButtonStyleModel",
          "model_module_version": "1.5.0",
          "state": {
            "_view_name": "StyleView",
            "_model_name": "ButtonStyleModel",
            "_view_module": "@jupyter-widgets/base",
            "_model_module_version": "1.5.0",
            "_view_count": null,
            "button_color": null,
            "font_weight": "",
            "_view_module_version": "1.2.0",
            "_model_module": "@jupyter-widgets/controls"
          }
        },
        "159b05069e0e4287aece6c2cb3e7df4b": {
          "model_module": "@jupyter-widgets/base",
          "model_name": "LayoutModel",
          "model_module_version": "1.2.0",
          "state": {
            "_view_name": "LayoutView",
            "grid_template_rows": null,
            "right": null,
            "justify_content": null,
            "_view_module": "@jupyter-widgets/base",
            "overflow": null,
            "_model_module_version": "1.2.0",
            "_view_count": null,
            "flex_flow": null,
            "width": "180px",
            "min_width": null,
            "border": null,
            "align_items": null,
            "bottom": null,
            "_model_module": "@jupyter-widgets/base",
            "top": null,
            "grid_column": null,
            "overflow_y": null,
            "overflow_x": null,
            "grid_auto_flow": null,
            "grid_area": null,
            "grid_template_columns": null,
            "flex": null,
            "_model_name": "LayoutModel",
            "justify_items": null,
            "grid_row": null,
            "max_height": null,
            "align_content": null,
            "visibility": null,
            "align_self": null,
            "height": "30px",
            "min_height": null,
            "padding": null,
            "grid_auto_rows": null,
            "grid_gap": null,
            "max_width": null,
            "order": null,
            "_view_module_version": "1.2.0",
            "grid_template_areas": null,
            "object_position": null,
            "object_fit": null,
            "grid_auto_columns": null,
            "margin": null,
            "display": null,
            "left": null
          }
        },
        "433b0aac97dc4b65820c546e550d2d5f": {
          "model_module": "@jupyter-widgets/base",
          "model_name": "LayoutModel",
          "model_module_version": "1.2.0",
          "state": {
            "_view_name": "LayoutView",
            "grid_template_rows": null,
            "right": null,
            "justify_content": null,
            "_view_module": "@jupyter-widgets/base",
            "overflow": null,
            "_model_module_version": "1.2.0",
            "_view_count": null,
            "flex_flow": null,
            "width": null,
            "min_width": null,
            "border": null,
            "align_items": null,
            "bottom": null,
            "_model_module": "@jupyter-widgets/base",
            "top": null,
            "grid_column": null,
            "overflow_y": null,
            "overflow_x": null,
            "grid_auto_flow": null,
            "grid_area": null,
            "grid_template_columns": null,
            "flex": null,
            "_model_name": "LayoutModel",
            "justify_items": null,
            "grid_row": null,
            "max_height": null,
            "align_content": null,
            "visibility": null,
            "align_self": null,
            "height": null,
            "min_height": null,
            "padding": null,
            "grid_auto_rows": null,
            "grid_gap": null,
            "max_width": null,
            "order": null,
            "_view_module_version": "1.2.0",
            "grid_template_areas": null,
            "object_position": null,
            "object_fit": null,
            "grid_auto_columns": null,
            "margin": null,
            "display": null,
            "left": null
          }
        },
        "8dd776e0509d40f08184ac37b4558862": {
          "model_module": "@jupyter-widgets/controls",
          "model_name": "FloatSliderModel",
          "model_module_version": "1.5.0",
          "state": {
            "_view_name": "FloatSliderView",
            "style": "IPY_MODEL_f96c278c2722426388f809009615f5db",
            "_dom_classes": [],
            "description": "Input current I:",
            "step": 1,
            "_model_name": "FloatSliderModel",
            "orientation": "horizontal",
            "max": 40,
            "_view_module": "@jupyter-widgets/controls",
            "_model_module_version": "1.5.0",
            "value": 20,
            "_view_count": null,
            "disabled": false,
            "_view_module_version": "1.5.0",
            "min": 0,
            "continuous_update": false,
            "readout_format": ".1f",
            "description_tooltip": null,
            "readout": true,
            "_model_module": "@jupyter-widgets/controls",
            "layout": "IPY_MODEL_1c627f233f0f47a7987083fd2c7656cd"
          }
        },
        "96242df618a94671b9392f45e65dcf23": {
          "model_module": "@jupyter-widgets/controls",
          "model_name": "FloatSliderModel",
          "model_module_version": "1.5.0",
          "state": {
            "_view_name": "FloatSliderView",
            "style": "IPY_MODEL_9a238f67f4214f6eba715b48d8c66dc3",
            "_dom_classes": [],
            "description": "Charging modulation tau:",
            "step": 1,
            "_model_name": "FloatSliderModel",
            "orientation": "horizontal",
            "max": 30,
            "_view_module": "@jupyter-widgets/controls",
            "_model_module_version": "1.5.0",
            "value": 20,
            "_view_count": null,
            "disabled": false,
            "_view_module_version": "1.5.0",
            "min": 1,
            "continuous_update": false,
            "readout_format": ".1f",
            "description_tooltip": null,
            "readout": true,
            "_model_module": "@jupyter-widgets/controls",
            "layout": "IPY_MODEL_a24ec601fac840e4a2dbc4f1cd06c925"
          }
        },
        "58af893ef08443a8990a95c7fea59e30": {
          "model_module": "@jupyter-widgets/controls",
          "model_name": "FloatSliderModel",
          "model_module_version": "1.5.0",
          "state": {
            "_view_name": "FloatSliderView",
            "style": "IPY_MODEL_28261aae3887426581e6fb8d5e330b5a",
            "_dom_classes": [],
            "description": "Leakage E_leak:",
            "step": 1,
            "_model_name": "FloatSliderModel",
            "orientation": "horizontal",
            "max": 85,
            "_view_module": "@jupyter-widgets/controls",
            "_model_module_version": "1.5.0",
            "value": 59,
            "_view_count": null,
            "disabled": false,
            "_view_module_version": "1.5.0",
            "min": 0,
            "continuous_update": false,
            "readout_format": ".1f",
            "description_tooltip": null,
            "readout": true,
            "_model_module": "@jupyter-widgets/controls",
            "layout": "IPY_MODEL_60606ef650d9486e9bf97bb4ca36595f"
          }
        },
        "89620723e550402bbbcddbd9014c9b64": {
          "model_module": "@jupyter-widgets/output",
          "model_name": "OutputModel",
          "model_module_version": "1.0.0",
          "state": {
            "_view_name": "OutputView",
            "msg_id": "",
            "_dom_classes": [],
            "_model_name": "OutputModel",
            "outputs": [
              {
                "output_type": "display_data",
                "data": {
                  "image/png": "iVBORw0KGgoAAAANSUhEUgAAA3AAAAGDCAYAAABqc/JJAAAABHNCSVQICAgIfAhkiAAAAAlwSFlzAAALEgAACxIB0t1+/AAAADh0RVh0U29mdHdhcmUAbWF0cGxvdGxpYiB2ZXJzaW9uMy4yLjIsIGh0dHA6Ly9tYXRwbG90bGliLm9yZy+WH4yJAAAgAElEQVR4nOzdfVzNd+PH8ffpVLqjO5wwszGzzUKUMZR1lZBKXamGVG4qJHfL3eW+kXu25iZE7jaNRRNz1+RmbhYitjGMzV3RHalUp87vj37OpJtzyjnO6fR+Ph495pzO93U+p+26tk+fz/kcgUQikYCIiIiIiIjUnpaqB0BERERERETy4QSOiIiIiIiojuAEjoiIiIiIqI7gBI6IiIiIiKiO4ASOiIiIiIiojuAEjoiIiIiIqI7gBI6IqI6YNm0aVq5cqeph1Gu+vr7YtWtXja558OABrKysUFJSoqRRERFRfcIJHBGREtjb2+P06dOqHkal2rVrh7///luux6r6ddS1SWu7du3QqVMnWFlZwcrKCtbW1mjevDlSUlIgFAoV8hy+vr6wtLTEw4cPpfedPn0a9vb2CukTEZF64wSOiIhUQiwWq3oIShEfH4+UlBSkpKTg/Pnz1T5WIpGgtLS0xs9hYGCANWvW1HaIctPUv0dERHUZJ3BERG9QaWkp1q9fDwcHB3zyyScYP348cnJypN8PDQ1Fjx490KVLFwwZMgQ3btyotPPs2TP4+vriyy+/xLx587Bo0aJy3w8ODkZMTIzM8URGRmL8+PGYMmUKrKys4OzsjCtXrgAAwsLC8ODBAwQHB8PKygobNmwAAFy6dAk+Pj6wtraGq6srzp07J+3dvXsXQ4YMgZWVFfz9/TFv3jx88cUXAIB79+6hXbt22LVrF3r37g0/P79qX3NsbCz27duH6OhoWFlZITg4GACQnp6OcePGoVu3brC3t8fWrVurfY3V/UynTZuGefPmITAwEFZWVhg0aBD++ecf6fd/+eUX9O3bF126dMH8+fMhkUhk/kxf9eJ1v5gM+fr6YuXKlfDx8UHHjh1x9+5d3Lp1CwEBAejatSucnJxw4MCBapu+vr5ISEgoN9aXVfczenVV89y5c7C1tZXetre3x/r16+Hi4oJOnTpBLBYjMTERzs7OsLa2hq+vL27dulXu8dHR0XBxcUGXLl0wYcIEFBYW1vjnRERE8uEEjojoDdq2bRuOHj2K7du34+TJkzA2Nsb8+fOl37e1tcWhQ4dw5swZfPTRR9LJz8uys7Ph7++Pzp07Y+bMmXB3d0dCQoJ0JScrKwtnzpzBgAED5BrTzz//DGdnZ5w/fx729vYIDw8HACxduhTNmzfHunXrkJKSglGjRiE9PR1BQUEYPXo0fv31V0ydOhWhoaHIysoCAHzxxRfo0KEDzp07h5CQEMTHx1d4vuTkZBw4cADR0dHVvmZvb2+4uLhgxIgRSElJwbp161BaWorRo0ejXbt2OHHiBLZs2YItW7bg5MmTVb4+WT/TAwcOICQkBMnJyXj77belk5usrCyEhIRgwoQJOHv2LN5++21cvHhRrp+pLPHx8QgPD8fFixdhZmaG4cOHY8CAATh9+jRWrlyJefPm4ebNm1VeLxKJ4OXlha+//rrC92rzM3rV/v37sX79epw/fx53797F5MmTMWPGDJw5cwa2trYIDg5GUVGR9PE//fQTNm7ciMTERFy/fh1xcXE1+4EQEZHcOIEjInqDdu7ciYkTJ8LCwgK6uroICQnBoUOHpKsznp6eMDIygq6uLsaNG4dr164hNzdXev2jR4/g6+uLvn37YuLEiQCADh06oGHDhjhz5gyAsglJ165d0bhxY7nG1KVLF9jZ2UEoFMLNzQ3Xrl2r8rHx8fGwtbWFnZ0dtLS00KNHD3z88cc4fvw4Hjx4gCtXriA0NBS6urqwtrau9H1Z48aNg4GBAfT09OR6zS+7cuWKdGKlq6uLli1bwsvLq9oVK1l9BwcHdOjQAdra2nB1dcUff/wBADhx4gTatm2Lvn37QkdHB35+fnL9TN3d3WFtbQ1ra2t8+eWXVT6mbdu20NbWxsmTJ9GiRQv897//hba2Nj766CM4OTnh4MGD1T5PUFAQjh07VmGVtjY/o1f5+vqiWbNm0NPTw4EDB2BnZ4cePXpAR0cHI0aMwPPnz5GSklLu8SKRCCYmJvjss8+kP0MiIlI8bVUPgIioPnnw4AHGjh0LLa1/f3+mpaWFzMxMNG7cGCtXrsTBgweRlZUlfUx2djYaNmwIADh+/DgMDAzg4+NTruvu7o4ff/wRPXr0wI8//ohhw4bJPaaXJyV6enooLCyEWCyGtnbFf0U8ePAABw8exLFjx6T3icVifPLJJ3j06BGMjY2hr68v/V6zZs3KHbYBABYWFtI/l5SUyHzNL7t//z4ePXoEa2vrco0Xt62srKT379+/HyKRSGb/1defn58PoGyy/PJYBQIBmjVrJr3t7OyMBw8eAAA2bNggHcOePXvQqlUr6ePu3btX4XW83Ll//z5SU1MrvCZXV9cK173MzMwMQ4cOxddff43PP/9c7p+RPF4e36NHj9C8eXPpbS0tLTRr1gzp6enS+5o0aSL9s76+Ph49eiT3cxERUc1wAkdE9AZZWFhg4cKF6NKlS4Xv7d27F4mJidi8eTPeeust5ObmwsbGptz7rgYNGoSnT58iMDAQGzduhIGBAQDA1dUVAwYMwLVr13Dr1i04ODgoZfzNmjWDm5tbpStL9+/fx5MnT1BQUCCdxL06eQPKJkIv7Nu3r9rX/PJjXzz/W2+9hcOHD1c6vpdXhQD5fqZVadKkCdLS0qS3JRJJudezf/9+mY2qvPy6mjVrBhsbG2zevLnGnREjRsDBwQGWlpbletX9jPT19fH8+XPp7YyMjGrH17RpU/z555/S2y9+DiKRqMbjJSKi18ctlERESlJcXIzCwkLpl1gsxueff45Vq1bh/v37AMreZ3X06FEAQF5eHnR1dWFqaoqCggKsWLGi0u7s2bPx7rvvIjg4WPof4hYWFrC0tERYWBj69Okj3Z74uho3boy7d+9Kb7u6uuLYsWM4efIkSkpKUFhYiHPnziEtLQ0tWrTAxx9/jMjISBQVFSElJaXcSl1lZL1mc3PzcitYHTp0gKGhIdavX4/nz5+jpKQEf/75J1JTU2vVr46dnR1u3LiBw4cPQywWY+vWrZVOdl5X7969cefOHezduxfFxcUoLi5GampquYNCqtKoUSMEBARI308IyP4Zffjhhzh+/DhycnLw+PFjbNmypdrn6NevH44fP44zZ86guLgYmzZtgq6ubrnVTiIienM4gSMiUpLAwEB06NBB+hUZGYlhw4bB3t4ew4cPh5WVFby8vKT/YT1w4EA0b94cvXr1grOzMzp16lRpVyAQIDw8HBYWFhgzZoz0xL+BAwfizz//hJubm0Jfw9q1a2FtbY3o6Gg0a9YMa9asQVRUFLp37w47OztER0dLD1BZtmwZLl26hE8++QSrVq1C//79oaurW2Vf1mv29PTEzZs3YW1tjTFjxkAoFGLdunW4du0a/vOf/6Bbt26YOXMmnj17Vqt+dczMzPDVV19h+fLl+OSTT/D333+jc+fOcl8vLyMjI0RHR+PAgQPo1asXevbsiWXLlpU7JKQ6w4YNK7clV9bPyM3NDR988IH0n8P+/ftX22/dujWWLl2K8PBwdOvWDceOHcO6deuq/ftKRETKI5DU5kxkIiJSO8nJyQgLC8OxY8cqbD1UlQkTJqB169YIDQ1V9VCIiIg0AlfgiIg0QHFxMbZu3QpPT0+VTt5SU1Pxzz//oLS0FCdOnEBiYqLS3o9HRERUH6ntBO7EiRNwcnKCo6Mj1q9fr+rhEBGprVu3bsHGxgaPHz+Gv7+/SseSkZEBX19fWFlZYcGCBZg7dy4++ugjlY6JiIhIk6jlFsqSkhI4OTlh8+bNEIlE8PT0xIoVK/Dee++pemhEREREREQqo5YrcKmpqWjVqhVatmwJXV1dODs7IzExUdXDIiIiIiIiUim1nMClp6eX+/BUkUhU7gNDiYiIiIiI6qM6+0HesbGxiI2NBQD88MMPUL+NoFS3SQAo+iAINtlkk0022WRTtU2qz7S0NOOfJ7WcwIlEIqSlpUlvp6enQyQSlXuMt7c3vL29AQClpRJkZlb+GUBERERERERNmjRU9RAUQi23UFpaWuLOnTu4e/cuioqKsH//ftjb26t6WFSPmDjYsskmm2yyySabGtYk0gTCuXPnzlX1IF6lpaWFd955B2FhYdi+fTtcXV3h5ORU5eMlEqCgoOgNjpA0nbhjJ5RaNGOTTTbZZJNNNjWoSfWboWEDVQ9BIdRyCyUA2NnZwc7OTtXDoHpKYmTEJptssskmm2xqWJNIE6jlFkoiVWs0xItNNtlkk0022dSwJpEmUMsP8q4pHmJCRERERETV4SEmRBrMYMlCNtlkk0022WRTw5pEmoATOCIiIiIiojqCWyiJiIiIiEjjcQslkQYz7WbFJptssskmm2xqWJNIE3AFjqgSwls3UNKmLZtssskmm2yyqUFNqt9krcA9fPgQU6ZMQWZmJgQCAby8vODn54ecnBxMnDgR9+/fR4sWLbBq1SoYGxtXuH7Pnj1Yu3YtAGD06NFwd3dXyuvgChxRJQTPFP8LATbZZJNNNtlkU7VNouoIhUJMmzYNBw4cQGxsLL799lvcvHkT69evR/fu3XH48GF0794d69evr3BtTk4OvvnmG3z//ffYtWsXvvnmGzx58kQp41TbD/ImUhjJc+gUn4YAYrkvMdw2BXkfLlHoMNhkk0022WSTTeU1SwWmEOvYKHQMVL80bdoUTZs2BQAYGRmhdevWSE9PR2JiIrZt2wYAGDhwIHx9fREWFlbu2lOnTqFHjx4wMTEBAPTo0QMnT57EgAEDFD5ObqEkjadXsA4N86eoehhERESkZJkmqSgVvqPqYZCaEgqLMXLkSOltb29veHt7V/rYe/fuYejQoUhISEDv3r1x/vx5AIBEIoGNjY309gvR0dEoLCzEmDFjAACrV6+Gnp4eRowYofDXwRU40ngC5AEAchodhAQ6cl2jv34tCgJHK3QcbLLJJptsssmmcpo64hMwyp8HgSRfoWMgzWJmZoa4uDiZj8vLy0NoaChmzJgBIyOjct8TCAQQCATKGqJcOIGjeqNY2xoQ6Mr1WLHgrMK3YbDJJptssskmm8ppapXeV+hzU/1VXFyM0NBQuLi4oE+fPgAAc3NzPHr0CE2bNsWjR49gZmZW4TqRSIRff/1Vejs9PR1du3ZVyhi5hZI0nn7Bchjlz8Njswy5J3BERERUd+gW7oXxs2HIMj6LEu2PVD0cUlOyTqGUSCSYOnUqjI2N8b///U96/+LFi2FqaorAwECsX78eOTk5mDKl/NtzcnJy4OHhgT179gAA3N3dERcXJ31PnCLxFEqiSphZvs8mm2yyySabbGpYk6g6Fy5cQHx8PM6ePQs3Nze4ubnh+PHjCAwMxC+//II+ffrg9OnTCAwMBABcuXJFOtEzMTHBmDFj4OnpCU9PT4wdO1YpkzeAK3BUD9RmBU4r7SFKLZopdBxssskmm2yyyaZymlyBI3nIWoGrK7gCRxpPUIvfUQhv3VT4ONhkk0022WSTTWU36/y6BJFMnMARVcJgaQSbbLLJJptssllnmqo9FZDoTeIWStJ4BvnLYFgwH4/NMgGBfB8jQERERHWHbmE8jJ/5Isv4DEq026t6OKSmNGULJT9GgKgSRpND8Wz512yyySabbLLJpho3S0rEyM5+DHHx+9AqPYDSogaA4G+FjoPqLm1tXZiaNoFQqFlTHs16NUQKIu5oxSabbLLJJptsqnkzO/sx9PQMYGSqB21JAcTCFoBAX+FjobpHIpEgL+8psrMfo3FjxR6wo2rcQkkazyB/KQwLwrmFkoiISMOkpf0NkehtaEmeQFj6F8TCDzmBIymJRIL09H9gYdEKgOZsoeQhJkSVMH+3OZtssskmm2yyWQeaAgEPMKHKaeo/G1yBI4337wpcFiCQb9ew4FkuJEaK/S0Nm2yyySabbLKp2GZa2t+wsGgFQWkOV+CoUi/+GQG4Akek0XR+OcUmm2yyySabbGpYUxm2bInG0KFe8PPzgb//YPz229VqH79372789FMCACAkJBDXrv1eq+fNzMzAnDnT4eXlhuHDh+KLL0Lxzz/VH+Dy/fff4vnz5zLbP/98FEOGeGLcuCAAwJw5M+Dn54PY2B21GispFidwRJXQ27aZTTbZZJNNNtnUsKaiXb2aitOnT2HTpu3YsmUnVq1aA5FIVO01Awd6ol+/Aa/1vBKJBDNmhMHKqgu+/z4emzZtR1BQCLKzs6q97vvvv5NrApeQEI8pU2YiMjIKmZkZuHbtd2zZshPe3kNea9ykGNxCSRqvNlsoiYiISP2pegvl8eM/Y//+fViyZGWF73l6usDe3gFnz55GgwYNMGfOArz1VktER0dBX98Agwf7IiQkECEhE/D++x8gImI+mjRpihEjgrBu3TdISbmA4uIiuLsPwsCB/y3XvnAhGZs2rcfq1RsqPO/Fi+exc+d2LFmyCgCwYsVifPDBR8jLy8Pq1avw9tutYGxsgsjIKBw5chDbtm2GRCJB9+49MWZMKDZv3oBvv92Kxo2boGdPO/z66xncvXsXb7/dChMnhqGjEk4cVSZuoSSqk2r+O4qGwcMVPgo22WSTTTbZZFPZzTe7LmFj0w2PHqXDx8cDy5YtQkrKhXLfNzQ0wtatsfDw8MLXXy+vtCEWl2DevJl4662WCAwcg4SEeBgaGmLjxq3YsGEr9u3biwcP7pe75q+/bqFduw9qNNZBg3zQuHETfP11FCIjo5CR8Rhr10biq6/WYfPmb3Ht2u84cSIJAQGj0K7dh5gz50uMHTseixatQIsWLRAT822dm7xpKpUsR/z000/45ptvcOvWLezatQuWlpbS70VFRWH37t3Q0tLCzJkz0atXL1UMkeq5Ise+bLLJJptssslmHWv+mpyM8+f/nUR5epZt+du9+9/3bllbd0PXrp8iJiYK+fl5AIAmTZpi0KChSEo6gt9/vyJ9rJ9fIAwNjap8PgMDA0RHb8PlyylISbmAOXNmIDg4BP37uwAAHBycAACOjn0RGVlxlQ4Ali5dCHt7B/j5jQAAJCefxc2bN5GU9DMAIC/vGe7du4vmzVvU+OdRnT/++A1WVl1gamoKAOjTpy8uX74IW9veCn0eUjyVTODef/99REZGYs6cOeXuv3nzJvbv34/9+/cjPT0dAQEBOHToEIRCoSqGSRpH/qNkC//rpfBnZ5NNNtlkk002ldvsamODrl3tKtw/ZsykCvf5+wdVuK93b0f07u1Yo+cUCoXo3NkanTtbo3XrNvjpp/3SCdzLx9hXdaK9pWUHXLx4AT4+Q9GgQQNIJBJMnBiGTz7pXuVzvvtuayQlJVYxHm2UlpZKbxcVFdXo9ZD6U8kWyjZt2qB169YV7k9MTISzszN0dXXRsmVLtGrVCqmpqSoYIdV3TZo2YpNNNtlkk002NaypaP/8cwd37/4jvX3jxp+wsLCQ3k5MPPL/fz2M9u07VNoYMMAN3bt/itmzp0EsFqNr1+7Yu3c3xGLx/z/H3ygoKCh3TZcuNigqKkJ8fJz0vps3b+Dy5RRYWFjgzp3bKCoqQm5uLi5cSJY+xsDAQLrq+OGHH+PSpYvIyclBSUkJjhw5jE6dOr/mT4TeBLU60SE9PR0dO3aU3haJREhPT1fhiKi+evzoKZtssskmm2yyqWFNRcvPL8CqVUvx7FkuhEIhWrRoiSlT/if9fm7uU/j5+UBHRxdz5y6osuPjMxR5eXkID5+NOXO+RFraQwwfPgQSiQQmJqaIiCj//jmBQICIiGX46qvl2LFjC3R1G6BZs2YIDZ0MkcgC9vYOGDbMG82aNUfbtu2k17m6umPy5HFo3LgJIiOjEBwcgtDQIOkhJr169Vb4z4gUT2mnUPr7+yMjI6PC/RMmTICDgwMAwNfXF1OmTJG+B27+/Pno2LEj3NzcAAAzZsyAra0t+vatuAc6NjYWsbGx0j/n5Mg+EpXqJ4P8JTAs+BKPzbIBgXzbcRv88L3Ct4OwySabbLLJJpuKbVY8hfIDQGCg0HHUlqenCzZu3AYTExNVD6Ve4ymUNRATE4OEhIQKXy8mb5URiURIS0uT3k5PT6/yszS8vb0RFxeHuLg4CIVqtZBIaqfmv6PQPXJQ4aNgk0022WSTTTZV2yTSBCr9HLhXV+Bu3LiByZMnY/fu3UhPT4e/vz8OHz4s8xATfg4cVccgfzEMCxbUaAWOiIiI1J86r8CReuAKnIIcOXIEtra2SElJQVBQEEaMKDs2tW3btujXrx/69++PkSNHYvbs2TyBkhRI/lMoGw1V/GlabLLJJptsssmmaptEmkA4d+7cuW/6Sdu0aYOAgACMGTMGI0aMkL7nDQBsbGwwbNgw+Pr64p133pGrJ5EABQU8IpUqp1P8C3TFJ5GvP63qM3xfITE0Qsl7bRU6DjbZZJNNNtlkU7HNZ8+ewMjIBALJc2hJslGq1RgQ6Ch0HFS3vfhnBAAMDRuoeDSKodItlIrCLZRUnX+3UOYAAvkWnQXPciExUuwyO5tssskmm2yyqdgmt1CSLNxCSVQn1fx3FGaW7WQ/iE022WSTTTbZrFNNIk3ACRxRJTJvP2CTTTbZZJNNNjWsqQw9e1pj/vxZ0ttisRgDBjhgypQJCumHhATi2rXfFdKqjejoKAwc2A/+/oPh6+uFU6eOV/v4rVs3vdbznTiRhNu3/5Le3rhxHZKTz1V7zYIFc3Hs2NHXet66hBM4okrobd3MJptssskmm2xqWFMZ9PX18ddft1BYWPaZxMnJ59C4cdM3OgaxWKzUvpfXYMTEfIvw8MWIiJiP0tLSKh+7bdvr/X07eTIJd+78O4EbOTIYNjafvFZT03ACR/WI/KdQal9OUfizs8kmm2yyySabqm0qS/fuPXD69CkAwNGjh+Dg0Ef6vYKCAixcOA+jRg1DQMBgnDyZBAA4cGAfpk+fjAkTxsDT0wU//BCLnTu3IyBgMAID/fH06RNp4+DBA9IVsN9/vwqgbGUsPHwWRo8ejvDw2Xj48AHGjBmJ4cOHYPjwIbhy5TIA4OLF8wgJCcTMmVMwePB/MW/eTLw4AuPatT8QEhKI4cOHYtKkEGRkZFT7Ot95510Ihdp48iQHR44cxLBh3vD19cKaNV8DANaujURhYSH8/Qdj3ryZAIBDhw5g1Khh8PcfjCVLFqCkpAQA4OjYC1FRq+Hn9zkCA/2RlZWJK1cu49SpE1iz5mv4+w/G/fv3yq2ubd68ASNHDoOvrxcWL14ADTjKo1Z4iAlpPIP8RTAsWIjHZk/kPoWSiIiI1N/Lh5j8cv06fv5TB4DiPoLK7gML9GonqvYxjo69sHbtJsTEbMCsWeEICgpAaOgk7Ny5HUuWrEJU1Gq88867cHLqj9zcXIwa5YfNm3fg2LGj2LIlGps370BhYRF8fAZi9OhxGDjQE19/vRwWFs3g5TUYISGBaNnybUydOhOXLl3E8uWLsG3b94iOjsIvv5zE2rUb0aCBHp4/fw6BQIAGDRrg7t1/MHfu/xAdvQ0XL57H9OmTsW3b92jcuAlGjx6BMWPGo337jxESEoiIiOUwNTVFYuJhnDt3BjNmzCn3+qKjo6Cvb4DBg33x229XMWPGF9i4cSuCggIQHb0dDRs2xKRJIfD09IGtbW84OvbCkSMnAQB37tzGmjVfY+HCpdDW1sayZYvQvv3H6NdvAHr2tMaiRSvQs6ct1qz5CgYGhvD3H4kFC+bi00974rPPHACg3O2nT5+gUSNjAEB4+Cx89pkjeva0rXDNy3iICVE9YTywP5tssskmm2yyqWFNZXnvvbZ4+PAhjh49hO7de5T73q+/nsX27THw9x+MceOCUFRUiPT0NABA587WMDAwhKmpKQwNjdCjhy0AoHXr9/Dw4UNpw8HBCQDQqVNn5OXlITc3FwDQs6ctGjTQA1C2jXLJki8xbJg3Zs2aVm4b4ocftkfTpiJoaWmhbdv3kZb2AP/8cwd//XULEyeOhb//YGzZEo3Hjx9V+vq+//5b+PsPxurVqzB/fgSuXfsdVlZdYGpqCm1tbfTp0xeXL1+scN2FC7/i+vU/MHJk2QrchQu/4sGD+wAAHR0d9OjRCwDQrt2HSEt7WOH6V128eB6jRvlh2DBvXLhwvtx75eoTbVUPgEj5ar7InB82XeGjYJNNNtlkk002lde0bauDTz9Q3ccI9Oxpi9Wrv0JkZBSePMmR3i+RSLBgwRK8/fY75R7/++9XoaPz72fWaWlpQUdHV/rnkpJ/39cmeGUH0Yvbenr60vtiY3fA1NQcMTHfobS0FP/5z78TSV1d3XLPU1JSAokEePfd1oiKkv2eNS+vwRg82Fd6+8U2UFkkEgn69RuA4OCQCt/T1taWvo4XY6pOYWEhli9fjI0bt0IkskB0dBSKigrlGkdNTJ8+HUlJSTA3N0dCQgIAYMKECbh9+zYAIDc3Fw0bNkR8fHyFa+3t7WFoaAgtLS0IhULExcUpfHwAV+CIKlXS5j022WSTTTbZZFPDmsrk7OyKgIBRaPPKuD/5pDt2746Vvl/rzz+v1bidmHgYAHD58iUYGRnByMiowmPy8p7B3LwxtLS0cOjQAZkTorffboWcnGxcvZoKoGwF76+/bsk1ng8//BiXLl1ETk4OSkpKcOTIYXTq1BkAIBRqSw9V6dKlK5KSEpGdnQUAePr0icyVNgMDA+Tn51e4v6ioCABgYmKC/Px8JCUlyjXWmvLw8MDGjRvL3bdq1SrEx8cjPj4effr0gaOjY5XXb9myBfHx8UqbvAGcwBFVysTRjk022WSTTTbZrDNN1b/HvWlTEQYN8qlwv7//CIjFYvj5+WDoUC9s3Liuxm1d3QYICBiMZcsWYtq0WZU+xt19EA4eTICf3+f4++870NfXr/RxL+jo6ODLLxdj7dpI+Pl9Dn//wdLJnCyNGzdGcHAIQkOD4O//Odq1+wC9evUGALi6usPPzwfz5s3Eu++2xqhRo68AtLgAACAASURBVDFxYgj8/HwwYcJYmQel/Oc/ffDdd9sQEFB2iMkLDRs2hIvLQPj6emPy5BB8+GF7ucZaUzY2NjA2Nq70exKJBD/99BMGDBiglOeWFw8xIY1nkB8Bw4IIPDZ/quqhEBERkQL9e4jJEwhLb0EsVN0WSlJPtTnE5N69ewgODpZuoXwhOTkZERERVa6u2dvbw9jYGAKBAN7e3vD29n69wVeBK3BEldBfE8kmm2yyySabbGpYk+q3rKwseHh4SL9iY2NrdH1CQkK1q2/fffcd9uzZgw0bNmDHjh1ITk5+3SFXioeYEFVCS46TkNhkk0022WSTzbrVpPrNzMys1u9NE4vFOHLkSLXXi0RlHzlhbm4OR0dHpKamwsbGplbPVx1uoSSNZ5C/EIYFi7iFkoiISMNwCyXJoqgtlCdOnMD69euxffv2Sq/Jz89HaWkpjIyMkJ+fj+HDh2PMmDGwtbV9/RfxCm6hJKqEiYPi/8fGJptssskmm2yqtkkky6RJk+Dj44Pbt2/D1tYWu3btAgAcOHAAzs7O5R6bnp6OUaNGAQAyMzMxePBguLq6YtCgQbCzs1PK5A3gChzVA7VZgdO+nAJxRyuFjoNNNtlkk0022VRskytwJEttVuDUHVfgiCohqeTzVdhkk0022WSTzbrdJNIEnMARVaLREC822WSTTTbZZFPDmsqyZUs0hg71gp+fD/z9B+O3365W+di9e3fjp5/K3lsVEhKIa9d+f1PDJA3BLZSk8QzyF8CwYDEPMSEiItIwFbdQtgMEhm90DFevpiIyciUiI6Ogq6uLnJwciMXFaNy4icxrQ0ICERIyAR988NEbGGn9xC2URPWEwZKFbLLJJptsssmmhjWVITMzA8bGJtDV1QUAmJiYoHHjJvD0dMGaNV9h2DBvjBo1DPfu3QUAREdH4dtvt5VrlJaWYsGCuVi/fg1KSkqwevVXGDlyGPz8fLB37w8AgIyMDIwdOwr+/oPh6+uFy5dT3uwLJbXBCRwRERERUS3Z2HTDo0fp8PHxwLJli5CSckH6PUNDI2zdGgsPDy98/fXySq8Xi0swb95MvPVWSwQGjkFCQjwMDQ2xceNWbNiwFfv27cWDB/dx5MhBdO3aDTEx3yIm5ju0bfv+m3qJpGa4hZI0nkH+AhgULEGG+RNVD4WIiIgU6NUtlLor9gHQQf6UGTDtZoWnO76H4NkzGE0ej5yjJ2A4ewZKLZqhYMw4mFm+j5wjxyG8dRMGSyPwZO8BGE0OhbijFZ4PC4D5u82RdeU6JEayt92VlJTg8uUUpKRcQHx8HIKDQ7Bp03p89dVatGjxFsRiMVxdnXDgQCKio6Ogr2+AwYN9ERISiNzcXNjbO8DPbwQAYObMKbh58yb09PQAAHl5zxAWNgO6urqIiJiPPn36wda2N9q2bafMH63G4BZKonrCtJtij0Jmk0022WSTTTaV38wP+wL5U2YAALLPpqCkTVuIO1oh5+gJAEDe/IUoGDMOAJB15U+UWjRDcY9eeLL3AADg2fKv8XxYAAAg8/YDuSZvACAUCtG5szVGjAjCxIlhSEr6GQAgEAikj3npj+VYWnbAxYsXUFhYCACQSCSYODHs/1favsWuXT+ia9du6NSpM1av3oAmTZpiwYJ50oNQqP7hBI6oEk93fM8mm2yyySabbGpYUxn++ecO7t79R3r7xo0/YWFhAQBITDzy/389jPbtO1R6/YABbuje/VPMnj0NYrEYXbt2x969uyEWi/+//zcKCgqQlvYQpqZmcHV1h4uLG/7887qSXxmpK21VD4BI+Wq+S1jwTPFbctlkk0022WSTTdU2lSE/vwCrVi3Fs2e5EAqFaNGiJaZM+R9Onz6F3Nyn8PPzgY6OLubOXVBlw8dnKPLy8hAePhtz5nyJtLSHGD58CCQSCUxMTBERsRwpKRfw7bdboa2tDX19A8ycOe8NvkpSJ3wPHGk8g/wvYVCwtEbvgTNxsJVut1AUNtlkk0022WRTsU11+BiBqnh6umDjxm0wMTFR9VDqNU18DxwncKTxajOBIyIiIvXHCRzJookTOL4HjuqJKt45XAXD2TMUPgI22WSTTTbZZFO1zTdp9+59nLyRUqhkArd48WL07dsXLi4uGDt2LJ4+fSr9XlRUFBwdHeHk5ISTJ0+qYnhEKLVoxiabbLLJJptsaliTSBOoZAvlqVOn0K1bN2hra2Pp0qUAgLCwMNy8eROTJk3C7t27kZ6ejoCAABw6dAhCobDaHrdQUnXKtlAuQ4Z5jqqHQkRERAqkzlsoST1wC6WC9OzZE9raZQdgdurUCWlpaQCAxMREODs7Q1dXFy1btkSrVq2QmpqqiiGSRqn57yjMLN9X+CjYZJNNNtlkk00lN+v8yQ5Esqn8PXA//PADbG1tAQDp6enSz80AAJFIhPT09Eqvi42NhYeHBzw8PFBSIn4jY6X6I+fIcTbZZJNNNtlkU8OaRJpAaRM4f39/DBgwoMLX0aNHpY9Zu3YthEIhXF1da9z39vZGXFwc4uLiIBTy4+xIsYS3brLJJptssskmmxrWVAZHx14Kbz58+ACHDx+s8vv//PM3vvgiFD4+7hg+fAhmzZqGrKxMhY+jOidOJOH27b/e6HNSGaVN4GJiYpCQkFDhy8HBAQAQFxeHpKQkLFu2DAJB2QmBIpFIup0SKFuRE4lEyhoi1Ss1O4XSYGmEwkfAJptssskmm2yqtllXPHz4AEePVj6BKywsxJQpEzBwoCd27tyDTZt2wN3dEzk52XL3S0pKqr0tj5Mnk3DnDidwqqCSQ0xOnDiBRYsWYfv27TAzM5Pef+PGDUyePFl6iIm/vz8OHz7MQ0zotRjkh8OgYAUyzOX/PzYiIiJSfxUOMdFqB2i92UNMHB174ciRk7h48Tw2bVoPExMT/PXXLbRr9yFmzw6HQCCAp6cL7O0dcPbsaTRo0ABz5izAW2+1xIIFc/Hppz3x2WcO5VqBgf74++/baNasBfr1c4a39xDp8yUkxCMl5QJmzZpfYSwHDuzDtWu/Y9KkqQCAKVMmwMdnKDp3toajYy+4unrg/PlfMWnSVHzxxbhyt9PSHmD37p0oLhbjo4/aY/LkaRAKhXB07AVPTx+cPn0KDRo0wKJFy3H//j1MmTIRRkZGMDQ0woIFS9CixVtv5gdeQzzEREHCw8ORl5eHgIAAuLm5Yfbs2QCAtm3bol+/fujfvz9GjhyJ2bNny5y8ESmD0eRQNtlkk0022WSzDjV1iw7BONcDxk/6K+yrQeG3NRrDjRvXERo6Gdu378KDB/eRmnpZ+j1DQyNs3RoLDw8vfP318mo7wcEh6NjRCjEx35abvAHA7dtlk8OaKigowEcffYwtW75Dx46dyt02NjZGYuIRrF27CTEx30JLS4jDh3+SXte+vSW2bPkOnTpZ4ccf98DSsiN69rTFmDGhiIn5Vm0nb5pKJW8eO3LkSJXfGz16NEaPHv0GR0Oar+aLzOKOVgofBZtssskmm2yyqdqmsn34YXs0bVr29p+2bd9HWtoDdOzYCQDg4OAEAHB07IvIyJVvfGxCoRC9e9tXevvChV9x/fofGDlyGACgsPA5TE1NAQA6Ojro0aPsfX7t2n2I5ORzb3jk9Cqe/kFUiefDAthkk0022WSTzTrULNJ1Qr5e6BvfQvkyXV1d6Z+1tLTKvbfsxZkPZX8u+6tQKERpadkvmktLS1FcXCzzOd59tzVSUi5W+r2XewBQWFhUbmwv72x7+bZEIkG/fgMQHBxSoamtrS0d+6uviVRD5R8jQKSOzN9tziabbLLJJptsalhTlRITj/z/Xw+jffsOAAALi2a4fv0PAMCpUycgFpd9NJaBgSHy8/Mr7Tg69sXVq6k4ffqU9L5Lly7ir79uwsKiOW7e/BOlpaVIT0/DH3/8JtfYunTpiqSkRGRnZwEAnj59grS0h9VeY2BgUOUYSbk4gaN6omanUGZdua7wEbDJJptssskmm6ptqlJu7lP4+flg166dCA2dBABwdXXHpUsX4ef3Oa5eTYW+vj4A4L332kJLSwt+fp8jNnZHuU6DBnpYsmQVdu+OhY+PO4YOHYQ9e3bBxMQUHTp0RLNmzTF06CCsWrUM77/fTq6xvftua4waNRoTJ4bAz88HEyaMRUZGRrXX/Oc/ffDdd9sQEDAY9+/fq8VPhGpLJadQKhpPoaTqGOTPh0HBKmSYZ8l9je6hn1Dk1E+h42CTTTbZZJNNNhXbVIdTKOXh6emCjRu3wcTERNVDqXd4CiVRPaG3bTObbLLJJptssqlhTSJNwBU40ni1WYEjIiIi9VdXVuBIdbgCR1RPNAweziabbLLJJpts1oFm2VpEzd7rTvWDBqxTVYoTOKonavZ/7EWOfRU+AjbZZJNNNtlkU7FNbW1d5OU91dj/UKfak0gkyMt7Cm1tXdkPfsn06dPRvXt3DBgwQHpfZGQkevXqBTc3N7i5ueH48eOVXnvixAk4OTnB0dER69evf63xV4dbKEnjlW2h/AoZ5pmqHgoREREpUEmJGNnZjyEufgKt0gyUaokAQc3+g500l7a2LkxNm0AoLPvoa3m2UCYnJ8PAwABTp05FQkICgLIJnIGBAUaMGFHldSUlJXBycsLmzZshEong6emJFStW4L333lPMi3kJP8ibqBJNmjbC40dP2WSTTTbZZJNNNW4Khdpo3LgZdIquwiT3v8hudBRina4KHQfVLzY2Nrh3r+Yfi5CamopWrVqhZcuWAABnZ2ckJiYqZQLHLZSk8QSo+SKzov8lxCabbLLJJptsvolmnd9YRmpqx44dcHFxwfTp0/HkyZMK309PT4eFhYX0tkgkQnp6ulLGwgkcUSUa/PA9m2yyySabbLKpYU2q37KysuDh4SH9io2Nleu6zz//HEeOHEF8fDyaNm2KRYsWKXmk1eMEjqgSukcOsskmm2yyySabdabJUyhJNjMzM8TFxUm/vL295bqucePGEAqF0NLSwqBBg3DlypUKjxGJREhLS5PeTk9Ph0gkUtjYX8ZDTEjjGebPg35BJDLMM1Q9FCIiIlICnaKjMMn1QHajIxDrfKLq4ZCakvdz4O7du4fg4GDpISaPHj1C06ZNAQAxMTG4fPkyVq5cWe4asVgMJycnxMTESA8xWb58Odq2bavYFwGuwBFVqtFQLzbZZJNNNtlkU8OaRLJMmjQJPj4+uH37NmxtbbFr1y4sXboULi4ucHFxwdmzZzF9+nQAZatso0aNAgBoa2tj9uzZGDlyJPr3749+/fopZfIG8BRKoko99w1gk0022WSTTTY1rEkky4oVKyrcN2jQoEofKxKJsGHDBultOzs72NnZKW1sL3ALJWk8w7y50H/+TY22UAqe5UJiJN8yO5tssskmm2yyqdomt1CSPOTdQqnuuIWSqBJmlu3YZJNNNtlkk8060+QhJlR/cAWONF5tVuCIiIio7tApSoRJrjtX4KhaXIEjqlNq9ps5va2bFT4CNtlkk0022WRTtU0iTcAJHFEltC+nsMkmm2yyySabGtYk0gTcQkkazzBvDvSfr0GG+WNVD4WIiIiU4N8tlIch1umm6uGQmuIWSiINZjywP5tssskmm2yyqWFNIk0gnDt37lxVD+J1SSRAQUGRqodBakq3OAk64mTkG0yR+5rSlm+j9O1WCh0Hm2yyySabbLKpnKaw5A70inbieQNflArfUug4SHMYGjZQ9RAUgitwRJUoafMem2yyySabbLKpYU0iTcAJHNUTNTuF0sTRTuEjYJNNNtlkk002Vdsk0gQ8xIQ0XtkhJmuRYf5I1UMhIiIiJdAp+hkmuQN5iAlVi4eYvIZVq1bBxcUFbm5uGD58ONLT0wEAEokEX375JRwdHeHi4oLffvtNFcMjjVPz31Hor4lU+CjYZJNNNtlkk01lN+v8ugSRTCqZwI0cORL79u1DfHw8evfujdWrVwMATpw4gTt37uDw4cMIDw+HBpyvQnWUVtpDNtlkk0022WRTw5pEmkDlWyijoqLw4MEDzJs3D7Nnz0bXrl0xYMAAAICTkxO2bduGpk2bVtvgFkqqjmHebOg/X8ctlERERBpKp+gYTHLdkN3oEMQ63VU9HFJT3EL5mlauXAk7Ozvs27cP48ePBwCkp6fDwsJC+hgLCwvp9spXxcbGwsPDAx4eHigpEb+RMVP9YeJgyyabbLLJJptsaliTSBMobQXO398fGRkZFe6fMGECHBwcpLejoqJQWFiI0NBQBAUFYdSoUbC2tgYA+Pn54YsvvoClpWW1z8UVOKpO2QpcFDLMK/9lQGW0L6dA3NFKoeNgk0022WSTTTaV0+QKHMlDU1bgtJUVjomJketxLi4uCAwMRGhoKEQiEdLS0qTfS0tLg0gkUtIIiaomMTJik0022WSTTTY1rEmkCVSyhfLOnTvSPycmJqJ169YAAHt7e+zduxcSiQSXLl1Cw4YNZb7/jUi2mi8yNxripfBRsMkmm2yyySabym0KeAol1QMqOcRk3LhxuH37NgQCAVq0aIF58+ZBJBJBIpFg/vz5OHnyJPT19bFw4UKZ2ycBbqGk6hnmzYL+8/U12kJJREREdYdOcRJMnroip9FBFOt8qurhkJrSlC2UKlmBi4yMREJCAvbt24d169ZJt0kKBALMmTMHR48exb59++SavBEpg8GShWyyySabbLLJpoY1iTRBle+BO3z4cLUX9unTR+GDIVIegaoHQERERET02qrcQjl9+vRqL4yIiFDKgGqDWyipOmVbKDcgwzxN9oOJiIiozuEWSpKHxm+hjIiIqPaLqO6o+ds8Tbsp9ihkNtlkk0022WTzTTR5iAlpPrkOMUlKSsKNGzdQWFgovS8kJESpA6sJrsBRdQzzZkL/+cYarcAJb91ASZu2Ch0Hm2yyySabbLKpnOa/K3A/oVinh0LHQZpD41fgXpg9ezYOHDiA7du3AwAOHTqEBw8eKH1gRKokeKb4XwiwySabbLLJJpvKavK97lR/yJzApaSkYMmSJWjUqBFCQkKwc+fOcp/jRqSJjCaPZ5NNNtlkk002NaxJpAlkbqEcNGgQdu3aBS8vL0RGRsLU1BTOzs44cuTImxqjTNxCSdUp20IZjQzzh6oeChERESmBTvFxmDx14RZKqla92ULZu3dvPH36FCNGjICHhwfs7e3h7Oz8JsZGpDKGs2ewySabbLLJJpsa1iTSBFV+DtwLY8eOBQA4OTnhs88+Q2FhIRo21IzZK9UXNT+RqtSimcJHwSabbLLJJptsKrvJUyjp9UyfPh1JSUkwNzdHQkICAGDx4sU4duwYdHR08PbbbyMiIgKNGjWqcK29vT0MDQ2hpaUFoVCIuLg4pYyxyi2UZ86cQffu3av8QG91+iBvbqGk6hjm/Q/6zzdxCyUREZGG+ncL5QEU6/RU9XBITcmzhTI5ORkGBgaYOnWqdAJ36tQpdOvWDdra2li6dCkAICwsrMK19vb22L17N8zMzBQ78FdUuYUyOTkZAHDs2LFKv4g0mZnl+2yyySabbLLJZp1p8hRKUgwbGxsYGxuXu69nz57Q1i7buNipUyekpcn/0VTKUOUWytDQUADAmDFj0LJly3Lfu3v3rnJHRaRiOUeOs8kmm2yyySabGtYkel0//PAD+vXrV+X3R4wYAYFAAG9vb3h7eytlDDIPMXkxkXvZ+PE81pXqFkkNfzMnvHVT4WNgk0022WSTTTZV26T6LSsrCx4eHtKv2NjYGl2/du1aCIVCuLq6Vvr97777Dnv27MGGDRuwY8cO6Y5GRatyAnfr1i0cOnQIubm5OHz4sPQrLi4OhYWFShkMkbowWBrBJptssskmm2xqWJPqNzMzM8TFxUm/arJCFhcXh6SkJCxbtgwCQeULAyKRCABgbm4OR0dHpKamKmTcr6ryEJOjR48iMTERP//8M+zt7aX3Gxoaon///ujcubNSBlQbPMSEqmOYNwN6z2OQaf5A1UMhIiIiJdApPgGTpwOQ02g/inV6qXo4pKbk/Ry4e/fuITg4WHqIyYkTJ7Bo0SJs3769ygNK8vPzUVpaCiMjI+Tn52P48OEYM2YMbG1tFTb+F6pcgXNwcEBERATWrVuHiIgI6dfMmTPVavJGpAxGkytuHWaTTTbZZJNNNtW1yUNMSDEmTZoEHx8f3L59G7a2tti1axfCw8ORl5eHgIAAuLm5Yfbs2QCA9PR0jBo1CgCQmZmJwYMHw9XVFYMGDYKdnZ1SJm+AHJ8D16pVK6xbtw7379+HWCyW3h8RwWVt0lzijlZssskmm2yyyaaGNYlkWbFiRYX7Bg0aVOljRSIRNmzYAABo2bIlfvzxR7mf5+7du5UeFPnqfZWpcgvlCz4+PujSpQvat28PoVAovd/JyUnuASobt1BSdbiFkoiISLPpFJ+EyVNnbqGkasm7hfJNcHd3x549e8rd5+HhIdeHf8s8hbKgoABhYWHo378/nJycpF9EdUoVbzativm7zRU+BDbZZJNNNtlkU7VNIlVTxEGRMlfgVq5cic6dO8POzk4hg1YGrsBRdQzzpkOvcCsyze7LfY3gWS4kRor9LQ2bbLLJJptssqmc5r8rcAko1lHO+46o7lOHFThFHBQpcwVu69atCAoKgqWlJTp37gwrKyseYkIaT+eXU2yyySabbLLJpoY1iVRNEQdFypzApaSk4Nq1a7hy5QouXryIlJQUXLx48bUHT6TO9LZtZpNNNtlkk00260yTp1BS3fLioMhZs2Zh+vTp0i95yNxCKZFI8OOPP+LevXsYO3YsHj58iMePH6NDhw4KGbwicAslVac2WyiJiIio7tApPgWTp/25hZKqpQ5bKF94nYMiZa7AzZ07F5cuXZJ+kJ2BgQHmzZv3GsMlUoWa/WauYfBwhY+ATTbZZJNNNtlUbZNIXbzOQZEyJ3CpqamYM2cOGjRoAAAwNjZGcXHx642YSM0VOfZlk0022WSTTTY1rEmkLnr37o3jx4/X6lqZWygHDRqEnTt3wtPTE3v27EFWVhaGDx+OvXv31uoJlYFbKKk6hnnToFe4HZlm91Q9FCIiIlKCf7dQ7kOxjvqenE6qpU5bKK2srFBQUAAdHR3o6OhAIpFAIBDIddaIzBU4X19fjB07FpmZmVi5ciU+//xzBAYGKmTgROqqSdNGbLLJJptsssmmhjWJ1MXrHBQpcwUOKPvAubNnz0IikaB79+5o06bNaw8aADZt2oTFixfjzJkzMDMzg0QiwYIFC3D8+HHo6elh0aJFaN++vcwOV+CoOlyBIyIi0mw6xb/A5Gk/rsBRtdRpBe51DoqUuQIXFhaGNm3aYMiQIRg6dCjatGmDsLCw1x70w4cP8csvv6B58+bS+06cOIE7d+7g8OHDCA8Px9y5c1/7eYhqo8EP37PJJptssskmmxrWJFIXr3NQpMwJ3M2bN8vdLikpwW+//VaLYZYXERGBsLAwCAT/ng6YmJiIgQMHQiAQoFOnTnj69CkePXr02s9FVNNTKHWPHFT4CNhkk0022WSTTdU2idTF6xwUWeUWyqioKKxbtw6FhYXQ09PDi4fp6urCy8sLkydPrvWAjx49irNnz2LmzJmwt7fH7t27YWZmhqCgIIwaNQrW1tYAAD8/P3zxxRewtLSstsctlFSdsi2UO5BpdlfVQyEiIiIl4BZKkoc6baF8nYMiq1yBCwoKQkpKCkaMGCF9Y11KSgrOnTsn1+TN398fAwYMqPB19OhRREVFYfz48TV7la+IjY2Fh4cHPDw8UFIifq0WaTqZb/OsoNFQL4WPgk022WSTTTbZVHaz5v/OJ1KFyg6KDAoKkutabVkPmDx5MhITE3H+/HkAQNeuXfHZZ5/JDMfExFR6//Xr13Hv3j24ubkBANLS0uDh4YFdu3ZBJBIhLS1N+ti0tDSIRKJKO97e3vD29gZQtgJHpEjPfQPYZJNNNtlkk00NaxKpg9LSUrz11lsICwuTHhS5Zs0auQ+KlHkK5fLly5GamgoXFxcAwP79+2FpaYlJkya9/uiBclsok5KSsH37dmzYsAGXL1/Gl19+id27d8tscAslVccwbyr0Cr+t0RZKwbNcSIwUu8zOJptssskmm2wqp6lTfBomT/sip9GPKNbprdBxkOZQpy2UAwcOrPXnass8xCQpKQmbN2+Gp6cnPD09sXHjRhw7dqxWTyaLnZ0dWrZsCUdHR8yaNQtz5sxRyvMQyWJm2Y5NNtlkk0022dSwJpG66N69Ow4dOgQ5PtGtApkrcC4uLti2bRtMTEwAADk5OfD19cW+fftqN1ol4AocVadsBe47ZJr9o+qhEBERkRJwBY7koU4rcFZWVigoKIC2tjZ0dXUhkUggEAjk+jBvmStwQUFBcHd3x7Rp0zB16lR4eHhg9OjRChk40ZtR899s6G3drPBRsMkmm2yyySabSm7WYjWD6E0rLS3Fxo0bce3aNVy9elV6YKQ8kzdAjgncp59+ip07d8LR0RF9+vRBbGws+vfv/9oDJ1Jn2pdT2GSTTTbZZJNNDWsSqQMtLS2Eh4fX+voqt1D+/PPPmDFjBrS1taGlpYWVK1eiS5cutX4iZeIWSqqOYd4U6BXu5BZKIiIiDaVdfAamT52Q0zAexbqyT0un+kmdtlAuXrwYnTp1Qp8+fSAQCGp0bZUrcCtXrsSOHTtw6tQpREZGYuXKla89UKK6wnig4leZ2WSTTTbZZJNN1TaJ1MXOnTsxfvx4WFpaonPnzrCyskLnzp3lurbKz4HT1taWfhZBx44dkZeXp5jREtUB+WHT2WSTTTbZZJNNDWsSqYuUlNpvEa5yApeZmYnNmzdXeTsggB+uSJqrpM17bLLJJptsssmmhjWJ1EVycnKl99vY2Mi8tsotlF5eXsjLy5N+vXqbqO6o+YlUJo52Ch8Fm2yyySabbLKp7CZPoaS6ITo6Wvq1Zs0aBAcHIzIyUq5rZX4OXF3AQ0yowtNr2gAAIABJREFUOoZ5YdArjOUhJkRERBrq30NM9qJY117VwyE1pU6HmLzq4cOHWLhwoVyTOJkfI0BUH+mvke83IGyyySabbLLJpjo0a3aKH5G6sbCwwK1bt+R6bJXvgSOqz7TSHrLJJptssskmmxrWJJJl+vTpSEpKgrm5ORISEgAAOTk5mDhxIu7fv48WLVpg1apVMDY2rnDtnj17sHbtWgDA6NGj4e7uXuXzhIeHSz8+oLS0FH/88Qc++ugjucbILZSk8biFkoiISLNpF5+F6dM+3EJJ1ZJnC2VycjIMDAwwdepU6QRuyZIlMDExQWBgINavX48nT54gLCys3HU5OTn473//ix9++AECgQAeHh6Ii4urdKIHlE32XhAKhWjRooXcn7ktcwtlRkYGZsyYgZEjRwIAbt68iV27dskVJ1IfNdtaYeJgq/ARsMkmm2yyySabqm0SyWJjY1Nh0pWYmIiBAwcCAAYOHIijR49WuO7UqVPo0aMHTExMYGxsjB49euDkyZMVHpeVlYWbN2/C3d1d+uXq6gpjY2NkZWXJNUaZE7hp06ahZ8+eePToEQDgnXfewdatW+WKE6kDQS1OpHq2/CuFj4NNNtlkk0022VR2s85vLCM1lJmZiaZNmwIAmjRpgszMzAqPSU9Ph4WFhfS2SCRCenp6hceFh4cjOzu7wv05OTlYsGCBXOOROYHLzs5G//79oaVV9lBtbW3pn4k0lcTIiE022WSTTTbZ1LAm1W9ZWVnw8PCQfsXGxta4IRAIpO9dq42///670s96s7a2xvXr1+VqyJyJGRgYIDs7WzrQS5cuoWFD9T2Ck0gRGg3xYpNNNtlkk00260yTp1CSbGZmZoiLi5N+eXt7y3Wdubm5dDfio0ePYGZmVuExIpEIaWlp0tvp6ekQiUQVHlfd52kXFxfLNR6Zh5j89ttvCA8Px40bN9C2bVtkZ2fjq6++wgcffCDXE7wJPMSEqmOU9wUaFO5Cptnfqh4KERERKYF28TmYPnVETsM9KNb9j6qHQ2pK3s+Bu3fvHoKDg6WHmCxevBimpqbSQ0xycnIwZcqUctfk5OTAw8NDejiJu7s74uLiYGJiUu5xgYGBGDJkCOzsyn9Q/fHjx7Ft2zZs3LhR5vhkrsC1b98e27dvx86dOzF//nwkJCSo1eSNSD41+82cwZKFCh8Bm2yyySabbLKp2iaRLJMmTYKPjw9u374NW1tb7Nq1C4GBgfjll1/Qp08fnD59GoGBgQCAK1eu4H//+x8AwMTEBGPGjIGnpyc8PT0xduzYCpM3AJgxYwYWLlyIadOmYdu2bdi2bRumTp2KhQsXSluyyPU5cKmpqbh//z5KSkrw+++/A4D0JBYiIiIiIiJNsGLFikrv37JlS4X7LC0tYWlpKb39YvJWnXfeeQf79u3Dvn37cOPGDQBlJ1/Onz8fDRo0kGuMMrdQhoWF4e7du/jggw8gFArLLhIIMHPmTLme4E3gFkqqjtGzyWhQ9AMyze6oeihERESkBP9uoYxDsa6DqodDakreLZTqTuYWyqtXr+K7777D3LlzMWvWLMyaNUutJm9EymDazYpNNtlkk0022dSwJpEmkDmBa9u2LR4/fvwmxkKkNp7u+J5NNtlkk0022dSwJpEmkPkeuOzsbDg7O6NDhw7Q0dGR3r9u3TqlDoxIlQTPFL8ll0022WSTTTbZVG2TSF1s2bIFfn5+Mu+rjMwVuHHjxmH16tUICgrC8OHDpV9EdUvNTqE0mjxe4SNgk0022WSTTTZV2yRSF3v37q1w34uPIJBF5iEmdQEPMaHqGD2bhAZFe5BpdlvVQyEiIiIl+PcQkx9QrPt/7L15eJ3Vde//PYOOpKN5li3JsmXL84xtptgGgxM8EBNIQiDQ4kAz0pYkDW24CaTcX1Ka5JK2ISm0v/aS5uZSJ4QSwCSmtpkMwQbbsi3JlizJms+gM8/ze/94z3t0JJ3hHdbR5P19Hj+SzvDxWnvvd9j7XWvt3TNtDtMs1WwoYvLaa6/htddew+nTp3HNNdckXvd6vVCr1SmrXU5W1idwbW1tuOuuu7Bp0yasXbsWq1atwubNm5VZzsQ0y1X0+GOMyZiMyZiMyZiMOc+YTEwzrU2bNuHgwYNoaWmZEN34N3/zN/i3f/s3UYysOXBPPvkkfvKTn+Av//Iv8dvf/hYvv/wy+vv7ldrOxDSrFatfwJiMyZiMyZiMyZhzhiktVYKJaabU0NCAhoYGHDp0SDYjawjlnXfeiZdeegm33347Xn31VQD8Jt6p4jZnSiyEkimTWAglExMTExPT/JY2fAoVrltZCCVTRs2GEEpBmzZtgkrFLzyEw2FEIhEUFhbizJkzWb+bNYSysLAQoVAIq1atwg9/+EM8//zziMViigz+6U9/iu3bt+PAgQM4cOAA3n777cR7zz33HHbv3o1PfOITePfddxX9P0xMclW5bjljMiZjMiZjMiZjzjMmE9Ns0dmzZ3HmzBmcOXMG58+fx09/+lPce++9or6b9QncyMgIqqurEQ6H8fzzz8PtduPee+9Fc3OzbIN/+tOfQq/X48EHH5zwek9PD77xjW/gxRdfhMlkwsGDB3HkyBFoNJqMPPYEjimT+CdwL8Na2Sf6O2qjgTwchDEZkzEZkzEZkzFzw2RP4JjEaDY9gUslsVGOGZ/ARaNRPP3008jPz0dxcTEefvhhfPvb31Y0ecukY8eOYd++fdDpdGhqakJzczPOnz+fk/+L6WqS9EKrmt4ecisYkzEZkzEZkzEZM7dMlYxrPhPTTOiNN95I/PvDH/6AH//4x8jPzxf13YwTOI1Gg9HRUYRCIRJDk/WrX/0Kt99+O7797W/D6XQCAEwmE+rr6xOfqaurg8lkIv+/mZgy6XS/Fd99dwShiLJQ4WQNWDz45z9cQDRGd2EZtHrwz0cuIBKls3PI6p0bTJsXPz/SPuuZw3OEOWLz4mfUTLsPPzvSjvAsZ47GmZTH+6jdh5+90UHLdOSSGSVjGhw+PEPMNDr8eOaNDgTDs5zppGea4szALGeaXXODycQ0m/Tmm28m/p04cQJFRUX4+c9/Luq7WUMoH330UfT29mLXrl3Q6/WJ1w8ePJgR/MADD8BisUx5/ZFHHsHGjRtRUVEBlUqFf/zHf4TZbMbf/d3f4cknn8SGDRtw4MABAMBjjz2GHTt24LbbbpvCOXToUKJ6y6FDh/CDH/wg8d6nP/15AMCLL/4q8dqWLddh27Yb8Pzzz8Hn8wIAampq8ZnP3Ie33vpvdHZeSHz2T//0ixgbM+H113+XeG3nzluxZs16/PznTydea25uwb59d+Dw4ZcxMDAenvfVr34DHR3n8fbbRxOv7d17ADU1dfjFL/4l8drq1etw00278Zvf/B+MjZkBAHp9ER544Es4dep9fPTRB8wnAp/u3vkOli84j//449NZfdqz55P47pFRAMA1sXPIR5jEp386E5nApOinF4Yq48zzyEeIpJ+OBlYBADbHzqMgzlTaT++rt0xhKh17qZhK+0lg3qDrAQKOjD6J7SeBuX+BA7aR8ZVkJf0kMP9ktQY97Scz+iS2nwTmI9trcert1zP6JLafBObffnI1jrz8Hxl9EttPAvOHd2/BG7/7Jck5QmD+/d1b0Pb+GyTnvQTzs9dgpOccyXlPYD5x+yrkhV0k53KB+fCNtVjX0khyLheY967UYO9NN5Kcy99XXQOoVLitzon7PnU7yfXpd5YmQKXCNl0f/uILD5Bcn/7tYh44lRrrY5342p/eR3LNfeodW4L52b27Sa65f/XbTsRUGqyLdeLmLetJrrl/8s9vxpkXsba5juQ+4oHn3kKEU2Nd7CLq9Mg69hoqh/HQ7v8fpwz/E0vW/iW7N2I+pfTpiSeewHxQ1gncM888k/L1hx9+mMSA4eFhfPnLX8Zrr72G5557DgDwpS99CQDw4IMP4uGHH8amTZsyMlgOHFMmFXu+jvzQ70TlwJ3pt+LpP3QAAP7pvmtRWSzuUXYmdRudePLlcwCAf7zvWlQRMC8bXfjbl9vizG2oKi5QzOwxufC9/+KZ//D5bagumf3Mn9y7DTWlypm9JheeiDOfvncraksLlTPNbjzx0llSZp/ZjcfjzP91z1bUlSlnXhlz47u/5Zk/vmcr6qmZn9uK+nLlzH6LB995ka/M9aPPbcGCcn2Wb2TXgMWD/xFn/vBzW7CQmnn3FiysUM4ctHrw2G945t/fvQUN1MzPXoOGyiLFzCGrF9/+zWkAwFOfvQaNFEybF9/+Nc/8u89cg6Yq5cxhmxd/E2f+4DObsaiqWDFzxObFX8eZ3//0ZjRXEzDtPvz1oY9ImaN2Hx6NM/+/T2/GYgqmw4dH/5Nn/s+7NmEJQY6RweHDtyQyteEPUeG6Bc6SFxHSfVyxDUzzU7MpB25oaAjf//730dbWBpVKhY0bN+Kxxx5DU1NT1u9m3QdOmKh5PPwEqbhY+cFuNptRW1sLADh69ChaW1sBALt27cI3v/lNHDx4ECaTCf39/Vi/fr3i/4+JSaxeaxtK/E4V7Pha23DSXzTUCXYSGfrq2aHsH5KoXNh5OKk9Oar2PDec/UMSdTgHvud8fM7mPsqJ70ljnsz3XPcRDXViH9Ho8Dl63ye2Zw58pzo2c3AOeT0X7Xku2Xca6uttufCdvo+YmGabvvnNb+Lee+9NPCw7fPgwvvGNb+A3v/lN1u9m3UbgwoULuP322/HJT34y8a+9vV2RwT/60Y9w++234/bbb8cHH3yAb3/72wCA1tZW7NmzB3v37sVDDz2Exx9/PGsFSiYmccq+wedlowvdRhcWEazwChq1+3Cm34qKIh0d00HPNOSIefqKFRV6OqbR4cdHVyy0TKcfH/XRMk1OPz4kttPsyg3zVN8YOfMkMXPMFcCpXlqmxR3AyRwwP8gFs8dMyrR66O20egL4Yw81M8gzCc9LNk8Q7/eY6ZmXaZl2bxDvdeeCaSJlOnwhnCBmOnPAZGKajfL7/bjjjjug1Wqh1Wpx4MABBINBUd/NOoF77LHH8MQTT+D48eM4fvw4Hn/88cSES65+9KMf4dVXX8Wrr76KZ599NvE0DgC+8pWv4OjRozhy5Ah27typ6P9hYpKiw+eGUJSvxY4VdWTM188NI0+jxu61C8mYvz83DC0x8/Vzw9BqVLR2nh/hmesomcPQqFX4+LoGOua5HDDPD0OjorZzBGqVCp8gtZOe+YccMH9/fhgqlQqfWE/rOzXzD7lgXhgBANxGbCfHcaTMIxdGc8Dk7dyzvpGUGSNmvtGeC+YoorlgxoiZF0bome0jiEQ57JXNZI/smOaGduzYgX/5l3/B8PAwRkZG8K//+q/YuXMnHA4HHA5Hxu9mDaHUaDTYsmVL4u8tW7ZAq836NSamOSXhadEnNzchP0946qvsImD3BnGi24SdK+tRWpDHExVeVxy+EN7tMmHHynqUFdKsTgqrnR9bXpdgKrXT6Qvh3S4jPra8DuUCU2F7Ov0hvNMVt1Ofp8zAuFxx5o3L61Cup/Hd7Q/HmbWJFWSltxNufxhvdxlxY2styoVVaaV2BsJ455IRN7Qm26kM6g6E8fYlI25YVpvIH1XquyfOvH5ZDSqL4vmjCqHeYBhvXTTg+mU1iZxUpXZ6g2G8edGA65bWoFrIc1U4mLzBCN66aMR1y2oTea7K7YzgzYtG3s4SGqYvGMHxTgOuXVqDGiHPVSFUYG5LYio9Nn2hCI5fNGBbSw1J7qzAPNZpwNYl1agtpWlPfyiCYx2j2LqkGnUCU6HzAnNLSzVJ7qzAPNphwJYl1YncWaV9FAhHcbTDgGuWVCVyZ8Ujs0faMDHNJv3+978HAPznf/7nhNcPHz4MlUqFY8eOpf1u2plYRwdfyGHr1q14/PHHsW/fPqhUKrz++uvYtm0bhd1MTLNGf4g/Lfr42gacHbCSMI92jK92dhmdJMz/jq+g7qVkdozyq50bGnHZ6CJhHo0z92xoRI+Jhnmsw4BwNIa9GxrRa3aTM6+M0TCPdo4iFIlh74YmMuaxOHPfhkb0W2gKNh3vMCAYZw5avTTMTp65d2MjhoiZ+zY0YdhOwzwm2LmhEaN2HwnzeKcxwTQ4/CTMNzsNCISj2LehEUYnEfNinLmxCaYcMM0uGuZbl4wJ3y0ecSFFWZkXjfCHeKbNS8N8W2BubIKDinnJCF/cToc/TMQ0JZguIuY7XSb4QhHs29gId4CIeckIbzCCfRua4AnSMJmYZquOHz8u+7tpJ3BPPfXUhL+Tq1GqVGyVg2n+yBeK4ES3Cdctq0UZUf5GJBrDmxeN2NhcifryQpLJViQaw1sXDdiwiJb55kUj1i+qxIJyPckELsFsqsDCcj3JBC4SjeHNTgPPrNCTTOCiMQ7HLxqwrqkCDRV6kslWNMbheKcB6xrpmWsby9FQWUQygYvFfV/bUI7GyiKSCVwsbueahnI0VRaRTOBiMQ7HOg1Y3VCOpqoikglcLMbheIcBqxeWYVFVMckEjvd9FKsWlqG5uphkAhfjeN9XLuCZFBO4GMf3kcCkmMAJdq5YUIrF1cUkE7gYx+FoxyiW15diSU0JyQQuxnE41jGK1rpStNSWwHaFiNlpQGtdKZbWluA0AZPjOBztMGBZXQmW1pXidL/yBUWO43CscxRLa0uwrK4UZ6iYHeNMioVPjuNwtNOAlpoStNbTMJmYZrvOnDmDkZERRKPj+x3ecccdWb+XdgL3y1/+ksYyJqZZrve6zQhGYrh19YIJrysJBfnoihUufxi3rKbL/zrdb4XTH8Yta+jsPNNvhdMXwq2TmQqCgM4MWOHwhfCFHa3yDZukswM22H0hPDCJqcj3ASvs3hAe+NiyiUz5SJyNM/90ElMJtG3ACps3hPun2CkfenbQBqsniPtuWDqJKV9tcebnb2iZ+IYC6LmhOPP6iUwldp4fssPiCeKe6yfbKZ96YdiOMXcQd19LZ+eFITvG3AHcfe1iMmb7sB1mVwCf2TaRqQTaEWd+eutEppLx2THsSMlUos4RB0yuAD61pXnC60ras3PEAaPTjzuuWTSRqWAsdY7yzC9tXqHAsom6OOqEweHHF29ePuF1JefPi6NOjDr8+OJNk5jykbhkcGLU7sOfTWKyMpRM81Xf+ta3MDQ0hJUrVyaKNqpUKmUTOEEulwsvv/zylNnhd77zHQUmMzFNpziki43n4ivSzdXFaKnl9waheMJ8rHMUNSX5WN9UoZiVYHaMoro4Hxua+A28KZ6DH+00TGBSQI91GFBVnI+NiwQ7CdqzYxRVxfnYJDBJ7BxFZZEOG5urlMMSTAMqi3TYFGdS9VFFkQ6bBSbF+OwYRYVeh82LKX0fRbk+2U4KpgFlSXZStOexzlGU6XW4JuG7curRjlGUFeZhyxJC3zsNKC3Mw5Yl1TxTORLHOgwoLcjD1jiTAnpUYLYIdtKcP0smMJXrWIcBxQVabGupoWN2TmRSdPyxDgOK87W4dimdnUc7RlGUr8V1ApNofBbla3HdshrlMIHZYYBel2SnbO/ZhI9pbqi9vR2vv/66rOt61iqUX/ziFzEyMoLly5djzZo1iX9MTPNBl40uDNm8uHX1ArLQ4BG7DxdHnbh59QKo1TTMUbsPnaNO7KJkOnzoHHGQ2mlw+NAx4sCuVXRMo8OP9hEHbl5VT8sc5n3XUDGdflwYtuPmVXRMk9OPC0O0TLOLZ960qp6UeX7IjptX1UOryXpZEaUxVwDnBm24aSUd0+IOoG3AhptW1tEyB23YSWzn2QErKdPqCeDMgBU7CfvI6gnizIAVO1bWI4+IafMEcabfip0r60iZp/st2LmiHjotDdPuDeL0FQt2UDP7+fYkZ66og05Lsy2TwxfCR1cs2E7IdPpC+PCKBTtW1CUVEmNimt9qbW3F2NiYrO9mfQIXDAYVbxvAxDRbdbTTgEKdBte31mb/sEgd6xiFRq3CzpX1U96TGwlyrNPAM1elYMpcbTzewTNvSmGnXGW0U7bvfHvetGrBlPfkrrMev5jBd5nQ450GqFXATZR9JDBTjSVZRJ6pUgE3p2hP+b4boVKBvI+gAnatTtVH8tsTaXyXa+ebFw0AB+xaTck08kzCPsrElDs+30r4Tne8v3nRAI64Pd+6ZEQsHVOmoW9dTM+Uq7cuGRGNcan7SKbzb8eZqcL55bbn2xcFZqrxKbM9Bd/XKOh3Vp+BaY7Jbrdj3759WL9+PfLyxqtrP/vss1m/m3UCd+DAAfz617/GTTfdBJ1uvMBDeXm5THOZmGaHvMEIPuwbw86V9SggWvELR2N4/7IZW5dUTyjzr+SyEonG8F63CVsmMZVAI9EYTlw24ZrFVRMKtygJf+LtNOOaxVWJkvyAsmtqJBrDiW4zNk9iKlEkGsOJLhM2N1ehQihLD+V9dKLbhM2LJzEVOB+NcTjRbcKm5qpESX6lisY4vNttnsJU0kc804SNzVWJkvyAsvaMxTi822XCxkWVifL5SqkCc0NTZaJ8PqDM91iMwztdJqxfNIkpHxm3ky8CNKHUvRI7OQ7vXDJi3SSmkuM9xvG+r22qQG1pUll6pXZ2mbC2cSJTUXvGfV/bWD6xfL6CjuftNGJtQ3mifD6VnWsayhPl8xWaCY7j8PYlE1ZPYioRx3F4u8uI1QvLsKBcn3hdyVji7TRi1cIyLExmsvkY0zzXn//5n8v+btYJXF5eHn74wx9OmA1m25uAiWku6FTfGMJRDttXpH4CJWchsW3QBk8wgu1pNgOXs9KdYC6n22D83KANnkAGO2X4fm7IDncgnMF36TovMNP5LgN6YdgOVyCMjxH20YVhO1z+9HbK8b192A6nP317yoG2D9vh9IUy+C5dHSM8M30fSad2jNjh8IVIx1LHiAN2Xwj3EzI7Rx2we0P4/PV0fdQ56oDNG8K9k4usJJDSoRfjzCmFWwSmDDsvjTph9QRx97VLpH9ZJlPO07IugxMWT3Bq4RYF6jY4MeYO4q40RVbktGe30ZWZKR0ZZwZw56TCLeNQ6dTLRhfMrsCUwi0JpGQicNkUZ25OzWRimq9Ssi1b1gncv//7v+ONN95AZWWl7P+EiWmmxaVYHTzRbcLC8kK01BRPeF3Jot+JLhPKCvOwtnFS8RIF0BPdJpQW5mHdpIIoSlY8T3SbeeYkO5WseJ7oNqG0YCpTiU50m1BSkDelGIySPnq3i2dumMxU4PyJbjOKC7TYsIjuPPlutwnF+dpEMRhBSvsoJVM+Eie6TCjK12Jj82Tf5VPf7TZDr9MmisEkiAp91+u0U4rWKPK92wS9ToPNiyf5rtDOQp1mSoEZRcd7lxmFOk1S4ZYEVLbe7TahIG8qU2l7pmIq6fgEUyjcIiBlE/nxma9VJwrMJJhK+r3LlJKpRCe6eaZQDEaQkrH0rsCk9L3bDF0KO5mY5qs2bdqU8p6D4zioVCqcOXMmKyPrBK65uRmFhTSP3pmYZkZT1wTNLj+6DC58ZttisuIlbn8YbYM2fHztQrLiEO5AGGcHbNhNyPQEwjgzYMXuNQvJihl4AmGc7bfiFkKmNxjGmX4rdq1eQMo8O2DFzasomRGc6bfgJkKmLxjB6StW0gIevlAEH12hLQ7hC0XwUb8V25fTMf2hCF8gIQfMG5fXkRWHCISj+LDPghtaa8kKOQjM65fRMk/1jeE6YuaHfRZcu7SarOBEMBzFqT4LtrXQMk/2WrC1pZosTD4UieJk7xi2tdTQMvvGcmInLTOGk71j2LKkGoW6rLePopkf9NAyWRVKJiXq6+vD17/+9cTfQ0ND+Iu/+As88MADiddOnjyJr371q2hsbAQA7N69Gw8//LDo/+Ps2bOK7cx6tBQWFuKOO+7AtddeOyEHjm0jwDSX9V63GQBwY4biJVJDlT7oHUM0xuFjhKGOH/TwzEzhk1KjYBJ2pgvNg/TL38neMURiHD62PEMxGBl2RmJc+hBCSO+jk70WhKOZ+0iq76d6x7IypUL58N5YxvaUaueHfZY4M5Od0qgf9lkQisSy9JE0CUzKPvrwigXBSOb2lAr9sE9g0o3PjwQ7M7WnRDsF5vZMvkvU6SsWBMJR0j463W/NypQqgUl5/kzYuYLu2DzTb4U/lMV3iYae6bfBl4Up1c6zA9asTKlqG7DCF4pkHJ9sGzim6VRLSwt+97vfAQCi0Sh27NiB3bt3T/ncli1b8Nxzz023eQllncDdeuutuPXWW6fDFiamaRHH8cUhVi8sm1B4ICGZD7pOdJuwqKoIzdXFU96TG7JyotuEpsoiLKoqmspUYGdjpR7NKZhydaLbjMYKPRan9F0ms8uMhnRMmc6f6DZhYYUeS2qmMuXq3TShuICSPjJjQXlhYm/CCUx5SLzbZUJ9WSGWpmDKpZ7oTs9UMj7rSguwrI7O9xPdZtSWFqC1rnTqmwrsrCkpwPL6qUzZx3tXeqYyO/OxfEEZFRInus2oLs7HCkLmu90mVBXnY+VCSjszMOW2ZxfPXLWQrpDbu91mVBbpsDoFU8m1oyIdU8FYqtDrsKaB0ncTyvU6rGmYGnov3U5W9YSJVn/84x/R1NSEhoaGmTZlirLGknzqU5/Cnj17sGHDBnzqU59K/GNimqvqG/PA5ArgRsJVRLPLj16zGzcQbkcgMG9srSUL8zS7/OgxuXFjax0Zc8wVwGWTCzcsp7PT4uaZlL5b3AF0G2mZVo/ApGtPqyeISwYnqZ02gUnYR3ZvEJdGae20e4O4OOrEjcvp2tPuDeLiiIPUTocvhM4RB2l7On0hdIw6cENrLdRUTH8IHSP0zPYROynT5Q+hfZiW6faHc8K8MGzH9csImYEwLgzZeDsJw+QvDNtxwzJa5vkhO64ntNMb5JmUvjMxUerw4cPYv39/yvfa2trwyU9+Eg899BAuX748zZaJmMAdP34cBw4cwEMPPQQAuHjxIr785S/n3DAmplzpw74xaNQqbFlSlf3DInXUtqqjAAAgAElEQVSq1wIAuLalJuPnpISCnOrjmduWZk7slhJd8mGceW0WphToh1dE+i4BOu57NqZ4JXzPYqck33PQRx8J7ZnFdymDSSxTUntesYAjZn50xSqKKQUqMK/Laqe09hTluyQ7LeC47HZKkcCk7KPTV6zimBKcF5hZ+0hKe/ZbEKP2PcHMdv4UTz3Tb82BnVZEY1z240iCzohkSumjhJ1ZipfI3aeQiSmVbDYb7rzzzsS/Q4cOpfxcKBTC8ePHcdttt015b82aNTh+/DheeeUV3H///fja176Wa7OnKGsI5TPPPIMXX3wR999/PwBg1apVGB4ezrlhTEy04lf3OI7DqT4L1jSUoyg/L80npa8EnuqzYElN8cR9m5KZMhYXP4wzJ+yxpFCn+ixYXJ2eKWcN9FTfGJqriyfusZTMlOH8h30WNFcVTdhjSalO9VmwqKoo7X5IcvpIYCbvhzSBKR2JU31jaKpMz5RDPdVnQWOlfsIeSxOIcnzvtaCxQo+FFbS+N1To0ZCGKQf6Yd8YFlbo0VCZOmRY7vG+oLwQjYR2nuqzoL6sEI2VdO35YS/PbErru3Sd6htDXWlByrBuHiqvPWszMOUem7WlBaSh4qf6LKgpKUgZ1g3IHEu9Y6gpyU/PlOl7dXE+aaj4qT4LqorzU4aKA/KvcVXF+SlDxQEWEMmUG1VWVuKll17K+rl33nkHa9asQXX11AWG4uLx42Dnzp3427/9W9hstmmt2J/1CZxWq0VJycSDiypkhIlpejS+ejdg9cLsCmAbYbliizuAvjE3tmV7siOR2Wt2k5ZVFpiUvls9AfSYqJlBXDa5SNvTlmDS2WnzBNFtdJH2kd0bRLeB1k6HL4Qug5O0PZ1xJqXvTl8IlwxOUt+d/hAuEjNd/hAujjqwraWa7FqYC6bbH0bnqANbKZmBMDpHHNi2tIaU2TFix7YWOqZHsJPQd28wjI4cMNtHHNhK6Ls3GEH7sJ20j3zBCC4M20l99wUjuDBkJx2f4UgMAGBw+Eh4TFe3Dh8+jH379qV8b2xsLBFlcP78ecRiMVRU0G2hJEZZn8AtW7YMr776KqLRKPr7+/HLX/4SmzZtmg7bmJjIdap3DGoVcM3i7Dd0YkNBEuF+Im4SxQaCJELzxNx0i4QKYXRibrrFhqx82GcFQOt7ws5sYUoSoAJTTHuKtrNfSh+JowrhftRjiZwZDyHMFuIqBSqE+4nrI7HtKTDpjveP4uF+lBPi01fEhdEB0sanaKZI509f4ZmUE+LxEEK68SmE+1Eem0K4n5gxL95Om6gQQik6OyD4TjfmzwyID8kUe2yeHbAiEuOyh7TzUFG6MOzALRXA//1jH9yqc7h9UxPWNlawhw5MkuXz+fD+++/jySefTLz2wgsvAADuueceHDlyBC+88AI0Gg0KCgrw9NNPT/s4yzqB++53v4tnn30WOp0O3/jGN7B9+3Z89atfnQ7bmJhIJYRPrl5YjpLC1OGTgPRQkA/7LBlDCOXolIgQQqmnimzhfoD0p+vZw/2k61TfWMZwP0B6H53qyxzuB8hoz15L5nA/GdRTWcL9ADnjcwwLywsz2ilnLGUMIZQBzRZCyCOlQbOFEMahkpQ1hFA6MmsIoRJmxhBCycd75hBCQJ6dmUII5UhMCKHksZQlhBCQc14ayxhCKEdCqGPqarO85FzjKot0Ge2U0+8VRTosTVFtVi61c9SJWyqAnSvr8a8n/fj7w+1oqNDj5lUL8LHltSguSH/dZ2JKll6vx8mTJye8ds899yR+v++++3DfffdNt1kTlDWEsrCwEF//+tfx29/+Fi+99BK+/vWvIz8/fzpsY2Ii1bDNB6PTL+7JDsQt+llzFJpHHUJo9+Ym3O+ykT7cjw8hpPPdkaNwv64chPvlKoSQMkQrV+F+5MzA3Agh9MTtpAwh9AbnSgghH+5HOT4T4X6UIYQhPtyPNIQwRB9C6A9FcGHIhq1LaJnnh2zY2lJDVnkzEI7i/JAdW5dUkzJ7TE4AwJYl1Xj689vwZzctR0GeBv/n/V78+S8/wM+OXsTpfitC8VBLJqa5rLRP4LJVmnz22WfJjWFiyqVOx0PexIRPilXbAB9CuGWJSKaIWeHZQYEprkqmmJCVswO2OJNu8to2YAMngSnK9wFrnCnW9+xqSzDF2pmd2jYozXfR7cnRMs8lmCIrroqAtg1KtVNce8akMEXYeU4iU4wSzMV04/PcIB9GJ3rMi3D+3KA9zqT0XRpTTB9dGJLmuxjo+aG4nYR9dGHIjghxe7ZLZIpqz2E7wlEJY0mE9+3DDklMMQ3K2xkjPde1D9sRiY7/nadRY+fKeuxcWY8BiwdvXjTgjz1j+GPPGAryNNi8uApbllRlLGjGxDSblXYC19bWhgULFmDfvn3YsGGDpJLATEyzSxwAFdoGbWipKUG5XkdGPjtgQ21pARamqWwoSMoaY9uADTUlBRnD/QBp4Y5nB6yoLs7PHPImUWcHbagqzs8Y8gZIC9dpG+CZGUPeIK09zw7YUFmkyxieJpV6dsAqiinV94oiXdaqeZJ8H7ShQq/LHp4m0c5yEUwpIWpnB6wo0+uwOFvVPAl2nh2woawwL2slPqnHZllhHpZkCXmT2kelhXnZw+gkHu+lBdmZ0ny3oqQgL2NoHiBtzJ8dsKGkIA/LalNsXJ7MlGBp26AVxQVaLEu1aXsyU5KdVhTna1NvBC9TZwdsKBLBlNqeRflatNZP3bh8AlM8EmcHrNDrtFiehSmF2jZghV6nSb1hfTJR4nmpIE8IKpt4v9pcXYwHtrfivhuWonPUgZO9Y/joihXvXzZDpQKW1ZZibWM51jSUY0lNCfLzNOL/YyamGVLaCdx7772H9957D4cPH8Zrr72GnTt3Yv/+/WhtbZ1O+5iYSMSBQ6/JjTu3NEv5UkaFIlF0jjpw08p60ZOpbCueoUgUHSMO7JTEzGZnDJ0jDuxYIZ6Z3fcYOobt2L5C/IbL2ewMR2NoH7bjY1I2cc6ysCSHKc5OfnNkKmYkGotvECwh7CsLNBKN4cKQNGa28SnYea2EkLdsa38CcxthiBbvuw1bW8SHaGXro2iMw/khO7YsqRLPzOJ8NMbh/KAd10hgZpNg5+ZmKXZmfj8WZ25srhS94XK29ozFOJwbsmHjImLmoB0bmsQzsynG8X20Xoqd2dqT433f0FQBjWjfM0NjHIdzgzask8DM1qACc70kO7Mz2wbtWNdUCa0maxaPKCbHcWgbtOGmlswTQq1GjfVNlVjfVImD22PoNbtxYdiOC0N2vHx6EP91ehAatQqLqorQWleKZXWlfC56uV58mzIxTZPSTuA0Gg127NiBHTt2IBQK4bXXXsP999+Phx9+eMYT95iYpCoc4S9/G5uz79Eh9jTdOeJEKBLDJjFMkTdSF0fFM8Xq4qgDwUhMnO8inb9kiDMXZQ+rEduelyTYKZZ6adRJ7nuXwYlAOIqNi+jG0iWB2SwiTEmsnUYpdoqDdhtd8Iei4vpIpJ1SmGLb87LJBV8oSjo+Lxud8IUiIn0XR+XtjGAT4VjqMbngDYqzU+yY7zG54AlGRLWnWPWYXfAEIuLGp0g7e81uuANhkecQceozu+EKhEntvGJ2w+UPizrexfb7lTEPXP6wqLEklto/5oHTL649xfo+YPHA6QuRXuP6LR44fCERTwnHpdWosWJBGVYsKMOnty6GJxBGt9GFyyYXekwuvH3JiDfaR/nPqlVYWKFHU2URGiv54mK1pQWoLS1AoS5rLUAmppwo48gLhUJ466238Nprr2FkZAT3338/du/ePV22MTGRKRyNoUyvQzNhpbOzA1bka9VYubCcnrmAjtk2YINOq8aqheIvbtl0Ns5c3UDLzNOosZq4PemZNuRpVFjdQNtHeRoV1hAyzw7YoFWrsKaRbm+aswNWaNUqrCVktg3aoFGrsJbYd41ahbWNuWAS+j5gJWcKdq6jZA7aoFYB65oofReYdDfybYNWqFXAekI7zw7YoKJmDtIz2wasPFPUBE6czg5YoQKwgbCPzg7YoAKx74M8c/mCUiAgj1FckIfNi6uwOZ47GY1xGLZ5MWTzYsjK/+wcdeC9y+YJ3ystyENtWQFqSgpQUZSPcr0O5XodKop0qNDno7xIhwIWksmUA6WdwD366KO4fPkyduzYgYcffhjLly+fTruYmMjEcRzC0Rg2LqqQFKaUKWRFCNlY21iBPJFhIDwzs51tAzasaayATiuemQnK22nFmoZy6LTiLyKi7JTIzBRXJLTnmoZySfkHWe0ctGE1IRPgb5RWLyyXdlHOAm0btGGVRGa2kKq2ARtWNUhk5sDObGobsGLVwjJJK9lZ+2jQhlULJDKzON82aMPKBWXQE664tw3YsGJBGfT5UuzMwhy0YkV9qTRmlvcFO4skMLMZ2jZow/J6icwsOjsgMMUXpRAz5pfXl0oqQS/m2Gytk8YUcw5ZVluKEkl2imDWlWbcdkcyc8CGpXUlKC2UkIuebSwN2NBSW4LifJXsCdxkadQqNFcXT1n09QYjMLv8MDkDMLv8MLv4nz0mNxw+K8LRqRUu8zRqFOdrUVSgRXF+HorytSgu0KIoPw/F+VoU6DQo0GqQn6dBQV7ST6068Xe+VsPCOJkmKO2Z85VXXkFhYWFi825BHMdBpVLhzJkz02IgE5MSxTgODl8IOnCiw3/EhDsO232weoK4Y/MipSYmNGL3weIJ4pMimWLmoqN2H8bcQezf1CSOKeIzow4/xtwB7N/YKIophmpw8BfCvRvEMcX4bnDyzD3rRTJFfMbg8MHkCuA2kUwxUIOD397i4+sWikRmhxodfp65VhxTjJ1Gpx8Ghx+3rhFrZ3aZnH6MOvzYtZqOaXb5MWr3YdeqelFMMYPJ7PJjxO7DTSvFMcXYOeYKYNjuw71imSKgFncAwzYf7r2+RRRTjCzuAIZsXtxz3RJRnxczPq2eAAatXnxOJFOMrJ4gz7xWpJ0i2tPmCWLA4sHdYpkiPmP3BtFv8eCz1y4WxRRDtXuDuDLmwWe2iWOK8d3hC/HMreKYYuT0hdA35sant4rLRRdjp9MXQp/ZjTu3NgOwKzNQhIrytVhSU4IlNVOL+XAcB18oCoc3CLsvBIcvBLs3BE8gDE8wAm8wDE8gArMrgL6xMLzBiKQtDVQqfjKoVaug1agTv+dp1ON/a8bfU6sAtUoFtVrF/1TxE1P+9/HX+df4ex9N0mfVahVUUEGl4kehSqUa/5n0GgCoVQBUgBr8G5M/v2FRhbRJO1NWpZ3AXbp0aTrtYJrninEcAqEofKFI/F8U/lAEgXAUoUgMoUgMwUgU4UgMwUgMoYjwepT/OxpDNBpDJMYhGv8XicUSv0djHCLRWPx1DtEY/1mOAx65xoat9bThVOfiZfk3EIartA3mjikmf0Oszs0VO+N9RJlrcS4n7WmnZw7F7ST0/XwufM+BnePtSZevlWBS2pkT33PZR/TtKS5fS5wS45NyzOfiOBoSfKdrT4FJ2e+5aM9cjKXzQ3Y+v31RJcYncDNTNV2lUqEoX4uifC0aslRSFhSKxBAMRxEIRxGIRBO/T3yNvz+KRGMIR7n4zxgiUf4+KBLl4n/HEI7F4AtGEI7GEOM4xDi+uE+M4xI/oxzAxThEuYmvxzg+dDQXumtLMz4lpYgcU1bNWPblL3/5S/zqV7+CRqPBzp078eijjwIAnnvuObz44otQq9X4zne+g+3bt8+UiUwZFOM4uPxhWD1BuPwhOH0huPxhuPxhOP387+4Av8LkC0UQCEVFn1LzNCrkafjwgTytGvlazfjKklqVCCXQalTQqNX872pV/Kc66T3+/ZbqYhQX5IGTGPqUyd72ETsaK/WoLJa4qX0GaMewA40VelRJZGa204GFFXpUFRdIYmYKWWkftmNheSGqS6QxM9nZMWzHAmJm+4gD9WXSmZmg7cM8s6ZUqp3poR0jdtSVFqC2NPNWFFOYGe20x5PspTEzqX3EgdrSAtSVSbQzw3sdww7UlBSgXiozy/isKclHfZatPaSoY8SO6uJ8GXZmYA47UFWcjwWE7dk+EmdK9T2DoR3DDlQW6bJulTIFmeG99mE7Kop0WbdKmcLMNOZHHKjQ69AglZnB0vYRB8r1Ounbr2Q5Nsv1uqzbr0hAomPYjrLCPBFbpYhnto84UCqDmW0syWFm9H3EjpKCPD7UMZrhg7NUOq0aOq1aUphqrpU8qeM4vv05jov/BAB+sgeOP34mfCbpNYEFQPp1mCmrZmQC98EHH+DYsWN45ZVXoNPpYLXyGxf39PTg8OHDOHz4MEwmEw4ePIgjR45Ao2EJoDOhUCQKo5MPRzI4/bC4A7C4g7C4A7B5gwhHp55WC/I0KC3MQ1mhDtUlBWiu0qJQp0FRvhaFOi30Og30+VrodfzfhXmaxAlMp9VAp1GTlX8WVOwpRl5YQk5ZFoUiMXQZXNi1eoHo72QLBQlHY+gyOkWHaAHZA2vC0Ri6DNKY2aiROHOHFDuzGBqJxnDJ4MSOFXS+R6IxXBp1YPuKOtHMbFDBzhtbayUgs7fnxVFpzGx2RmMcLo46cYMkO8UwHbhuaQ0ps1MiM9tgEuzc1kJnZyzGoXPEia0t1aKryWb7WCzGoWPEga0tVZL2c8zG7Bxx4JrF4pnZxmeM45mbpDCz+c7x/b5pES2zY8SOjYsqJfguws5hB9YvqpDQR5k/x3F8v69rFM/M9jGBuaahnGwsyWGKsbN9xIHVDeWic9GzjU+O49A+zNvJM1mOGIXUKhXUGtaWs10zMoF74YUX8MUvfhE6HR8PW1XFP04/duwY9u3bB51Oh6amJjQ3N+P8+fPYtGnTTJh51YjjONi8QfSNeXDF7Mag1YtRhw9jrsCEla8yvQ7VxflYXFOCLUuqUV1SgKrifJTpdSgrzENJQd5VsQFmj8mFcDRGGpJ52ehCKBIjrUbXY+KZlJUNe0wuBKmZZjeCkRhWE7Znb5y5poGuPfvMbgTCUawhtLNvLM4kbM+EnYTMK2Nu+ENR0vYcZ9LZ2T/mhi9E20dXLB74QhFaOxNMuvYcsHrgDdLaOWDxwEPMHLR64QlESPtoSGAStuewzQtXIExabXbY5oPLHyZtz2G7D05/mLTa7IjdB6cvRHo9GhWYhL6POvxw+EKk7cnENFc0IxO4/v5+fPTRR/jJT36C/Px8PProo1i/fj1MJhM2bNiQ+FxdXR1MJlNKxqFDh3Do0KHE70ziFY1x6Ld4cHHEgUsGJ/rG+D1pAD4RdWGFHktqSnBjay0WVuixsFyPBeWF0ioOzgelidtoH7ZDrQJWLJBeQj9dKEjHCM9cKafUf5qQlfZhB1QqYJWMEvrp7GwfoWd2DNuhUgGrZfme+uX2YTtUgKxtDtKFVLWPOHimHN/T2NkxzDNXEd6AtI/Y5duZjjnM55bIuVFKF+7YMewAANIb5PYR+cz0faTA9zSvt4/IZ6YzVGhPOTfy6c9LcSZhHylrzzS+K7Ez7TlEYNK1Z+I4kjF5zXT+BGjH0rjvtNcOnimjPbMdm4SLAUxMc0U5m8A98MADsFgsU15/5JFHEI1G4XQ68etf/xoXLlzAI488gmPHjkni33333bj77rsB8KEjTJll9QRwpt+Gc4M2dBmd8If4YPGFFXpsWFSJlpoSLKkpxqKqoqtvojZJ2aI7OkYcWFpbKqmceLZgBDnMbNTOEQdaakoklRPP6vswz5RS+luM70uqSySV/s4G7RhxYHFNsSRmtnCdjhE7FtcUSyv9LcLO5upiSaW/s7bnsAOLqosl5VSI6aPmqiJpeRpZBlPHiB2LqookVSYTY+eiqiKUSWGK6KOmyiKU6ekqqHUOO9BYqZfEzDY+20fsaKzQo1wKU8Tx3lChR0WRxFzfDBLycqUws/W7kJcrLSc52/h0YEF5oaScZDFjqb6sUHpOsgimlByj7HbyebmSmCLas7a0QHL+cDZmTQltri8T01xRziZwzz//fNr3XnjhBezevRsqlQrr16+HWq2G3W5HXV0djEZj4nMmkwl1dRJyWJgmyOjw44+9Zpy+YkW/xQMAqCstwPXLarF6YRlWLSwnvSmZveIgJzY+1bKANxhB35hb/vYBKZYSfcEIes1uHJDJTGWnLxRBr9mF20VuHyCFuX+jPGYqqD/E+y52+4CpyKnQQDiqjJnCzkA4ih6TW/SWBGIUCEdx2eTCnvUNsr6fqo8E5m3rZDJTOB8MR3HZ6MLHZTJTKRiOolsBM1UfhSJRXDY6RW9zMIWZ4rVQJIpuoxO3yGSmMjQUiaHL6MItEnJoJyBTvBaKxNBtdOHmVfKYqSQnLzdZqfooHI2h2+DETpnMVM7LycvNgkzk0ErJyxXFNDjxseUS8l0nQKdSZeXQJiNTvCbk0MpmpoAKuanXL5PpewplzqFli/pM818zEkJ566234uTJk7juuutw5coVhMNhVFRUYNeuXfjmN7+JgwcPwmQyob+/H+vXr58JE+esvMEIPug140SXGZdNLqgALKsrxeeuXYLNS6qwsFxiNa2rUJmmepdGHeA4OaEl6akXDU5ZzEyrqJdGnYhx0sNVMvneZYgzpYarZLLT4EQ0xkn3PQP00qg8ZiY7u2TbOb3MbmOcKbmP0lO7jU5EyO10yWNmgHYbXQhHOdI8qHEm3fi8bHIiHI1J7qNMvuci31XIy5UakpnNTnk5tOmhcpmZ7OzNQV7ueG4qXXsmcmiljqUM7ZnbHFq6PkrF5FgRE6arSDMygbvrrrvw2GOPYf/+/cjLy8NTTz0FlUqF1tZW7NmzB3v37oVGo8Hjjz/OKlCK1KjDhyPnR3Ci24RgJIaGCj0+d+0S3NBaK73UPVNatY84kK9VY1ldKRmzY9hOzmwftkNHznQgT6NGa52MXLU06ogzl9fTMdtH7MjTqLC8nrY98zQqrFhA2O8jDmjVKlrfh3PD1KhVsnI+06ljxE7OFOyUlUeaRh0jcSaxnWoVSJmKcmjTMnk7V5HaKT+HdjqZ7UryctMxhRxaGXm56STk0MrJd00nIYeWNC93WH5ebjrlIoeWiWkuaUYmcDqdDj/+8Y9TvveVr3wFX/nKV6bZormrHpMLL58eRNugDVq1Cje01uKWNQvRUlNMVlL4qlWKWJBLo04sry+DViNvW4JUgR2XDE601pcij5pZVwqdVub2CSmgl0YdaK2Xz0wV7njR4ERrXYl8Zko7nVhWV0qay3nJ4MTSWvnMVH10cdSBZXWlsiu3pgp3vDTqxNK6EhQQVoPlfZfPTNVHF0cVMlO8dsnA52fK9j1Ne7bUlKBQ4h6SCWSK1y6NOtFSK5+ZShdHnVhSUyIxh3ZcKY8jg4NnSsh3ncBM4f2lUSeWVCthTtXFUScWVxdLysvNxrxkEJgy9+ZKOZb4fFe5zJS+G5xYVC0xLzeZmeb8uaiqSFJebjZdGnWiSWoObZJSXzv43FQpObRMTPNJdJtjMU2rBiwe/K/ft+N7/9WGXrMbd21pxj/edy2+ePMKLK0tYZM3RUrddt5gGMM2r6ynMOm6wxuMYMjqlfUkIl0PK2Gmg/qCEQxavVgh46lWunAdXyiCQauH1E5/KIIBmcx07ekPRdBvoWUGwlEMWDzynuilGUyBcBT9FjdWyHj6lslO2b6ngQYVMNMpGI7iypjcPkptaCgSRd+Ym/R4TzAJn5CGIjH0md2kfRSOKmCmeT0cjaHX7CJtT54pz850ikRj6DHJPI7S2BmJxtAjuz1TQyPRGHpNLlnn5HTifXeRjqVojMNlucw0r0djHN9HhBERTExzTTPyBI5Jvpz+EP7zgyt4t8sEvU6Lz25bjI+vayBdcZ9/klfEZLK6jS5wAGl42uU4k/KGrscUZxJe3C4nmMR2cjlikranGxwHrCRszx6TC7Ec+E7N7DW7EI1xpOF+vWY3ojGONMRVYFKO+XE76XzvE5iE7XllzI1IjCO9kb9idiMcpe2jK2NxJqHv/WMehKMx0uO938IzlxOOpX6LB6FIjLSPBiweBCMx0uN9wOpFMBIjHfMJOwl9H7R6EAhH0/uebt8BJqZ5JDaBmyOKxTgc7RjFix/2IxiJYf/GRty+aZHssBGm7Jp8CegyuKBRq7C0toSOaXQqZk6GXjIITPkXzMkhK10GJ9QqKMqpm3xNpWBOVpfRBZUKWFZH10fdRidUKmCpIt+ntqeK2PduI1+0qJWwj7oN44WQZDMn/d1ldEIFKJscTDK02+gEFDKn9LvBpZg5WV1G5cxUxxHPlH/TPfl4v0TQnpMbtCvenkpu5Keek+N2KplsTWrQS3GmkklhejsVMCe3J8FYmizBTiULIamuHYDC8ZmDMc/ENNfF7v7ngExOP5493oXLJhfWNpbjTz62jFWTzKHShYJ0G51YUlMsK2cp3fO/rniuhaw8qAx2Lq4ulvVUNl24TrfRhcXVMvOL0tjZZXChWbadqdUdb085+UVp+8joQnNVsbz8ojSDqdvowiKZzEy+L6oqkpVflG7Mdxn53BXKhaJugwuNlUWycoHSjc8uowuNlXp5zAy+N1boZecXpVK3wYmGCr2s/KL0drqwsEIvK78o/VhyYWF5ocz8onRj3okFspmp1WV0or6sUNK+f4LSn+ddPFPGFjuZzp91pQWS9ujLpi6DE7WlBbL26Mt0jZPNTPN6t9GFmpICecXU0hjaZXShpiQ/xR59LHWE6eoRy4GbxeI4Dm92GvDYb05jxO7Fl3etwF/vW8cmbzOgRJ7JLMldSSchd4VyVVbIM6EMKYoIuSuE7SnkmVCuygp5JpTtmcgzIWQKeSaU4WmJPBPC9hzPh6HzPRbjcNnoIrUzpiBvJxOzm5rJcbhsdJKOpRjHodtIb2c3dR9x8X4nt9NJOj45jkOX0UlqJ5eDPuI4Dt0G2j4a9522PbsNTvb0jemqF3sCN0sVDEfx7+9cxnuXzVjdUI4v3bwcVcUFM59lPWIAACAASURBVG3WVaXkqI2+eJ6J4hvkJChV7kpyyIqQu6L0ws5NsjMcpc21uCLkrii1M+n3RJ6JwpuF5HBHIX+DMgdMyDOh7KPxPBO69hzPM1F485VkqMBUevM1wU6bN3M+jAwN2bzwh6KKJ+7JfUTGTPJ+2OaFL0Tge5KdIzYffKEIaR+N2H3wBiPKF4GSGnTU7oMnGCE4f47LYPfBEyDwPQk66vDDE4iQjk+Dww93IEx67TA4/XAFwor7KNl3o9MPlz9MOik0OQNw+sOk7cnENBfFJnCzUGOuAP7hSAcGrV7ctbUZBzYvgppVlZw2pWrpboPCnJAU0C6jsjj+VOE6ivMiUtipNBcoVXt2KcyxSclUmheR4hgT2rM1J3bKZKYaS0rHZwoJzFbK8SnkQcm8SZxu3+XeJKa006gstyr1WFKaB5VqzCvLg0rle7fCvLJM7Sl3US3T+ZNywqH02pEb36dKaR+lMrRbuB4R2jl+HLEKlExXt9gEbpapz+zGj19vRyQWwzf2rMGm5qqZNmnOS0VQhbJLQe5Keqb83JX0zNmVZ5KWaXDKzjNJp9mWZ5JOSvJM0jMV5JmkUfo8E/nqNjpRXZxPGk3QZXCiqjgf1SWETKOLnNltcKGySIfqEso+cqKiSIcaSt8NTlTo6Znleh1qSymZLpTpdagjZTpRVpiHujLKseREaWEe6ssK6ZgGJ0oL8rCAlOlCSUEeFpTTMS8ZnCgu0GIhIbPL4ERxvhYLKjKlkrAqlEzzXywHbhbpwpAN33/lHPLz1PjenZvY5G2mFb8GxLh4fhHBip8QsiLkbywnqEIohKxwCTtpcxj4PBMK35OYVO0Zd17ICaHMAUv4TtCeyX3UbaQaS8lMojyTye1J4XsCTed7si5TtWfSPV+30Sn7qesEZtKNZLeRz9tRvEdnkp2X432klJl8u9ttdKG1vpScuZyYednopGFO6Hea9kwWne/JY4mojyaNeQo7k0U2Pif1UWt9KYtKYrrqxSZws0Qne8fw4993oK6sEI/fsZEVKplJTbouGB1++EJRRaXUJ4frGJ1++EIRZTeJk+10+uENRtCqoIT+5EuiyRmAJxhR6PskpisATyCiqNz95HCdMXcA7kBYEXOynWPuAFyBMJbVK2jPSVCLOwiXX5mdk2X1BOH0h0nHp9UThNMXUsac5LvNG4TDF8Iywgmc1ROE3RdS1u+T7fQEYfcqZE762+4NwuZV1p6TqXZvEFZPUNnxPslQhy8UZ9L1kdMXgsUTJB2fTn8IY25aO13+EMbcAUVbkExuT5c/BLMrQHr+dPvDMLsCpOdPdyAME7GdnkAYRqdfWXtO+tsb5JnpfWeTOqarRyyEchbowysW/OzoRSyrK8Vf7Vkrqww4E72EFc9esxsAlO3VJjDjK4l9cWYLAVPQuJ10T3d6za44k8J3nppb3+n7iLY9CX3ncjA+4z/7CJmCEnbWzM7jKHG8jxH6Hrczl31E4zsvSjtzMj6n5fxJN5b6zB46puD7GL3vlMf7ZDtpziG5u3YwMaXSrl27UFRUBLVaDY1Gg5deemnC+xzH4fvf/z7efvttFBQU4KmnnsKaNWum1UY2U5hhnR2w4pn/voiW2hJ8a+9aWftXMdFq8mpvn9mNgjyNsqeikxYGe+PMBgXMyWuNfWY38rVqNGTMDZDG7E0wi2QzJ6/29prd0GnVaKyUz0xlp06p7yn6KE+jRqMC5mT1jbmRp1GhSZHvU9tTMTOF71q1CouqFPT7JPUJzOpi2YxUdmrUKiyqUsCc9HcfAXMyVbCzuZq2jzRqFRYraM/J6jO7oFYBzcR9pFaB1E4K5mQ7+8xuqFTAYgULDFPPSy6oVMASJYsWKc6fKgBLamjHvArAYkLmuJ1KfJ/KBIAWgkUgJqZs+sUvfoHKysqU773zzjvo7+/HG2+8gXPnzuF73/sefvOb30yrfSyEcgbVbXDin97oxKKqInxr7zo2eZul6jW70VJTDLWaLjyjz+zGEmJmr9mNJTUltHaOubG4phgaYt8XV9Mye008U6uhO6X1mumZPSZ+Q3RaO/kN0al9p2b2mHhmHrXvVcXQaWl9X1RVRMrsSzClb1qfidlUScvsNbvRVFWM/Dx6OymZvWY3GiuLUEDMbCJm9pndaKygt7OhUk96v9BrdqOhQg89IbPP7MZCYmav2Y2F5YUsSolpxnXs2DHccccdUKlU2LhxI1wuF8xm87TawCZwMySj04+nj3SgqrgAj+5bhyJ2Qsqh5FWh5Dh+s+0BqwctBGF0gsLRGAYsHrLwNC6JSRVawnEcIgk7aTex7re46XznBCah7xhnkoUQchyiMY7czmiMQ/+Yh3RFOhrjcGWMto9icSad71ycSdlHvJ19ZkLfwRcs6htzk/WRwOwl7CNwHG9nDnzvNdP1O8Cfm2jt5BJMsj7ieDt7Ccc8z+XQa3aRHpsceR/x7dlrojzepdrJqlAyKdeDDz6IO++8E4cOHZrynslkQn19feLv+vp6mEym6TSPhVDOhDyBMH78ejvAAX+1Zy1paXomAiXN9QatHkRjnOILZvL0cdDiQSTGKb64TWBavYjEOCxTesFMCtcZtHoRjtL6PmQTmMomhclRRcN2H8LRmHLfkzRi9yEUiWGpggR8YGK447DNyzOVtmeS7yN2flNwZcUxJmrU7kOQ2k4HETPp91GHD4FwlOAmcZxqIGIm+25w+OEPRUnzCY1xJqWdfGEl5XYmj3lTvFgT5VgyOQPwBiOk50+Tiy/WpLiPkgw1x4s1UY75MTfPpPRdKACl3PfxXy3uIFwEzOSxZPXwBaAoFxSZrk7ZbDY89NBDib/vvvtu3H333RM+88ILL6Curg5WqxUHDx5ES0sLtm7dOt2mZhSbwE2zYhyHnx27BIs7gL+5fT3qCfdHYaJXTpLlSZO7ec32pP6cMk18oRVK33sIi7cIyo3v9P0+7jvdjVIu+ii345PQ9zkylmZ7YaVxJn17zr3zJ117zj3fMzFZFUqm7KqsrJxSlGSy6urqAABVVVXYvXs3zp8/P2ECV1dXB6PRmPjbaDQmvjNdYiGU06xXzgziwpAd939sKVYS7lnFlBv1mt2o0OvINjPmwF8wy/U6VBJt5CyE1ZQV5pFuutxndqOUkMlxfHuWFuSRbWbMgWeWFOTRbTwcD6cqLtCSMQU7i/O1pJsZ95rdKMrXkm1mzHF8v+t1WrLNjDnwoU96nZZuM+P4WNLrNGSLYEIfFeo0ZJsZC8d7QZ4my8bDUqAcTWGlZCRoCitNYHI0hZUmMONjKV+rRqOSwkrJTG68WJOSwkqT1UdQrClZgp06LWVhJS5RrElJEaSJRJpiTROYXG4KKzExpZLP54PH40n8/t5776G1tXXCZ3bt2oWXX34ZHMehra0NJSUlqK2tnVY72RO4aVTHiB2//WgAN7TWYteqBTNtDlMaJa/hUeUGJDN7THz+huINU5O+L9iplDnRdxeJnclfp7IzWXS+J7WnyY2lNdS+u2av75P6iKTfk37n7Swm2Hw3uY9caKkpUcycMj4JmMkS+ojSzh6zi6Sw0uQxP1sLK00eSyTFmiacP10kxZom20lRrGkCk6pY06QxT8FMHktUxZomnz+pCysxMaWS1WrF1772NQBANBrF/v37sWPHDrzwwgsAgHvuuQc7d+7E22+/jd27d6OwsBA/+MEPpt1ONoGbJrn9Yfz86CUsKNfjCztaSW/imLJJXkKzNxiB0enH9hV0j8V9AnM5HdMfisLg8OOGVrrVH38oilGHH9cvo2MGwlEY7D5ct7SGkBnBqN2HbS3VdMxIFCN2H7YSMoNx5pYlhHaGoxi2e7F5cRUZMxiJYsjmxaZNqUsny1EoEsOwzYv9G5vomNEYhmxe7CNkhuPMvRsayZiRaAyDVi/2rKdjhqNcnNlAxoxEOQxYPbhtHR0zGuOLIH2clMlh0OrB7rW0zAGLB7euWUjK7Ld4cMsauoXaGBdnrqZjRmNAv8WDmwkXlGMxYMDiwc6V9dk/LJbJ8cWadohmsiImTPLV1NSEV155Zcrr99xzT+J3lUqFJ554YjrNmiK2lDFNev5EDzzBCB6+dSVpSWEmsZI+YR6w8I/Qley3k46pZL+ddMwl1XT5BrmykwNtew5avHEmne8CU8l+UCmZHLCEcC+sIWucSdieApPS9yGrFzGOto/GmXS+D9u8iMY40j5KMAntHLHzzMWEx7vApLXThwg10+ZDOMqR7ik3aueZlONzNF5YiXIsCUzKc7LBwRdrouwjQ7xgEWV7Gh1+nknYnkxMc11sAjcN+qDHjJO9Y7hrS7PCzWGZpkPCVG/Ayk9ilGxqOw5VTWBS3IBMtVN5boDwYJjSTkEJOwmOASFch7KPpvpOl2uRWzvpx9JikvPU5D6a3eOz30LfR6TMeHsKzKvJ9+k5f+bgOCLxnZ45PefPHFw7sjJZZBPT1SM2gcuxnL4Qnn+3B0trS0jDfZhyr36LBxV6HcoKdaTMcr0OZXpaZllhHiqIiqIIzNLCPJQT21lakIeKIlpmSUEeKomZxQVasiIzCWa+lrTITL/Fg6IcMamKzAhMvY6uIMw4U0POLNRpUENYZGbA4kVBnoa0cE2CSVRkJplZR1VkJs7M16rpCteA76NcMRcQM3VaNRYQFYQRmHma3DCpiuGMM1VkhYAEplatIiuGw8Q0H8QmcDnWCx/0IRCO4ks3r1CczMw0TYovJQ7bfDSrxxhfFyRlquiZggQmRa6msNpLypzgexFpTumwzYfFVbmwk6o96ZlI7qMqmvbMdR8tykUfVVEUWhkf80M2L5qri0iLogzZvFhURcMUEKRMJDOp2pOX0O8UhVaSmU1VRTTFW5LGUlMlDTP5/LmoqojkPkI1yU7Ke5Nhmw+NlUUkxUaS+4iKycQ0X8SOhhzq0qgDJ7rN2LexEQvZytGcFPXECACac1AGORd2UobACLqa7WS+02rO+J6DsPm54ntu7MzB+fMq7qO50p658J2JaS6LTeBypEg0hudP9KC6OB+f3LRops25usXJr0iVi4vwXGHm5qZmbkxe58zNLFsMIGbSt+dc8X3OTLbmjO9zoz3niu/S7GRVKJnmv9gELkc62jGKYZsP99+4FPms6uQskPgQkeRPUl0wk6OIZvMqf/JePrnwfdFs9j0HfTRhLJFNtpL7aPb6nqzc9BHR+Exuz1n85CDX45Nsg2RVDsZn0u9kfZSD89LEsZSDa8dsHp9Jv5NNClX07cnENF/EJnA5kDcYwX+dHsS6xgrSPZqYpl+URRISTMKCBoIoCxoIoixoIIiy+EAumZQFDRJMwkIBuWRSFjQQRFnQQFAu7MxFkYRcMBtzwaykv0GeK8ymXDBzMOHIiZ1zxHdxk2xWZ4Dp6tGMbOT9yCOP4MqVKwAAt9uNkpIS/O53vwMAPPfcc3jxxRehVqvxne98B9u3b58JExXptbYheIMRfO66JWzD7jmsgjwNef/ptGrSggYAkKdRkTM1anqmWgVypgqgKT4wSXOFmYvCSLlg5qL4AGPSKm+OMHXaucKkj7zJRTRPLpi52OuW7Z/LxDRRMzKB+4d/+IfE70899RSKi/mVlZ6eHhw+fBiHDx+GyWTCwYMHceTIEWg0c+fAtXmC+MP5EdzQWsuSbueouHjOHFlIEYBYPCSfMgRGSO2j3FuQi+cO5MLOXBwPlCGZ4+05N1a5c/EUJhfFlnLx9C0XT10pS/0LysUT/GrCbSOEEDXKrSiE6T/ldiEClHL7FSHcsbQwj44Zt7OkgI4pqDif7nZN6CO9jvAWMO485URLsDM/BxNsJqa5rhk9KjiOw+9//3vs378fAHDs2DHs27cPOp0OTU1NaG5uxvnz52fSRMl66aMBxDgOn97aPNOmMMmUwekHQJvcbYozKZPQTTmxMwCA1k6zK+474aTQ7OLtpCyKMuYWfCe0003fnpYc2CkwFxNOXq2eIABaO3PBtHl5JuVx5PCFcsak9N3hpWc6c+C70x/mmYTj0+Wn990Vt5PyeHcHBCadnZ5gBADt+dMbjPcRoZ3euJ1sMZyJaapmdAL30UcfoaqqCosXLwYAmEwm1NfXJ96vq6uDyWRK+d1Dhw7hzjvvxJ133oloNDId5orSqMOH/RubUFtKv0LMJFfSKlItrysFAGxfUUdmwbK6EgDAzpX1WT4pXq31peRMwc6bVi0gY7bU8sybV9HZOc4ktLOGZ96yOhfMhWTMxTX8zcwta+jsXBy389Y1hHbGb7oomcIiwG5C34UnrrvX0tkpPHGlZAq5X59Y10DI1MeZdHYKOX+Udgr5jns2NJIxhfzRvevp7KyPP23eS2in8LSZklkXvz/Zt7GJjCnc8+wnZfJPsG/fJI2pYlUoma4CqThOQY31DHrggQdgsVimvP7II4/g1ltvBQA88cQTaG5uxhe+8AUAwJNPPokNGzbgwIEDAIDHHnsMO3bswG233Zbx/4rFOFitHmIP5CkW43KS68IkXyXuP0Ne5CRsFeKf5lYuWQjblVFSOxiTMRmTMRmTMRkzN0xN5CIqndfCVfw8gvl3ktrBNH9UE1+wnOvK2QQumyKRCHbs2IGXXnop8dTtueeeAwB86UtfAgA8+OCDePjhh7Fp06aMrNk0gWOafZIzgWNiYmJiYmKaO9JELqHSuY1N4Jgyar5M4GYshPL9999HS0vLhJDJXbt24fDhwwiFQhgaGkJ/fz/Wr18/UyYyXcUq+I//zZiMyZiMyZiMyZjzjMnENB80YxO4119/Hfv27ZvwWmtrK/bs2YO9e/fioYcewuOPPz6nKlAyzR9pz51lTMZkTMZkTMZkzHnGZGKaD5qxEEpKsRBKpkxiIZRMTExMTEzzWyyEkkmMWAglE9OcEYfxHWXEqeyOveRWMCZjMiZjMiZjMmaumXP+uQQTU1Zpvve9731vpo1QKo4D/PE9XZiYJis/9Ao0sVH4C78i+juxpkWILaLdy48xGZMxGZMxGZMxc8NUx6woDP4rgro7ENWuJrWDaf6oqCh/pk0gEXsCx8SUQtGlyxiTMRmTMRmTMRlznjGZmOaD2ASOiSmFynfvZEzGZEzGZEzGZMx5xmRimg9iRUyY5r1K3A8hL/IhbBXnZtoUJiYmJiYmphxIE+lCpXMrXMX/G8H8u2baHKZZKlbEhIlpzkj6GkXhz39KbgVjMiZjMiZjMiZj5po5559LMDFlFZvAMV0V4iRWoVQbDeQ2MCZjMiZjMiZjMubMMpmY5oNYCCXTvFeJ+0FoI6dhr2ibaVOYmJiYmJiYciBNtBuVji1wFf87gvmfnmlzmGapWAglE9M8VvmtOxiTMRmTMRmTMRlznjGZmOaD2D5wTPNe+aFXoI4ZECj8sujvRDZsRKx+AakdjMmYjMmYjMmYjJkbppqzojDwLwjqDrB94JjSiu0Dx8Q0j8UVFzMmYzImYzImYzLmPGMyMc0HsQkc01Ug6WmepZ//LLkVjMmYjMmYjMmYjJlr5pwv7cA0gzIYDLj//vuxd+9e7Nu3D7/4xS+mfObkyZO45pprcODAARw4cADPPPPMtNvJipgwzXuVuL8AbeQs7BVnZ9oUJiYmJiYmphxovIjJvyGY///au/+gqut8j+OvA4gaP1JcAdvlmj/wTkv+qGx0nVkdTwIqIvgr6na9SliWmaGmkzpa64qFtdra7DXSMbpu26ITmEKTm7Cit/VHlsb662pbrjALx18gIAWcc773D6dTLqxKnsMXvjwfM87I4fDkDd8J+/D9nO93mtnjoI262UVMzp8/rwsXLigmJka1tbWaMmWKfve736l///6e5xw8eFCbN29WVlaWr8f9lzgDBzTjjjWradKkSZMmTZrtptmy2wUBzQkPD1dMTIwkKTg4WH379pXD4TB5qqZYwAEAAADAD5SVlenkyZMaPHhwk/cdPXpUEydO1KxZs3TmzJlWn40tlLA8tlACAGBt/q4zCqt6gC2UuCF//0bNmjXL83ZKSopSUlKaPO/q1auaPn26nnrqKcXFxV33vtraWtlsNgUFBam4uFgZGRn605/+5PPZf4gzcEAzug+/jyZNmjRp0qRpsSY6trCwMOXm5nr+NLd4a2xs1Lx585SYmNhk8SZd21oZFBQkSRo1apScTqcuX77s89l/iAUcOoCWn2Sufner16egSZMmTZo0afq62e43lsFEhmFo2bJl6tu3r1JTU5t9zoULF/TdBsaSkhK53W517969NcdUQKt+NsA0LXtxs63W+1tyadKkSZMmTZrmNoEb+eyzz/TBBx9owIABSkpKkiQtWLBA//jHPyRJjz76qHbt2qX33ntP/v7+6tKli9auXSubrXUvosNr4GB5ITWpCnB+ocrun9/yx3QbM1JVu/d6dQ6aNGnSpEmTpm+a378GbpPqO3v/nnSwhpvdRqC9YAEHy/sxCzgAANB+sIDDrbDKAo7XwAHNCFqxlCZNmjRp0qRpsSZgBSzg0AG0/CSzO7KX16egSZMmTZo0afq62e43lgE3xRZKWF5IzUwFOP+qyu6fmT0KAADwge+3UG5Ufeeml4YHJLZQApYWNnAATZo0adKkSbPdNFv3KoCAmTgDB8v7MWfg/CrKvb4dhCZNmjRp0qTpm6a/60uFVd3PGTjcEGfgAAvz/9uXNGnSpEmTJk2LNQErMGUBd/LkST388MNKSkrS5MmTVVJSIuna3c9XrVql2NhYJSYm6vjx42aMB+iOV1+mSZMmTZo0aVqsCViBKVsoH3/8cc2YMUOjRo1ScXGxNm3apC1btqi4uFhbtmzRxo0b9cUXXygjI0Pbtm27aY8tlLgRLmICAIC1fb+F8i3Vd37E7HHQRrGF8jbYbDZdvXpVklRTU6Pw8HBJUmFhoZKTk2Wz2TRkyBBVV1fr/PnzZowIq7G17MXNwQvneX0EmjRp0qRJk6a5TcAKAsz4pEuXLlVaWpoyMzPldrv1xz/+UZLkcDgUGRnpeV5kZKQcDodngQe0Fufg+2jSpEmTJk2a7aRpcBVKdCA+20I5c+ZMXbx4scnj6enpOnDggB588EHFx8frww8/1NatW5Wdna3Zs2friSee0NChQyVJM2bM0PPPP6+BAwc26eTk5CgnJ8fz96qqb33xZcACQmpmKsB1TJXdDps9CgAA8AE/19/Uo+o+tlDihthCeRPZ2dnKz89v8mfMmDHKy8tTXFycJGncuHGei5hERESooqLC06ioqFBERESz/ZSUFOXm5io3N1f+/qacSISF9ehzF02aNGnSpEnTYk3ACkx5DVx4eLgOHTokSTpw4IDuvvtuSZLdbtf27dtlGIaOHj2qkJAQtk/CFJf/+n80adKkSZMmTYs1ASswZQH361//WpmZmZo4caLWrl2rlStXSpJGjRqlqKgoxcbGavny5XrxxRfNGA+W0/Jdwp0++V+vT0GTJk2aNGnS9HWz1S+uDrQ6UxZwQ4cOVW5urnbs2KFt27bp3nvvlXTt6pQvvviidu/erZ07dzb72jfgx2nZi5u7bHnb6xPQpEmTJk2aNH3V5CIm6DhMuQ+ct3EfONxISM0MBbhOqLLbp2aPAgAAfMDP9ZV6VA1RdXCW6js/avY4aKO4iAlgYSFPPU6TJk2aNGnStFgTsAIWcEAzGmLH0qRJkyZNmjQt1gSsgC2UsLzQmv+Sv+skWygBALCo77dQvqn6zv9h9jhoo9hCCVhYz/BQmjRp0qRJk6bFmoAVcAYOlnftDNwpVXY7ZPYoAADAB/xcX6tH1WDOwOGGOAMHWFjn97fSpEmTJk2aNC3WBKyABRzQjMCPP6JJkyZNmjRpWqwJWAFbKGF5bKEEAMDa2EKJW8EWSqDdaPnvKEL/82GvT0GTJk2aNGnS9HGz/Z+XAG7K/6WXXnrJ7CFul2FI33zTYPYYaKM6N+TJz7ikb7s8ccsfYwQFy9U/2qtz0KRJkyZNmjR907QZVbrj2zdVHzhBroBBXp0D1hEU1NnsEbyCLZSwvNCa6fJ3nVZlt4O3/DG22hoZwd49zU6TJk2aNGnS9E3Tz3VWPaoGqTpog+q7PObVOWAdbKEELCxs4L/TpEmTJk2aNC3WBKyAM3CwvB9zBg4AALQfnIHDrbiVM3B79+5VRkaG3G63pk2bpieffPK69zc0NGjx4sU6fvy4unXrpnXr1ulnP/uZr0ZuFmfggGZ0+Z+3adKkSZMmTZoWawI34nK5tHLlSm3atEkFBQXKz8/Xl19+ed1ztm3bptDQUH388ceaOXOmXnvttVafM6DVP6PFBdc+owDXKbPHwA/4u87I7derRR8T8MURSalenYMmTZo0adKk6dtm0DeZ6lq/2atz4PbUdV2ohsDxZo9xS0pKStS7d29FRUVJkhISElRYWKj+/ft7nlNUVKS5c+dKkuLj47Vy5UoZhiGbzdZqc7KF0suCrr7AAq4NaugUp2+6zjF7DAAA4AtGo0Jq58jPuGD2JPgndV2eVWPgQ2aPIUny92/UrFmzPG+npKQoJSXF8/ZHH32kffv2KSMjQ5K0fft2lZSUaMWKFZ7nTJgwQZs2bVJkZKQkacyYMdq6davCwsJa6avgDJzXXQ16xewR4AV3Jo/Xle0f0qRJkyZNmjTbQ9PWSTUhG736+WE9YWFhys3NNXuM28Z94IBmuKP+Te5/602TJk2aNGnStFATHdvN7gNXU1OjoqIiJSUlSZKKi4sVHBysoUOHep5TWFion//85+rVq5ecTqc2bNigZ599tlW3UHIRE6AZrn79b/4kmjRp0qRJk2a7agI3MnDgQJ09e1alpaVqaGhQQUGB7Hb7dc+x2+3Ky8uTJO3atUvDhw9v1cWbxAIOaFa32FE0adKkSZMmTYs1gRsJCAjQihUrNGvWLI0fP17jxo1TdHS0fvvb36qwsFCSNHXqVFVVVSk2NlZvv/22nn/++Vafk4uYAAAAALC8W7kPXHvAGTigGV3/+w2aStu1BQAADIdJREFUNGnSpEmTpsWagBWwgAOa4VdRTpMmTZo0adK0WBOwArZQAgAAALA8tlACFtZtzEiaNGnSpEmTpsWagBVwHzigGc7BQ+SO7EWTJk2aNGnStFATHdvN7gPXXphyBu7UqVNKSUlRYmKinnrqKdXWfr/9MSsrS7GxsYqPj9e+ffvMGA+QERxMkyZNmjRp0rRYE7ACUxZwy5Yt08KFC7Vz506NGTNGmzZtkiR9+eWXKigoUEFBgTZt2qRf/epXcrlcZoyIDi70sYdp0qRJkyZNmhZrAlZgykVMHnjgAR0+fFg2m03l5eVKS0vThx9+qKysLEnS7NmzJUlpaWmaO3eu7rvvvhv2uIgJAAAAgBvhIia3ITo62nM3848++kjl5dcuE+twOBQZGel5XkREhBwOhxkjooO7Y81qmjRp0qRJk6bFmoAV+OwM3MyZM3Xx4sUmj6enp6tPnz7KyMhQVVWV7Ha7tmzZooMHD2rlypUaPHiwkpKSJElLly7VyJEjNXbs2CadnJwc5eTkSJLef/992Ww2X3wZAAAAANBmBPgqnJ2dfcP3b968WZL09ddfa8+ePZKunXGrqKjwPMfhcCgiIqLZj09JSVFKSopXZgUAAACA9sCULZSXLl2SJLndbm3YsEGPPPKIJMlut6ugoEANDQ0qLS3V2bNnNWjQIDNGBAAAAIA2x2dn4G4kPz9ff/jDHyRJsbGxmjJliqRrr40bN26cxo8fL39/f61YsUL+/v5mjAgAAAAAbY4pV6EEAAAAALScKVsoAQAAAAAtxwIOAAAAANoJFnBetHfvXsXHxys2NlZvvfWW2eN0KEuWLNEvfvELTZgwwfNYVVWVUlNTFRcXp9TUVF25ckWSZBiGVq1apdjYWCUmJur48eNmjW1p5eXlmj59usaPH6+EhAS98847kjguZqqvr9fUqVM1ceJEJSQkaP369ZKk0tJSTZs2TbGxsUpPT1dDQ4MkqaGhQenp6YqNjdW0adNUVlZm5viW53K5lJycrNmzZ0viuJjNbrcrMTFRSUlJmjx5siR+frUF1dXVmjdvnsaOHatx48bpyJEjHBcTffXVV0pKSvL8uf/++5Wdnc0x8TUDXuF0Oo2HHnrIOHfunFFfX28kJiYaZ86cMXusDuPQoUPGsWPHjISEBM9jmZmZRlZWlmEYhpGVlWWsWbPGMAzD2LNnj5GWlma43W7jyJEjxtSpU02Z2eocDodx7NgxwzAMo6amxoiLizPOnDnDcTGR2+02amtrDcMwjIaGBmPq1KnGkSNHjHnz5hn5+fmGYRjG8uXLjXfffdcwDMP4/e9/byxfvtwwDMPIz883nnvuOXMG7yA2b95sLFiwwHjyyScNwzA4LiYbPXq0cenSpese4+eX+RYvXmxs3brVMAzDqK+vN65cucJxaSOcTqcxYsQIo6ysjGPiY5yB85KSkhL17t1bUVFRCgwMVEJCggoLC80eq8N48MEHdeedd173WGFhoZKTkyVJycnJ2r1793WP22w2DRkyRNXV1Tp//nyrz2x14eHhiomJkSQFBwerb9++cjgcHBcT2Ww2BQUFSZKcTqecTqdsNpsOHDig+Ph4SdKkSZM8P7uKioo0adIkSVJ8fLz2798vg+te+URFRYX27NmjqVOnSrr2W2qOS9vDzy9z1dTU6NNPP/X8dxIYGKjQ0FCOSxuxf/9+RUVF6ac//SnHxMdYwHmJw+FQZGSk5+2IiAg5HA4TJ8KlS5cUHh4uSerZs6fn/oP/fKwiIyM5Vj5WVlamkydPavDgwRwXk7lcLiUlJWnEiBEaMWKEoqKiFBoaqoCAa3eV+eH33eFwqFevXpKkgIAAhYSEqLKy0rTZrWz16tVatGiR/Pyu/bNcWVnJcWkD0tLSNHnyZOXk5Eji3xWzlZWVKSwsTEuWLFFycrKWLVumuro6jksbUVBQ4HkpC8fEt1jAoUOw2Wyy2Wxmj9EhXb16VfPmzdPSpUsVHBx83fs4Lq3P399fH3zwgYqLi1VSUqKvvvrK7JE6vD//+c8KCwvTvffea/Yo+IH33ntPeXl52rhxo9599119+umn172fn1+tz+l06sSJE3r00Ue1fft2de3atck1Bzgu5mhoaFBRUZHGjh3b5H0cE+9jAeclERERqqio8LztcDgUERFh4kTo0aOH57T8+fPnFRYWJqnpsaqoqOBY+UhjY6PmzZunxMRExcXFSeK4tBWhoaEaNmyYjh49qurqajmdTknXf98jIiJUXl4u6dr/ONXU1Kh79+6mzWxVn3/+uYqKimS327VgwQIdOHBAGRkZHBeTfff97tGjh2JjY1VSUsLPL5NFRkYqMjJSgwcPliSNHTtWJ06c4Li0AXv37lVMTIx+8pOfSOLfel9jAeclAwcO1NmzZ1VaWqqGhgYVFBTIbrebPVaHZrfbtX37dknS9u3b9dBDD133uGEYOnr0qEJCQjyn+eE9hmFo2bJl6tu3r1JTUz2Pc1zMc/nyZVVXV0uSvv32W/3lL39Rv379NGzYMO3atUuSlJeX5/nZZbfblZeXJ0natWuXhg8fzm9RfWDhwoXau3evioqKtHbtWg0fPly/+c1vOC4mqqurU21trefvn3zyiaKjo/n5ZbKePXsqMjLSs3Ng//796tevH8elDSgoKFBCQoLnbY6Jb9kMXvnsNcXFxVq9erVcLpemTJmip59+2uyROowFCxbo0KFDqqysVI8ePfTss89qzJgxSk9PV3l5ue666y69/vrr6tatmwzD0MqVK7Vv3z517dpVq1ev1sCBA83+Eizn8OHDeuyxxzRgwADP63oWLFigQYMGcVxMcurUKb3wwgtyuVwyDENjx47V3LlzVVpaqvnz5+vKlSu655579NprrykwMFD19fVatGiRTp48qTvvvFPr1q1TVFSU2V+GpR08eFCbN29WVlYWx8VEpaWleuaZZyRde93ohAkT9PTTT6uyspKfXyY7efKkli1bpsbGRkVFRenll1+W2+3muJiorq5Oo0eP1u7duxUSEiJJ/LfiYyzgAAAAAKCdYAslAAAAALQTLOAAAAAAoJ1gAQcAAAAA7QQLOAAAAABoJ1jAAQAAAEA7wQIOAAAAANqJALMHAAB0PJWVlZo5c6Yk6eLFi/Lz81NYWJjOnTunpKQkvfTSS17/nNnZ2erWrZuSk5NvqzN//nw999xzuvvuu70zGAAALcB94AAApnrjjTd0xx13KC0tzWefw+l0atKkScrLy1NAwO397vLQoUPasWOHVq1a5aXpAAC4dZyBAwC0GQcPHtTmzZuVlZWlN954Q2VlZSotLVV5ebmWLFmio0ePat++fQoPD9ebb76pTp066dixY3rllVdUV1en7t276+WXX1Z4ePh13QMHDigmJsazeJs+fbruueceHT58WN98840yMzP11ltv6fTp0xo3bpzmz5+vuro6paenq6KiQm63W3PmzNH48eM1dOhQvfDCC3I6nbe9GAQAoKV4DRwAoM06d+6c3nnnHW3YsEGLFi3SsGHDtHPnTnXp0kXFxcVqbGzUqlWrtH79euXm5mrKlClat25dk87nn3+umJiY6x7r1KmTcnNz9cgjj2jOnDlasWKF8vPzlZeXp8rKSs9CcceOHcrPz9cvf/lLSZKfn5969+6tU6dOtcr3AACAH+JXhwCANmvkyJHq1KmTBgwYIJfLpZEjR0qSBgwYoLKyMn399dc6ffq0UlNTJUlut1s9e/Zs0rlw4YL69et33WN2u93Tio6O9py1i4qKUkVFhQYMGKDMzEy9+uqrGj16tIYOHer52LCwMJ0/f94nXzMAADfCAg4A0GYFBgZKunbWq1OnTrLZbJ63XS6XDMNQdHS0cnJybtjp3Lmz6uvr/2X7u79/97bT6VSfPn2Um5ur4uJivf766xo+fLjmzp0rSWpoaFCXLl289nUCAHCr2EIJAGi3+vTpo8uXL+vIkSOSpMbGRp05c6bJ8/r166e///3vLWo7HA517dpVSUlJSktL04kTJzzvO3v2rKKjo29veAAAfgTOwAEA2q3AwECtX79eq1atUk1NjVwul2bMmNFkcTVy5EgtXry4Re3Tp09rzZo18vPzU0BAgOfWBhcvXlTnzp2b3aoJAICvcRsBAECH8Mwzz2jRokW3ff+27OxsBQUFadq0ad4ZDACAFmALJQCgQ1i4cKEuXLhw252QkBBNmjTJCxMBANBynIEDAAAAgHaCM3AAAAAA0E6wgAMAAACAdoIFHAAAAAC0EyzgAAAAAKCdYAEHAAAAAO3E/wNcYQF2nAPAWwAAAABJRU5ErkJggg==\n",
                  "text/plain": "<Figure size 1008x432 with 2 Axes>"
                },
                "metadata": {}
              }
            ],
            "_view_module": "@jupyter-widgets/output",
            "_model_module_version": "1.0.0",
            "_view_count": null,
            "_view_module_version": "1.0.0",
            "layout": "IPY_MODEL_599036f9a48e4048aed657c3a08a528f",
            "_model_module": "@jupyter-widgets/output"
          }
        },
        "f96c278c2722426388f809009615f5db": {
          "model_module": "@jupyter-widgets/controls",
          "model_name": "SliderStyleModel",
          "model_module_version": "1.5.0",
          "state": {
            "_view_name": "StyleView",
            "handle_color": null,
            "_model_name": "SliderStyleModel",
            "description_width": "200px",
            "_view_module": "@jupyter-widgets/base",
            "_model_module_version": "1.5.0",
            "_view_count": null,
            "_view_module_version": "1.2.0",
            "_model_module": "@jupyter-widgets/controls"
          }
        },
        "1c627f233f0f47a7987083fd2c7656cd": {
          "model_module": "@jupyter-widgets/base",
          "model_name": "LayoutModel",
          "model_module_version": "1.2.0",
          "state": {
            "_view_name": "LayoutView",
            "grid_template_rows": null,
            "right": null,
            "justify_content": null,
            "_view_module": "@jupyter-widgets/base",
            "overflow": null,
            "_model_module_version": "1.2.0",
            "_view_count": null,
            "flex_flow": null,
            "width": "800px",
            "min_width": null,
            "border": null,
            "align_items": null,
            "bottom": null,
            "_model_module": "@jupyter-widgets/base",
            "top": null,
            "grid_column": null,
            "overflow_y": null,
            "overflow_x": null,
            "grid_auto_flow": null,
            "grid_area": null,
            "grid_template_columns": null,
            "flex": null,
            "_model_name": "LayoutModel",
            "justify_items": null,
            "grid_row": null,
            "max_height": null,
            "align_content": null,
            "visibility": null,
            "align_self": null,
            "height": null,
            "min_height": null,
            "padding": null,
            "grid_auto_rows": null,
            "grid_gap": null,
            "max_width": null,
            "order": null,
            "_view_module_version": "1.2.0",
            "grid_template_areas": null,
            "object_position": null,
            "object_fit": null,
            "grid_auto_columns": null,
            "margin": null,
            "display": null,
            "left": null
          }
        },
        "9a238f67f4214f6eba715b48d8c66dc3": {
          "model_module": "@jupyter-widgets/controls",
          "model_name": "SliderStyleModel",
          "model_module_version": "1.5.0",
          "state": {
            "_view_name": "StyleView",
            "handle_color": null,
            "_model_name": "SliderStyleModel",
            "description_width": "200px",
            "_view_module": "@jupyter-widgets/base",
            "_model_module_version": "1.5.0",
            "_view_count": null,
            "_view_module_version": "1.2.0",
            "_model_module": "@jupyter-widgets/controls"
          }
        },
        "a24ec601fac840e4a2dbc4f1cd06c925": {
          "model_module": "@jupyter-widgets/base",
          "model_name": "LayoutModel",
          "model_module_version": "1.2.0",
          "state": {
            "_view_name": "LayoutView",
            "grid_template_rows": null,
            "right": null,
            "justify_content": null,
            "_view_module": "@jupyter-widgets/base",
            "overflow": null,
            "_model_module_version": "1.2.0",
            "_view_count": null,
            "flex_flow": null,
            "width": "800px",
            "min_width": null,
            "border": null,
            "align_items": null,
            "bottom": null,
            "_model_module": "@jupyter-widgets/base",
            "top": null,
            "grid_column": null,
            "overflow_y": null,
            "overflow_x": null,
            "grid_auto_flow": null,
            "grid_area": null,
            "grid_template_columns": null,
            "flex": null,
            "_model_name": "LayoutModel",
            "justify_items": null,
            "grid_row": null,
            "max_height": null,
            "align_content": null,
            "visibility": null,
            "align_self": null,
            "height": null,
            "min_height": null,
            "padding": null,
            "grid_auto_rows": null,
            "grid_gap": null,
            "max_width": null,
            "order": null,
            "_view_module_version": "1.2.0",
            "grid_template_areas": null,
            "object_position": null,
            "object_fit": null,
            "grid_auto_columns": null,
            "margin": null,
            "display": null,
            "left": null
          }
        },
        "28261aae3887426581e6fb8d5e330b5a": {
          "model_module": "@jupyter-widgets/controls",
          "model_name": "SliderStyleModel",
          "model_module_version": "1.5.0",
          "state": {
            "_view_name": "StyleView",
            "handle_color": null,
            "_model_name": "SliderStyleModel",
            "description_width": "200px",
            "_view_module": "@jupyter-widgets/base",
            "_model_module_version": "1.5.0",
            "_view_count": null,
            "_view_module_version": "1.2.0",
            "_model_module": "@jupyter-widgets/controls"
          }
        },
        "60606ef650d9486e9bf97bb4ca36595f": {
          "model_module": "@jupyter-widgets/base",
          "model_name": "LayoutModel",
          "model_module_version": "1.2.0",
          "state": {
            "_view_name": "LayoutView",
            "grid_template_rows": null,
            "right": null,
            "justify_content": null,
            "_view_module": "@jupyter-widgets/base",
            "overflow": null,
            "_model_module_version": "1.2.0",
            "_view_count": null,
            "flex_flow": null,
            "width": "800px",
            "min_width": null,
            "border": null,
            "align_items": null,
            "bottom": null,
            "_model_module": "@jupyter-widgets/base",
            "top": null,
            "grid_column": null,
            "overflow_y": null,
            "overflow_x": null,
            "grid_auto_flow": null,
            "grid_area": null,
            "grid_template_columns": null,
            "flex": null,
            "_model_name": "LayoutModel",
            "justify_items": null,
            "grid_row": null,
            "max_height": null,
            "align_content": null,
            "visibility": null,
            "align_self": null,
            "height": null,
            "min_height": null,
            "padding": null,
            "grid_auto_rows": null,
            "grid_gap": null,
            "max_width": null,
            "order": null,
            "_view_module_version": "1.2.0",
            "grid_template_areas": null,
            "object_position": null,
            "object_fit": null,
            "grid_auto_columns": null,
            "margin": null,
            "display": null,
            "left": null
          }
        },
        "599036f9a48e4048aed657c3a08a528f": {
          "model_module": "@jupyter-widgets/base",
          "model_name": "LayoutModel",
          "model_module_version": "1.2.0",
          "state": {
            "_view_name": "LayoutView",
            "grid_template_rows": null,
            "right": null,
            "justify_content": null,
            "_view_module": "@jupyter-widgets/base",
            "overflow": null,
            "_model_module_version": "1.2.0",
            "_view_count": null,
            "flex_flow": null,
            "width": null,
            "min_width": null,
            "border": null,
            "align_items": null,
            "bottom": null,
            "_model_module": "@jupyter-widgets/base",
            "top": null,
            "grid_column": null,
            "overflow_y": null,
            "overflow_x": null,
            "grid_auto_flow": null,
            "grid_area": null,
            "grid_template_columns": null,
            "flex": null,
            "_model_name": "LayoutModel",
            "justify_items": null,
            "grid_row": null,
            "max_height": null,
            "align_content": null,
            "visibility": null,
            "align_self": null,
            "height": null,
            "min_height": null,
            "padding": null,
            "grid_auto_rows": null,
            "grid_gap": null,
            "max_width": null,
            "order": null,
            "_view_module_version": "1.2.0",
            "grid_template_areas": null,
            "object_position": null,
            "object_fit": null,
            "grid_auto_columns": null,
            "margin": null,
            "display": null,
            "left": null
          }
        }
      }
    }
  },
  "nbformat": 4,
  "nbformat_minor": 0
}